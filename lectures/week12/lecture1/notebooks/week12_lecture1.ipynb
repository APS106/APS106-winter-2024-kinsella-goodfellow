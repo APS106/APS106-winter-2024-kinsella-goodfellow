{
 "cells": [
  {
   "cell_type": "markdown",
   "metadata": {
    "collapsed": true
   },
   "source": [
    "# APS106 - Fundamentals of Computer Programming\n",
    "## Week 12 | Lecture 1 (12.1) - linked lists and binary trees\n",
    "\n",
    "### This Week\n",
    "| Lecture | Topics | Reading |\n",
    "| --- | --- | --- | \n",
    "| **12.1** | **Linked Lists and Binary Trees** | **Chapter 14**  |\n",
    "| 12.2 | Binary Search Trees | Chapter 14 | \n",
    "| 12.3 | Design Problem: 20 Questions |  |\n",
    "\n",
    "### Lecture Structure\n",
    "1. [Node Class](#section1)\n",
    "2. [Linked List Class](#section2)\n",
    "3. [Breakout Session](#section3)\n",
    "4. [Tree Node Class](#section4)\n",
    "5. [Binary Tree Class](#section5)"
   ]
  },
  {
   "cell_type": "markdown",
   "metadata": {},
   "source": [
    "<a id='section1'></a>\n",
    "## 1. Node Class\n",
    "Here is a simplified version of the `Node` class from last week."
   ]
  },
  {
   "cell_type": "code",
   "execution_count": 1,
   "metadata": {},
   "outputs": [],
   "source": [
    "class Node:\n",
    "\n",
    "    \"\"\"A class implementing a node in a linked list.\"\"\"\n",
    "\n",
    "    def __init__(self, cargo):\n",
    "        \"\"\"\n",
    "        (self, object) -> NoneType\n",
    "        Create a Node with cargo and whose next element is next.\n",
    "        \"\"\"\n",
    "        self.cargo = cargo\n",
    "        self.next = None\n",
    "        \n",
    "    def __str__(self):\n",
    "        return '(' + str(self.cargo) + ')'"
   ]
  },
  {
   "cell_type": "markdown",
   "metadata": {},
   "source": [
    "Now, let's create three nodes."
   ]
  },
  {
   "cell_type": "code",
   "execution_count": 2,
   "metadata": {},
   "outputs": [],
   "source": [
    "node1 = Node(4)\n",
    "node2 = Node(7)\n",
    "node3 = Node(2)"
   ]
  },
  {
   "cell_type": "markdown",
   "metadata": {},
   "source": [
    "And next, let's set the pointer `.next` for `node1` equal to the `node2` and the pointer `.next` for `node2` equal to the `node3`."
   ]
  },
  {
   "cell_type": "code",
   "execution_count": 3,
   "metadata": {},
   "outputs": [],
   "source": [
    "node1.next = node2\n",
    "node2.next = node3"
   ]
  },
  {
   "cell_type": "markdown",
   "metadata": {},
   "source": [
    "Let's now check our the `.cargo` for `node1`."
   ]
  },
  {
   "cell_type": "code",
   "execution_count": 4,
   "metadata": {},
   "outputs": [
    {
     "data": {
      "text/plain": [
       "'(4)'"
      ]
     },
     "execution_count": 4,
     "metadata": {},
     "output_type": "execute_result"
    }
   ],
   "source": [
    "node1.__str__()"
   ]
  },
  {
   "cell_type": "markdown",
   "metadata": {},
   "source": [
    "Or we could use `print`, which called the `__str__` method."
   ]
  },
  {
   "cell_type": "code",
   "execution_count": 5,
   "metadata": {},
   "outputs": [
    {
     "name": "stdout",
     "output_type": "stream",
     "text": [
      "(4)\n"
     ]
    }
   ],
   "source": [
    "print(node1)"
   ]
  },
  {
   "cell_type": "markdown",
   "metadata": {},
   "source": [
    "and the pointer for `Node 1`, which is `Node 2`."
   ]
  },
  {
   "cell_type": "code",
   "execution_count": 6,
   "metadata": {},
   "outputs": [
    {
     "name": "stdout",
     "output_type": "stream",
     "text": [
      "(7)\n"
     ]
    }
   ],
   "source": [
    "print(node1.next)"
   ]
  },
  {
   "cell_type": "markdown",
   "metadata": {},
   "source": [
    "and the pointer for `Node 2`, which is `Node 3`."
   ]
  },
  {
   "cell_type": "code",
   "execution_count": 7,
   "metadata": {},
   "outputs": [
    {
     "name": "stdout",
     "output_type": "stream",
     "text": [
      "(2)\n"
     ]
    }
   ],
   "source": [
    "print(node1.next.next)"
   ]
  },
  {
   "cell_type": "markdown",
   "metadata": {},
   "source": [
    "See, its `Node 3`."
   ]
  },
  {
   "cell_type": "code",
   "execution_count": 8,
   "metadata": {},
   "outputs": [
    {
     "name": "stdout",
     "output_type": "stream",
     "text": [
      "(2)\n"
     ]
    }
   ],
   "source": [
    "print(node3)"
   ]
  },
  {
   "cell_type": "markdown",
   "metadata": {},
   "source": [
    "<a id='section2'></a>\n",
    "## 2. Linked List Class\n",
    "Here is the linked list Class."
   ]
  },
  {
   "cell_type": "code",
   "execution_count": 9,
   "metadata": {},
   "outputs": [],
   "source": [
    "class LinkedList:\n",
    "    \n",
    "    \"\"\"A class that implements a linked list.\"\"\"\n",
    "    \n",
    "    def __init__(self):\n",
    "        \"\"\"\n",
    "        (self) -> NoneType\n",
    "        Create an empty linked list.\n",
    "        \"\"\"\n",
    "        self.length = 0\n",
    "        self.head = None\n",
    "        \n",
    "    def __str__(self):\n",
    "        \"\"\"\n",
    "        (self) -> str\n",
    "        Print out the entire linked list from head (left) to tail (right).\n",
    "        \"\"\"\n",
    "        if self.head is not None:\n",
    "            \n",
    "            string = ''\n",
    "            on = self.head\n",
    "            \n",
    "            while on is not None:\n",
    "                string += on.__str__() + ' --> '\n",
    "                on = on.next\n",
    "            else:\n",
    "                string += on.__str__()\n",
    "            \n",
    "            return string\n",
    "        else:\n",
    "            return 'empty list'\n",
    "        \n",
    "    \n",
    "    def add_to_head(self, cargo):\n",
    "        \"\"\"\n",
    "        (self, object) -> NoneType\n",
    "        Add cargo to the front of the list.\n",
    "        \"\"\"\n",
    "        node = Node(cargo)\n",
    "        node.next = self.head\n",
    "        self.head = node\n",
    "        self.length += 1\n",
    "        \n",
    "    def add_to_tail(self, cargo):\n",
    "        \"\"\"\n",
    "        (self, object) -> NoneType\n",
    "        Add cargo to the tail of the list.\n",
    "        \"\"\"\n",
    "        on = self.head\n",
    "        \n",
    "        while on.next is not None:\n",
    "            on = on.next\n",
    "            \n",
    "        on.next = Node(cargo)\n",
    "        \n",
    "    def get_at_index(self, index):\n",
    "        \"\"\"\n",
    "        (self, int) -> object\n",
    "        Return the cargo at a certain index.\n",
    "        \"\"\"\n",
    "        on = self.head\n",
    "        \n",
    "        while on is not None and index != 0:\n",
    "            on = on.next\n",
    "            index -= 1\n",
    "            \n",
    "        if on is not None:\n",
    "            return on.cargo\n",
    "        else:\n",
    "            return False\n",
    "    \n",
    "    def delete_by_cargo(self, cargo):\n",
    "        \"\"\"\n",
    "        (self, object) -> NoneType\n",
    "        Remove all nodes with certain cargo value.\n",
    "        \"\"\"\n",
    "        on = self.head\n",
    "        \n",
    "        while on is not None and on.next is not None:\n",
    "            \n",
    "            while on.next is not None and on.next.cargo == cargo:\n",
    "                on.next = on.next.next\n",
    "            \n",
    "            on = on.next"
   ]
  },
  {
   "cell_type": "markdown",
   "metadata": {},
   "source": [
    "### Creating an empty LinkedList"
   ]
  },
  {
   "cell_type": "code",
   "execution_count": 41,
   "metadata": {},
   "outputs": [
    {
     "name": "stdout",
     "output_type": "stream",
     "text": [
      "empty list\n"
     ]
    }
   ],
   "source": [
    "linked_list = LinkedList()\n",
    "\n",
    "print(linked_list)"
   ]
  },
  {
   "cell_type": "markdown",
   "metadata": {},
   "source": [
    "### Adding a node to the head"
   ]
  },
  {
   "cell_type": "code",
   "execution_count": 42,
   "metadata": {},
   "outputs": [
    {
     "name": "stdout",
     "output_type": "stream",
     "text": [
      "(7) --> (4) --> (2) --> None\n"
     ]
    }
   ],
   "source": [
    "linked_list = LinkedList()\n",
    "\n",
    "linked_list.add_to_head(2)\n",
    "linked_list.add_to_head(4)\n",
    "linked_list.add_to_head(7)\n",
    "\n",
    "print(linked_list)"
   ]
  },
  {
   "cell_type": "markdown",
   "metadata": {},
   "source": [
    "How many node are in this list?"
   ]
  },
  {
   "cell_type": "code",
   "execution_count": 43,
   "metadata": {},
   "outputs": [
    {
     "data": {
      "text/plain": [
       "3"
      ]
     },
     "execution_count": 43,
     "metadata": {},
     "output_type": "execute_result"
    }
   ],
   "source": [
    "linked_list.length"
   ]
  },
  {
   "cell_type": "markdown",
   "metadata": {},
   "source": [
    "### Adding a node to the tail\n",
    "First, let's create a linked list with one node."
   ]
  },
  {
   "cell_type": "code",
   "execution_count": 44,
   "metadata": {},
   "outputs": [
    {
     "name": "stdout",
     "output_type": "stream",
     "text": [
      "(2) --> None\n"
     ]
    }
   ],
   "source": [
    "linked_list = LinkedList()\n",
    "\n",
    "linked_list.add_to_head(2)\n",
    "\n",
    "print(linked_list)"
   ]
  },
  {
   "cell_type": "markdown",
   "metadata": {},
   "source": [
    "Now, let's  add to the tail."
   ]
  },
  {
   "cell_type": "code",
   "execution_count": 45,
   "metadata": {},
   "outputs": [
    {
     "name": "stdout",
     "output_type": "stream",
     "text": [
      "(2) --> (3) --> (1) --> (5) --> None\n"
     ]
    }
   ],
   "source": [
    "linked_list.add_to_tail(3)\n",
    "linked_list.add_to_tail(1)\n",
    "linked_list.add_to_tail(5)\n",
    "print(linked_list)"
   ]
  },
  {
   "cell_type": "markdown",
   "metadata": {},
   "source": [
    "Let's add one more."
   ]
  },
  {
   "cell_type": "code",
   "execution_count": 47,
   "metadata": {},
   "outputs": [
    {
     "name": "stdout",
     "output_type": "stream",
     "text": [
      "(2) --> (3) --> (1) --> (5) --> (9) --> (9) --> None\n"
     ]
    }
   ],
   "source": [
    "linked_list.add_to_tail(9)\n",
    "\n",
    "print(linked_list)"
   ]
  },
  {
   "cell_type": "markdown",
   "metadata": {},
   "source": [
    "### Get cargo at index"
   ]
  },
  {
   "cell_type": "code",
   "execution_count": 48,
   "metadata": {},
   "outputs": [
    {
     "name": "stdout",
     "output_type": "stream",
     "text": [
      "(2) --> (5) --> (3) --> (8) --> (7) --> None\n"
     ]
    }
   ],
   "source": [
    "linked_list = LinkedList()\n",
    "\n",
    "linked_list.add_to_head(7)\n",
    "linked_list.add_to_head(8)\n",
    "linked_list.add_to_head(3)\n",
    "linked_list.add_to_head(5)\n",
    "linked_list.add_to_head(2)\n",
    "\n",
    "print(linked_list)"
   ]
  },
  {
   "cell_type": "code",
   "execution_count": 49,
   "metadata": {},
   "outputs": [
    {
     "data": {
      "text/plain": [
       "8"
      ]
     },
     "execution_count": 49,
     "metadata": {},
     "output_type": "execute_result"
    }
   ],
   "source": [
    "linked_list.get_at_index(3)"
   ]
  },
  {
   "cell_type": "markdown",
   "metadata": {},
   "source": [
    "### Delete nodes with certain cargo"
   ]
  },
  {
   "cell_type": "code",
   "execution_count": 50,
   "metadata": {},
   "outputs": [
    {
     "name": "stdout",
     "output_type": "stream",
     "text": [
      "(2) --> (5) --> (3) --> (3) --> (8) --> (7) --> (3) --> None\n"
     ]
    }
   ],
   "source": [
    "linked_list = LinkedList()\n",
    "\n",
    "linked_list.add_to_head(7)\n",
    "linked_list.add_to_head(8)\n",
    "linked_list.add_to_head(3)\n",
    "linked_list.add_to_head(3)\n",
    "linked_list.add_to_head(5)\n",
    "linked_list.add_to_head(2)\n",
    "linked_list.add_to_tail(3)\n",
    "\n",
    "print(linked_list)"
   ]
  },
  {
   "cell_type": "code",
   "execution_count": 51,
   "metadata": {},
   "outputs": [
    {
     "name": "stdout",
     "output_type": "stream",
     "text": [
      "(2) --> (5) --> (8) --> (7) --> None\n"
     ]
    }
   ],
   "source": [
    "linked_list.delete_by_cargo(3)\n",
    "\n",
    "print(linked_list)"
   ]
  },
  {
   "cell_type": "markdown",
   "metadata": {},
   "source": [
    "<a id='section3'></a>\n",
    "## 3. Breakout Session\n",
    "Here is the linked list Class. Complete the method `add_cargo_at_index`, which should add a new node at certain index."
   ]
  },
  {
   "cell_type": "code",
   "execution_count": 56,
   "metadata": {},
   "outputs": [],
   "source": [
    "class LinkedList:\n",
    "    \n",
    "    \"\"\"A class that implements a linked list.\"\"\"\n",
    "    \n",
    "    def __init__(self):\n",
    "        \"\"\"\n",
    "        (self) -> NoneType\n",
    "        Create an empty linked list.\n",
    "        \"\"\"\n",
    "        self.length = 0\n",
    "        self.head = None\n",
    "        \n",
    "    def __str__(self):\n",
    "        \"\"\"\n",
    "        (self) -> str\n",
    "        Print out the entire linked list from head (left) to tail (right).\n",
    "        \"\"\"\n",
    "        if self.head is not None:\n",
    "            \n",
    "            string = ''\n",
    "            on = self.head\n",
    "            \n",
    "            while on is not None:\n",
    "                string += on.__str__() + ' --> '\n",
    "                on = on.next\n",
    "            else:\n",
    "                string += on.__str__()\n",
    "            \n",
    "            return string\n",
    "        else:\n",
    "            return 'empty list'\n",
    "        \n",
    "    \n",
    "    def add_to_head(self, cargo):\n",
    "        \"\"\"\n",
    "        (self, object) -> NoneType\n",
    "        Add cargo to the front of the list.\n",
    "        \"\"\"\n",
    "        node = Node(cargo)\n",
    "        node.next = self.head\n",
    "        self.head = node\n",
    "        self.length += 1\n",
    "        \n",
    "    def add_to_tail(self, cargo):\n",
    "        \"\"\"\n",
    "        (self, object) -> NoneType\n",
    "        Add cargo to the tail of the list.\n",
    "        \"\"\"\n",
    "        on = self.head\n",
    "        \n",
    "        while on.next is not None:\n",
    "            on = on.next\n",
    "            \n",
    "        on.next = Node(cargo)\n",
    "        \n",
    "    def get_at_index(self, index):\n",
    "        \"\"\"\n",
    "        (self, int) -> NoneType\n",
    "        Return the cargo at a certain index.\n",
    "        \"\"\"\n",
    "        on = self.head\n",
    "        \n",
    "        while on is not None and index != 0:\n",
    "            on = on.next\n",
    "            index -= 1\n",
    "            \n",
    "        if on is not None:\n",
    "            return on.cargo\n",
    "        else:\n",
    "            return False\n",
    "    \n",
    "    def delete_by_cargo(self, cargo):\n",
    "        \"\"\"\n",
    "        (self, object) -> NoneType\n",
    "        Remove all nodes with certain cargo value.\n",
    "        \"\"\"\n",
    "        on = self.head\n",
    "        \n",
    "        while on is not None and on.next is not None:\n",
    "            \n",
    "            while on.next is not None and on.next.cargo == cargo:\n",
    "                on.next = on.next.next\n",
    "            \n",
    "            on = on.next\n",
    "            \n",
    "    def add_cargo_at_index(self, cargo, index):\n",
    "        \"\"\"\n",
    "        (self, object, int) -> NoneType\n",
    "        Add a new node at certain index.\n",
    "        \"\"\"\n",
    "        on = self.head\n",
    "        \n",
    "        while on is not None and index != 0:\n",
    "            on = on.next\n",
    "            index -= 1\n",
    "            \n",
    "        if on is not None:\n",
    "            # Write your code to add a new Node after \"on\"\n",
    "            node = Node(cargo)\n",
    "            node.next = on.next\n",
    "            on.next = node"
   ]
  },
  {
   "cell_type": "markdown",
   "metadata": {},
   "source": [
    "#### Test\n",
    "Let's create a linked list with 5 nodes."
   ]
  },
  {
   "cell_type": "code",
   "execution_count": 57,
   "metadata": {},
   "outputs": [
    {
     "name": "stdout",
     "output_type": "stream",
     "text": [
      "(2) --> (5) --> (3) --> (8) --> (7) --> None\n"
     ]
    }
   ],
   "source": [
    "linked_list = LinkedList()\n",
    "\n",
    "linked_list.add_to_head(7)\n",
    "linked_list.add_to_head(8)\n",
    "linked_list.add_to_head(3)\n",
    "linked_list.add_to_head(5)\n",
    "linked_list.add_to_head(2)\n",
    "\n",
    "print(linked_list)"
   ]
  },
  {
   "cell_type": "markdown",
   "metadata": {},
   "source": [
    "Now, let's insert a new node with `cargo = 10` after the node with `index = 3`."
   ]
  },
  {
   "cell_type": "code",
   "execution_count": 58,
   "metadata": {},
   "outputs": [
    {
     "name": "stdout",
     "output_type": "stream",
     "text": [
      "(2) --> (5) --> (3) --> (8) --> (10) --> (7) --> None\n"
     ]
    }
   ],
   "source": [
    "linked_list.add_cargo_at_index(10, 3)\n",
    "\n",
    "print(linked_list)"
   ]
  },
  {
   "cell_type": "markdown",
   "metadata": {},
   "source": [
    "<a id='section4'></a>\n",
    "## 4. Tree Node Class\n",
    "Let's define a `TreeNode` class."
   ]
  },
  {
   "cell_type": "code",
   "execution_count": 59,
   "metadata": {},
   "outputs": [],
   "source": [
    "class TreeNode:\n",
    "    \n",
    "    \"\"\"A class that implements a binary tree.\"\"\"\n",
    "\n",
    "    def __init__(self, cargo=None, left=None, right=None):\n",
    "        \"\"\"\n",
    "        (self, object, TreeNode/None, TreeNode/None) -> NoneType\n",
    "        Create a Node with cargo and left and right subtrees.\n",
    "        \"\"\"\n",
    "        self.cargo = cargo\n",
    "        self.left = left\n",
    "        self.right = right\n",
    "        \n",
    "    def __str__(self):\n",
    "        return '(' + str(self.cargo) + ')'"
   ]
  },
  {
   "cell_type": "markdown",
   "metadata": {},
   "source": [
    "The cargo can be any type, but the left and right parameters should be tree nodes, the default value is None. \n",
    "\n",
    "The following few steps will illustrate how to build a tree.\n",
    "\n",
    "One way to build a tree is from the bottom up. \n",
    "\n",
    "#### Allocate the leaf nodes first"
   ]
  },
  {
   "cell_type": "code",
   "execution_count": 60,
   "metadata": {},
   "outputs": [
    {
     "name": "stdout",
     "output_type": "stream",
     "text": [
      "2\n",
      "3\n"
     ]
    }
   ],
   "source": [
    "left = TreeNode(2)\n",
    "right = TreeNode(3)\n",
    "print(left.cargo)\n",
    "print(right.cargo)"
   ]
  },
  {
   "cell_type": "code",
   "execution_count": 61,
   "metadata": {},
   "outputs": [
    {
     "name": "stdout",
     "output_type": "stream",
     "text": [
      "0\n",
      "2\n",
      "3\n"
     ]
    }
   ],
   "source": [
    "tree = TreeNode(0, left, right)\n",
    "print(tree.cargo)\n",
    "print(tree.left.cargo)\n",
    "print(tree.right.cargo)"
   ]
  },
  {
   "cell_type": "markdown",
   "metadata": {},
   "source": [
    "#### `#cleancode`"
   ]
  },
  {
   "cell_type": "code",
   "execution_count": 62,
   "metadata": {},
   "outputs": [
    {
     "name": "stdout",
     "output_type": "stream",
     "text": [
      "0\n",
      "2\n",
      "3\n"
     ]
    }
   ],
   "source": [
    "tree = TreeNode(0, TreeNode(2), TreeNode(3))\n",
    "print(tree.cargo)\n",
    "print(tree.left.cargo)\n",
    "print(tree.right.cargo)"
   ]
  },
  {
   "cell_type": "markdown",
   "metadata": {},
   "source": [
    "<a id='section5'></a>\n",
    "## 5. Binary Tree Class"
   ]
  },
  {
   "cell_type": "code",
   "execution_count": 63,
   "metadata": {},
   "outputs": [],
   "source": [
    "class BinaryTree:\n",
    "    \n",
    "    \"\"\"A Node class used by a binary tree class.\"\"\"\n",
    "    \n",
    "    def __init__(self, root=None):\n",
    "        \"\"\"\n",
    "        (self, TreeNode/None) -> NoneType\n",
    "        Create an empty binary tree.\n",
    "        \"\"\"\n",
    "        self.root = root\n",
    " \n",
    "    def print_tree(self):\n",
    "        \"\"\"\n",
    "        (self) -> NoneType\n",
    "        Prints tree level by level.\n",
    "        \"\"\"\n",
    "        level = [self.root]\n",
    "        \n",
    "        while len(level) > 0:\n",
    "            \n",
    "            level_next = []\n",
    "            \n",
    "            for node in level:\n",
    "                \n",
    "                print(node, \" \", end = \"\")\n",
    "                \n",
    "                if node.left is not None:\n",
    "                    level_next.append(node.left) \n",
    "                if node.right is not None:\n",
    "                    level_next.append(node.right)\n",
    "                    \n",
    "            print('\\n')\n",
    "            level = level_next"
   ]
  },
  {
   "cell_type": "markdown",
   "metadata": {},
   "source": [
    "Let's build a binary tree."
   ]
  },
  {
   "cell_type": "code",
   "execution_count": 64,
   "metadata": {},
   "outputs": [],
   "source": [
    "tree = BinaryTree(TreeNode(3, TreeNode(2, TreeNode(1), TreeNode(6)), TreeNode(7, TreeNode(2), TreeNode(8))))"
   ]
  },
  {
   "cell_type": "markdown",
   "metadata": {},
   "source": [
    "Now, let's use our `.print_tree()` method to print the tree.\n",
    "```python\n",
    "\"\"\"\n",
    "      3\n",
    "     /  \\\n",
    "    /    \\\n",
    "   2      7\n",
    "  / \\    / \\\n",
    " 1   6  2   8\n",
    "\"\"\"\n",
    "```"
   ]
  },
  {
   "cell_type": "code",
   "execution_count": 65,
   "metadata": {},
   "outputs": [
    {
     "name": "stdout",
     "output_type": "stream",
     "text": [
      "(3)  \n",
      "\n",
      "(2)  (7)  \n",
      "\n",
      "(1)  (6)  (2)  (8)  \n",
      "\n"
     ]
    }
   ],
   "source": [
    "tree.print_tree()"
   ]
  },
  {
   "cell_type": "code",
   "execution_count": null,
   "metadata": {},
   "outputs": [],
   "source": []
  }
 ],
 "metadata": {
  "kernelspec": {
   "display_name": "Python 3 (ipykernel)",
   "language": "python",
   "name": "python3"
  },
  "language_info": {
   "codemirror_mode": {
    "name": "ipython",
    "version": 3
   },
   "file_extension": ".py",
   "mimetype": "text/x-python",
   "name": "python",
   "nbconvert_exporter": "python",
   "pygments_lexer": "ipython3",
   "version": "3.7.11"
  }
 },
 "nbformat": 4,
 "nbformat_minor": 1
}
