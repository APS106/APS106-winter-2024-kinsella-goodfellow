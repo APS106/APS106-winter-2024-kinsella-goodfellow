{
 "cells": [
  {
   "cell_type": "markdown",
   "metadata": {
    "collapsed": true,
    "jupyter": {
     "outputs_hidden": true
    }
   },
   "source": [
    "# APS106 - Fundamentals of Computer Programming\n",
    "## Week 12 | Lecture 1 (12.1) - Installing third-party packages, managing environments, and Pandas\n",
    "\n",
    "### This Week\n",
    "| Lecture | Topics |\n",
    "| --- | --- |\n",
    "| **12.1** | **Pandas** |\n",
    "| 12.2 | More Pandas, Data Visualization | \n",
    "| 12.3 | Design Problem: Stock Market, Part 1 |\n",
    "\n",
    "### Lecture Structure\n",
    "1. [csv Module](#section1)\n",
    "2. [Series](#section2)\n",
    "3. [DataFrames](#section3)\n",
    "4. [Indices](#section4)"
   ]
  },
  {
   "cell_type": "markdown",
   "metadata": {},
   "source": [
    "<a id='section1'></a>\n",
    "## 1.csv Module\n",
    "Let's first import the `csv` module, that comes pre-installed with Python."
   ]
  },
  {
   "cell_type": "code",
   "execution_count": 1,
   "metadata": {},
   "outputs": [],
   "source": [
    "import csv"
   ]
  },
  {
   "cell_type": "markdown",
   "metadata": {},
   "source": [
    "We will now import a `csv` file which contains the results from past presidential elections in the United States. This file is in the same folder as this notebook and is named `elections.csv`."
   ]
  },
  {
   "cell_type": "code",
   "execution_count": 9,
   "metadata": {},
   "outputs": [
    {
     "name": "stdout",
     "output_type": "stream",
     "text": [
      "['Year', 'Candidate', 'Party', 'Popular vote', 'Result', '%']\n",
      "['1824', 'Andrew Jackson', 'Democratic-Republican', '151271', 'loss', '57.21012204']\n",
      "['1824', 'John Quincy Adams', 'Democratic-Republican', '113142', 'win', '42.78987796']\n",
      "['1828', 'Andrew Jackson', 'Democratic', '642806', 'win', '56.20392707']\n",
      "['1828', 'John Quincy Adams', 'National Republican', '500897', 'loss', '43.79607293']\n",
      "['1832', 'Andrew Jackson', 'Democratic', '702735', 'win', '54.57478905']\n",
      "['1832', 'Henry Clay', 'National Republican', '484205', 'loss', '37.6036283']\n",
      "['1832', 'William Wirt', 'Anti-Masonic', '100715', 'loss', '7.821582644']\n",
      "['1836', 'Hugh Lawson White', 'Whig', '146109', 'loss', '10.00598542']\n",
      "['1836', 'Martin Van Buren', 'Democratic', '763291', 'win', '52.27247202']\n",
      "['1836', 'William Henry Harrison', 'Whig', '550816', 'loss', '37.72154257']\n",
      "['1840', 'Martin Van Buren', 'Democratic', '1128854', 'loss', '46.94878676']\n",
      "['1840', 'William Henry Harrison', 'Whig', '1275583', 'win', '53.05121324']\n",
      "['1844', 'Henry Clay', 'Whig', '1300004', 'loss', '49.250523']\n",
      "['1844', 'James Polk', 'Democratic', '1339570', 'win', '50.749477']\n",
      "['1848', 'Lewis Cass', 'Democratic', '1223460', 'loss', '42.55222948']\n",
      "['1848', 'Martin Van Buren', 'Free Soil', '291501', 'loss', '10.13847404']\n",
      "['1848', 'Zachary Taylor', 'Whig', '1360235', 'win', '47.30929648']\n",
      "['1852', 'Franklin Pierce', 'Democratic', '1605943', 'win', '51.01316828']\n",
      "['1852', 'John P. Hale', 'Free Soil', '155210', 'loss', '4.930283235']\n",
      "['1852', 'Winfield Scott', 'Whig', '1386942', 'loss', '44.05654848']\n",
      "['1856', 'James Buchanan', 'Democratic', '1835140', 'win', '45.30608033']\n",
      "['1856', 'John C. FrÃ©mont', 'Republican', '1342345', 'loss', '33.1399187']\n",
      "['1856', 'Millard Fillmore', 'American', '873053', 'loss', '21.55400097']\n",
      "['1860', 'Abraham Lincoln', 'Republican', '1855993', 'win', '39.69940846']\n",
      "['1860', 'John Bell', 'Constitutional Union', '590901', 'loss', '12.63928267']\n",
      "['1860', 'John C. Breckinridge', 'Southern Democratic', '848019', 'loss', '18.13899765']\n",
      "['1860', 'Stephen A. Douglas', 'Northern Democratic', '1380202', 'loss', '29.52231122']\n",
      "['1864', 'Abraham Lincoln', 'National Union', '2211317', 'win', '54.95151243']\n",
      "['1864', 'George B. McClellan', 'Democratic', '1812807', 'loss', '45.04848757']\n",
      "['1868', 'Horatio Seymour', 'Democratic', '2708744', 'loss', '47.33469473']\n",
      "['1868', 'Ulysses Grant', 'Republican', '3013790', 'win', '52.66530527']\n",
      "['1872', 'Horace Greeley', 'Liberal Republican', '2834761', 'loss', '44.07140636']\n",
      "['1872', 'Ulysses Grant', 'Republican', '3597439', 'win', '55.92859364']\n",
      "['1876', 'Rutherford Hayes', 'Republican', '4034142', 'win', '48.47162359']\n",
      "['1876', 'Samuel J. Tilden', 'Democratic', '4288546', 'loss', '51.52837641']\n",
      "['1880', 'James B. Weaver', 'Greenback', '308649', 'loss', '3.352343585']\n",
      "['1880', 'James Garfield', 'Republican', '4453337', 'win', '48.36923406']\n",
      "['1880', 'Winfield Scott Hancock', 'Democratic', '4444976', 'loss', '48.27842235']\n",
      "['1884', 'Benjamin Butler', 'Anti-Monopoly', '134294', 'loss', '1.335838283']\n",
      "['1884', 'Grover Cleveland', 'Democratic', '4914482', 'win', '48.88493303']\n",
      "['1884', 'James G. Blaine', 'Republican', '4856905', 'loss', '48.31220781']\n",
      "['1884', 'John St. John', 'Prohibition', '147482', 'loss', '1.467020877']\n",
      "['1888', 'Alson Streeter', 'Union Labor', '146602', 'loss', '1.288860686']\n",
      "['1888', 'Benjamin Harrison', 'Republican', '5443633', 'win', '47.85804123']\n",
      "['1888', 'Clinton B. Fisk', 'Prohibition', '249819', 'loss', '2.19629942']\n",
      "['1888', 'Grover Cleveland', 'Democratic', '5534488', 'loss', '48.65679866']\n",
      "['1892', 'Benjamin Harrison', 'Republican', '5176108', 'loss', '42.98410062']\n",
      "['1892', 'Grover Cleveland', 'Democratic', '5553898', 'win', '46.12139284']\n",
      "['1892', 'James B. Weaver', 'Populist', '1041028', 'loss', '8.645038376']\n",
      "['1892', 'John Bidwell', 'Prohibition', '270879', 'loss', '2.24946817']\n",
      "['1896', 'John M. Palmer', 'National Democratic', '134645', 'loss', '0.969565599']\n",
      "['1896', 'Joshua Levering', 'Prohibition', '131312', 'loss', '0.945564989']\n",
      "['1896', 'William Jennings Bryan', 'Democratic', '6509052', 'loss', '46.87105278']\n",
      "['1896', 'William McKinley', 'Republican', '7112138', 'win', '51.21381663']\n",
      "['1900', 'John G. Woolley', 'Prohibition', '210864', 'loss', '1.526820586']\n",
      "['1900', 'William Jennings Bryan', 'Democratic', '6370932', 'loss', '46.13053974']\n",
      "['1900', 'William McKinley', 'Republican', '7228864', 'win', '52.34263967']\n",
      "['1904', 'Alton B. Parker', 'Democratic', '5083880', 'loss', '37.68511564']\n",
      "['1904', 'Eugene V. Debs', 'Socialist', '402810', 'loss', '2.98589688']\n",
      "['1904', 'Silas C. Swallow', 'Prohibition', '259102', 'loss', '1.920637157']\n",
      "['1904', 'Theodore Roosevelt', 'Republican', '7630557', 'win', '56.56278726']\n",
      "['1904', 'Thomas E. Watson', 'Populist', '114070', 'loss', '0.845563062']\n",
      "['1908', 'Eugene V. Debs', 'Socialist', '420852', 'loss', '2.85086565']\n",
      "['1908', 'Eugene W. Chafin', 'Prohibition', '254087', 'loss', '1.721193913']\n",
      "['1908', 'William Jennings Bryan', 'Democratic', '6408979', 'loss', '43.41464003']\n",
      "['1908', 'William Taft', 'Republican', '7678335', 'win', '52.01330041']\n",
      "['1912', 'Eugene V. Debs', 'Socialist', '901551', 'loss', '6.004354059']\n",
      "['1912', 'Eugene W. Chafin', 'Prohibition', '208156', 'loss', '1.386324593']\n",
      "['1912', 'Theodore Roosevelt', 'Progressive', '4122721', 'loss', '27.45743344']\n",
      "['1912', 'William Taft', 'Republican', '3486242', 'loss', '23.21846607']\n",
      "['1912', 'Woodrow Wilson', 'Democratic', '6296284', 'win', '41.93342184']\n",
      "['1916', 'Allan L. Benson', 'Socialist', '590524', 'loss', '3.194193328']\n",
      "['1916', 'Charles Evans Hughes', 'Republican', '8548728', 'loss', '46.24077927']\n",
      "['1916', 'Frank Hanly', 'Prohibition', '221302', 'loss', '1.197040885']\n",
      "['1916', 'Woodrow Wilson', 'Democratic', '9126868', 'win', '49.36798652']\n",
      "['1920', 'Aaron S. Watkins', 'Prohibition', '188787', 'loss', '0.708350618']\n",
      "['1920', 'Eugene V. Debs', 'Socialist', '913693', 'loss', '3.428281615']\n",
      "['1920', 'James M. Cox', 'Democratic', '9139661', 'loss', '34.29306318']\n",
      "['1920', 'Parley P. Christensen', 'Farmerâ€“Labor', '265398', 'loss', '0.995803934']\n",
      "['1920', 'Warren Harding', 'Republican', '16144093', 'win', '60.57450065']\n",
      "['1924', 'Calvin Coolidge', 'Republican', '15723789', 'win', '54.329113']\n",
      "['1924', 'John W. Davis', 'Democratic', '8386242', 'loss', '28.97629123']\n",
      "['1924', 'Robert La Follette', 'Progressive', '4831706', 'loss', '16.69459577']\n",
      "['1928', 'Al Smith', 'Democratic', '15015464', 'loss', '40.90285321']\n",
      "['1928', 'Herbert Hoover', 'Republican', '21427123', 'win', '58.36852373']\n",
      "['1928', 'Norman Thomas', 'Socialist', '267478', 'loss', '0.728623063']\n",
      "['1932', 'Franklin Roosevelt', 'Democratic', '22821277', 'win', '57.67212542']\n",
      "['1932', 'Herbert Hoover', 'Republican', '15761254', 'loss', '39.83059395']\n",
      "['1932', 'Norman Thomas', 'Socialist', '884885', 'loss', '2.236211353']\n",
      "['1932', 'William Z. Foster', 'Communist', '103307', 'loss', '0.261069276']\n",
      "['1936', 'Alf Landon', 'Republican', '16679543', 'loss', '36.64828497']\n",
      "['1936', 'Franklin Roosevelt', 'Democratic', '27752648', 'win', '60.97810669']\n",
      "['1936', 'Norman Thomas', 'Socialist', '187910', 'loss', '0.412875774']\n",
      "['1936', 'William Lemke', 'Union', '892378', 'loss', '1.960732572']\n",
      "['1940', 'Franklin Roosevelt', 'Democratic', '27313945', 'win', '54.87120208']\n",
      "['1940', 'Norman Thomas', 'Socialist', '116599', 'loss', '0.234236662']\n",
      "['1940', 'Wendell Willkie', 'Republican', '22347744', 'loss', '44.89456126']\n",
      "['1944', 'Franklin Roosevelt', 'Democratic', '25612916', 'win', '53.77380141']\n",
      "['1944', 'Thomas E. Dewey', 'Republican', '22017929', 'loss', '46.22619859']\n",
      "['1948', 'Claude A. Watson', 'Prohibition', '103708', 'loss', '0.212746692']\n",
      "['1948', 'Harry Truman', 'Democratic', '24179347', 'win', '49.60153588']\n",
      "['1948', 'Henry A. Wallace', 'Progressive', '1157328', 'loss', '2.374143781']\n",
      "['1948', 'Norman Thomas', 'Socialist', '139569', 'loss', '0.286311982']\n",
      "['1948', 'Strom Thurmond', 'Dixiecrat', '1175930', 'loss', '2.412303942']\n",
      "['1948', 'Thomas E. Dewey', 'Republican', '21991292', 'loss', '45.11295773']\n",
      "['1952', 'Adlai Stevenson', 'Democratic', '27375090', 'loss', '44.44631159']\n",
      "['1952', 'Dwight Eisenhower', 'Republican', '34075529', 'win', '55.32517261']\n",
      "['1952', 'Vincent Hallinan', 'Progressive', '140746', 'loss', '0.228515799']\n",
      "['1956', 'Adlai Stevenson', 'Democratic', '26028028', 'loss', '42.17446362']\n",
      "['1956', 'Dwight Eisenhower', 'Republican', '35579180', 'win', '57.65065384']\n",
      "['1956', 'T. Coleman Andrews', \"States' Rights\", '107929', 'loss', '0.174882541']\n",
      "['1960', 'John Kennedy', 'Democratic', '34220984', 'win', '50.08256141']\n",
      "['1960', 'Richard Nixon', 'Republican', '34108157', 'loss', '49.91743859']\n",
      "['1964', 'Barry Goldwater', 'Republican', '27175754', 'loss', '38.65529671']\n",
      "['1964', 'Lyndon Johnson', 'Democratic', '43127041', 'win', '61.34470329']\n",
      "['1968', 'George Wallace', 'American Independent', '9901118', 'loss', '13.57121768']\n",
      "['1968', 'Hubert Humphrey', 'Democratic', '31271839', 'loss', '42.86353667']\n",
      "['1968', 'Richard Nixon', 'Republican', '31783783', 'win', '43.56524565']\n",
      "['1972', 'George McGovern', 'Democratic', '29173222', 'loss', '37.67067048']\n",
      "['1972', 'John G. Schmitz', 'American Independent', '1100868', 'loss', '1.421524015']\n",
      "['1972', 'Richard Nixon', 'Republican', '47168710', 'win', '60.9078055']\n",
      "['1976', 'Eugene McCarthy', 'Independent', '740460', 'loss', '0.911648689']\n",
      "['1976', 'Gerald Ford', 'Republican', '39148634', 'loss', '48.19949876']\n",
      "['1976', 'Jimmy Carter', 'Democratic', '40831881', 'win', '50.2718996']\n",
      "['1976', 'Lester Maddox', 'American Independent', '170274', 'loss', '0.209640047']\n",
      "['1976', 'Roger MacBride', 'Libertarian', '172557', 'loss', '0.212450859']\n",
      "['1976', 'Thomas J. Anderson', 'American', '158271', 'loss', '0.194862045']\n",
      "['1980', 'Barry Commoner', 'Citizens', '233052', 'loss', '0.270182115']\n",
      "['1980', 'Ed Clark', 'Libertarian', '921128', 'loss', '1.067883181']\n",
      "['1980', 'Jimmy Carter', 'Democratic', '35480115', 'loss', '41.13284806']\n",
      "['1980', 'John B. Anderson', 'Independent', '5719850', 'loss', '6.631143134']\n",
      "['1980', 'Ronald Reagan', 'Republican', '43903230', 'win', '50.89794351']\n",
      "['1984', 'David Bergland', 'Libertarian', '228111', 'loss', '0.247245489']\n",
      "['1984', 'Ronald Reagan', 'Republican', '54455472', 'win', '59.02332553']\n",
      "['1984', 'Walter Mondale', 'Democratic', '37577352', 'loss', '40.72942898']\n",
      "['1988', 'George H. W. Bush', 'Republican', '48886597', 'win', '53.5188446']\n",
      "['1988', 'Lenora Fulani', 'New Alliance', '217221', 'loss', '0.237803767']\n",
      "['1988', 'Michael Dukakis', 'Democratic', '41809074', 'loss', '45.77069118']\n",
      "['1988', 'Ron Paul', 'Libertarian', '431750', 'loss', '0.472660454']\n",
      "['1992', 'Andre Marrou', 'Libertarian', '290087', 'loss', '0.278516275']\n",
      "['1992', 'Bill Clinton', 'Democratic', '44909806', 'win', '43.11848477']\n",
      "['1992', 'Bo Gritz', 'Populist', '106152', 'loss', '0.101917906']\n",
      "['1992', 'George H. W. Bush', 'Republican', '39104550', 'loss', '37.54478351']\n",
      "['1992', 'Ross Perot', 'Independent', '19743821', 'loss', '18.95629754']\n",
      "['1996', 'Bill Clinton', 'Democratic', '47400125', 'win', '49.29693808']\n",
      "['1996', 'Bob Dole', 'Republican', '39197469', 'loss', '40.766036']\n",
      "['1996', 'Harry Browne', 'Libertarian', '485759', 'loss', '0.505197641']\n",
      "['1996', 'Howard Phillips', 'Taxpayers', '184656', 'loss', '0.192045388']\n",
      "['1996', 'John Hagelin', 'Natural Law', '113670', 'loss', '0.118218738']\n",
      "['1996', 'Ralph Nader', 'Green', '685297', 'loss', '0.712720563']\n",
      "['1996', 'Ross Perot', 'Reform', '8085294', 'loss', '8.408843598']\n",
      "['2000', 'Al Gore', 'Democratic', '50999897', 'loss', '48.49181314']\n",
      "['2000', 'George W. Bush', 'Republican', '50456002', 'win', '47.97466592']\n",
      "['2000', 'Harry Browne', 'Libertarian', '384431', 'loss', '0.36552537']\n",
      "['2000', 'Pat Buchanan', 'Reform', '448895', 'loss', '0.426819146']\n",
      "['2000', 'Ralph Nader', 'Green', '2882955', 'loss', '2.741176421']\n",
      "['2004', 'David Cobb', 'Green', '119859', 'loss', '0.098088334']\n",
      "['2004', 'George W. Bush', 'Republican', '62040610', 'win', '50.77182439']\n",
      "['2004', 'John Kerry', 'Democratic', '59028444', 'loss', '48.30677508']\n",
      "['2004', 'Michael Badnarik', 'Libertarian', '397265', 'loss', '0.325107519']\n",
      "['2004', 'Michael Peroutka', 'Constitution', '143630', 'loss', '0.117541674']\n",
      "['2004', 'Ralph Nader', 'Independent', '465151', 'loss', '0.380663003']\n",
      "['2008', 'Barack Obama', 'Democratic', '69498516', 'win', '53.02350971']\n",
      "['2008', 'Bob Barr', 'Libertarian', '523715', 'loss', '0.399565473']\n",
      "['2008', 'Chuck Baldwin', 'Constitution', '199750', 'loss', '0.152398162']\n",
      "['2008', 'Cynthia McKinney', 'Green', '161797', 'loss', '0.123442129']\n",
      "['2008', 'John McCain', 'Republican', '59948323', 'loss', '45.7372426']\n",
      "['2008', 'Ralph Nader', 'Independent', '739034', 'loss', '0.563841917']\n",
      "['2012', 'Barack Obama', 'Democratic', '65915795', 'win', '51.25848423']\n",
      "['2012', 'Gary Johnson', 'Libertarian', '1275971', 'loss', '0.992240773']\n",
      "['2012', 'Jill Stein', 'Green', '469627', 'loss', '0.365198784']\n",
      "['2012', 'Mitt Romney', 'Republican', '60933504', 'loss', '47.38407621']\n",
      "['2016', 'Darrell Castle', 'Constitution', '203091', 'loss', '0.149639515']\n",
      "['2016', 'Donald Trump', 'Republican', '62984828', 'win', '46.40786214']\n",
      "['2016', 'Evan McMullin', 'Independent', '732273', 'loss', '0.539546197']\n",
      "['2016', 'Gary Johnson', 'Libertarian', '4489235', 'loss', '3.307714026']\n",
      "['2016', 'Hillary Clinton', 'Democratic', '65853514', 'loss', '48.52153918']\n",
      "['2016', 'Jill Stein', 'Green', '1457226', 'loss', '1.073698944']\n",
      "['2020', 'Joseph Biden', 'Democratic', '81268924', 'win', '51.3115152']\n",
      "['2020', 'Donald Trump', 'Republican', '74216154', 'loss', '46.8585423']\n",
      "['2020', 'Jo Jorgensen', 'Libertarian', '1865724', 'loss', '1.1779795']\n",
      "['2020', 'Howard Hawkins', 'Green', '405035', 'loss', '0.25573071']\n"
     ]
    }
   ],
   "source": [
    "# Open the file\n",
    "file = open('elections.csv', 'r')\n",
    "\n",
    "# Create a csv reader object\n",
    "csv_reader = csv.reader(file)\n",
    "\n",
    "# Loop through the rows and print our the contents of each row\n",
    "for row in csv_reader:\n",
    "    print(row)\n",
    "    \n",
    "# Close file\n",
    "file.close()"
   ]
  },
  {
   "cell_type": "markdown",
   "metadata": {},
   "source": [
    "For, let's say that we're asked to print the name of the candidate with the lowest popular vote percentage (%) in the year 1996 election. The following code is how we could do this using the pure Python and the `csv` module."
   ]
  },
  {
   "cell_type": "code",
   "execution_count": 25,
   "metadata": {},
   "outputs": [
    {
     "name": "stdout",
     "output_type": "stream",
     "text": [
      "Candidate John Hagelin had the lowest popular vote in 1996, which was 0.118218738 %.\n"
     ]
    }
   ],
   "source": [
    "file = open('elections.csv', 'r')\n",
    "csv_reader = csv.reader(file)\n",
    "\n",
    "row_count = 0\n",
    "name = None\n",
    "popular_vote = 100\n",
    "\n",
    "for row in csv_reader:\n",
    "    \n",
    "    if row_count > 0:\n",
    "        \n",
    "        # row[0] is the column \"Year\"\n",
    "        if row[0] == '1996':    \n",
    "            \n",
    "            # row[5] is the column \"%\"\n",
    "            if float(row[5]) < popular_vote:\n",
    "                popular_vote = float(row[5])\n",
    "                \n",
    "                # row[1] is the column \"Candidate\"\n",
    "                name = row[1]\n",
    "   \n",
    "    row_count += 1\n",
    "    \n",
    "print('Candidate', name, 'had the lowest popular vote in 1996, which was', popular_vote, '%.')\n",
    "    \n",
    "file.close()"
   ]
  },
  {
   "cell_type": "markdown",
   "metadata": {},
   "source": [
    "The `csv` module allowed us to get the desired output but the code has some limitations. For starts, its a lot of code a fairly simple query. Additionally, we are accessing the columns by an indect, which makes the code challenging to interpreted and potentially prone to error. Lastly, all the data is imported as strings, which means we must convert to a numeric data type for certain columns.\n",
    "\n",
    "In this lecture we will introduce the `Pandas` library, which is the standard in academia and industry for working with tabular data in Python. \n",
    "\n",
    "If you're using Anaconda, this package will likley be installed in your `(base)` environment but if not, you can run this code in a notebook cell to install.\n",
    "\n",
    "```python\n",
    "\n",
    "!pip install pandas\n",
    "```"
   ]
  },
  {
   "cell_type": "markdown",
   "metadata": {},
   "source": [
    "First, let's import `Pandas` and give it the name `pd`."
   ]
  },
  {
   "cell_type": "code",
   "execution_count": 16,
   "metadata": {},
   "outputs": [],
   "source": [
    "import pandas as pd"
   ]
  },
  {
   "cell_type": "markdown",
   "metadata": {},
   "source": [
    "Now, lets try to code some code to accomplish the above task.\n",
    "\n",
    "Let's first load the `csv` file and print the first 5 rows."
   ]
  },
  {
   "cell_type": "code",
   "execution_count": 18,
   "metadata": {},
   "outputs": [
    {
     "data": {
      "text/html": [
       "<div>\n",
       "<style scoped>\n",
       "    .dataframe tbody tr th:only-of-type {\n",
       "        vertical-align: middle;\n",
       "    }\n",
       "\n",
       "    .dataframe tbody tr th {\n",
       "        vertical-align: top;\n",
       "    }\n",
       "\n",
       "    .dataframe thead th {\n",
       "        text-align: right;\n",
       "    }\n",
       "</style>\n",
       "<table border=\"1\" class=\"dataframe\">\n",
       "  <thead>\n",
       "    <tr style=\"text-align: right;\">\n",
       "      <th></th>\n",
       "      <th>Year</th>\n",
       "      <th>Candidate</th>\n",
       "      <th>Party</th>\n",
       "      <th>Popular vote</th>\n",
       "      <th>Result</th>\n",
       "      <th>%</th>\n",
       "    </tr>\n",
       "  </thead>\n",
       "  <tbody>\n",
       "    <tr>\n",
       "      <th>0</th>\n",
       "      <td>1824</td>\n",
       "      <td>Andrew Jackson</td>\n",
       "      <td>Democratic-Republican</td>\n",
       "      <td>151271</td>\n",
       "      <td>loss</td>\n",
       "      <td>57.210122</td>\n",
       "    </tr>\n",
       "    <tr>\n",
       "      <th>1</th>\n",
       "      <td>1824</td>\n",
       "      <td>John Quincy Adams</td>\n",
       "      <td>Democratic-Republican</td>\n",
       "      <td>113142</td>\n",
       "      <td>win</td>\n",
       "      <td>42.789878</td>\n",
       "    </tr>\n",
       "    <tr>\n",
       "      <th>2</th>\n",
       "      <td>1828</td>\n",
       "      <td>Andrew Jackson</td>\n",
       "      <td>Democratic</td>\n",
       "      <td>642806</td>\n",
       "      <td>win</td>\n",
       "      <td>56.203927</td>\n",
       "    </tr>\n",
       "    <tr>\n",
       "      <th>3</th>\n",
       "      <td>1828</td>\n",
       "      <td>John Quincy Adams</td>\n",
       "      <td>National Republican</td>\n",
       "      <td>500897</td>\n",
       "      <td>loss</td>\n",
       "      <td>43.796073</td>\n",
       "    </tr>\n",
       "    <tr>\n",
       "      <th>4</th>\n",
       "      <td>1832</td>\n",
       "      <td>Andrew Jackson</td>\n",
       "      <td>Democratic</td>\n",
       "      <td>702735</td>\n",
       "      <td>win</td>\n",
       "      <td>54.574789</td>\n",
       "    </tr>\n",
       "  </tbody>\n",
       "</table>\n",
       "</div>"
      ],
      "text/plain": [
       "   Year          Candidate                  Party  Popular vote Result  \\\n",
       "0  1824     Andrew Jackson  Democratic-Republican        151271   loss   \n",
       "1  1824  John Quincy Adams  Democratic-Republican        113142    win   \n",
       "2  1828     Andrew Jackson             Democratic        642806    win   \n",
       "3  1828  John Quincy Adams    National Republican        500897   loss   \n",
       "4  1832     Andrew Jackson             Democratic        702735    win   \n",
       "\n",
       "           %  \n",
       "0  57.210122  \n",
       "1  42.789878  \n",
       "2  56.203927  \n",
       "3  43.796073  \n",
       "4  54.574789  "
      ]
     },
     "execution_count": 18,
     "metadata": {},
     "output_type": "execute_result"
    }
   ],
   "source": [
    "elections = pd.read_csv('elections.csv')\n",
    "elections.head()"
   ]
  },
  {
   "cell_type": "markdown",
   "metadata": {},
   "source": [
    "For starters, this is a much nicer view for getting a quick snap shot of our dataset.\n",
    "\n",
    "But what data type is `elections`?"
   ]
  },
  {
   "cell_type": "code",
   "execution_count": 38,
   "metadata": {},
   "outputs": [
    {
     "name": "stdout",
     "output_type": "stream",
     "text": [
      "<class 'pandas.core.frame.DataFrame'>\n"
     ]
    }
   ],
   "source": [
    "print(type(elections))"
   ]
  },
  {
   "cell_type": "markdown",
   "metadata": {},
   "source": [
    "Hmmmm.... what is a `DataFrame`? More on this later.\n",
    "\n",
    "Now, let's try to find the 1996 candidate with the lowest popular vote %."
   ]
  },
  {
   "cell_type": "code",
   "execution_count": 34,
   "metadata": {},
   "outputs": [
    {
     "name": "stdout",
     "output_type": "stream",
     "text": [
      "Year                    1996\n",
      "Candidate       John Hagelin\n",
      "Party            Natural Law\n",
      "Popular vote          113670\n",
      "Result                  loss\n",
      "%                   0.118219\n",
      "Name: 148, dtype: object\n"
     ]
    }
   ],
   "source": [
    "worse_candidate = elections[elections['Year'] == 1996].sort_values('%', ascending=True).iloc[0]\n",
    "print(worse_candidate)"
   ]
  },
  {
   "cell_type": "markdown",
   "metadata": {},
   "source": [
    "And what data type is `worse_candidate`?"
   ]
  },
  {
   "cell_type": "code",
   "execution_count": 39,
   "metadata": {},
   "outputs": [
    {
     "name": "stdout",
     "output_type": "stream",
     "text": [
      "<class 'pandas.core.series.Series'>\n"
     ]
    }
   ],
   "source": [
    "print(type(worse_candidate))"
   ]
  },
  {
   "cell_type": "markdown",
   "metadata": {},
   "source": [
    "Hmmmm.... what is a `Series`? More on this later.\n",
    "\n",
    "Now, let's print out the results as we did with the prvious example."
   ]
  },
  {
   "cell_type": "code",
   "execution_count": 35,
   "metadata": {},
   "outputs": [
    {
     "name": "stdout",
     "output_type": "stream",
     "text": [
      "Candidate John Hagelin had the lowest popular vote in 1996, which was 0.118218738 %.\n"
     ]
    }
   ],
   "source": [
    "print('Candidate', worse_candidate['Candidate'], 'had the lowest popular vote in 1996, which was', worse_candidate['%'], '%.')"
   ]
  },
  {
   "cell_type": "markdown",
   "metadata": {},
   "source": [
    "So, how did we do. Well, we have reduced out code from 14 lines to 3. We are accessing columns by their name, not thier position. Lastly, the data has been imported and automatically converted to the most likely data type. As you can see below, `'Candidate'` is a `string` and `'%'` is a `float`."
   ]
  },
  {
   "cell_type": "code",
   "execution_count": 36,
   "metadata": {},
   "outputs": [
    {
     "data": {
      "text/plain": [
       "Year              int64\n",
       "Candidate        object\n",
       "Party            object\n",
       "Popular vote      int64\n",
       "Result           object\n",
       "%               float64\n",
       "dtype: object"
      ]
     },
     "execution_count": 36,
     "metadata": {},
     "output_type": "execute_result"
    }
   ],
   "source": [
    "elections.dtypes"
   ]
  },
  {
   "cell_type": "markdown",
   "metadata": {},
   "source": [
    "Note: `object` is a `string`.\n",
    "\n",
    "Now, let's learn how this `Pandas` library works."
   ]
  },
  {
   "cell_type": "markdown",
   "metadata": {},
   "source": [
    "<a id='section2'></a>\n",
    "## 2. Series\n",
    "A `Series` is a 1-D labelled array of data. We can think of it as a column of data like you may have seen in an excel spreadsheet.\n",
    "\n",
    "### Creating a new `Series` object"
   ]
  },
  {
   "cell_type": "code",
   "execution_count": 3,
   "metadata": {},
   "outputs": [
    {
     "name": "stdout",
     "output_type": "stream",
     "text": [
      "0    welcome\n",
      "1         to\n",
      "2     APS106\n",
      "dtype: object\n"
     ]
    }
   ],
   "source": [
    "my_series = pd.Series([\"welcome\", \"to\", \"APS106\"])\n",
    "print(my_series)"
   ]
  },
  {
   "cell_type": "markdown",
   "metadata": {},
   "source": [
    "Because we imported `Pandas` using this code: `import pandas as pd`, anytime we want to use a module or function or class from the `Pandas` library, we must preface it with the alias we used during import, which was `pd`.\n",
    "\n",
    "```python\n",
    "pd.module_or_function_or_class_name()\n",
    "pd.Series()\n",
    "pd.DataFrame()\n",
    "```\n",
    "\n",
    "If we just did this:\n",
    "```python\n",
    "Series()\n",
    "DataFrame()\n",
    "```\n",
    "\n",
    "We would get an error."
   ]
  },
  {
   "cell_type": "code",
   "execution_count": 4,
   "metadata": {},
   "outputs": [
    {
     "ename": "NameError",
     "evalue": "name 'Series' is not defined",
     "output_type": "error",
     "traceback": [
      "\u001b[1;31m---------------------------------------------------------------------------\u001b[0m",
      "\u001b[1;31mNameError\u001b[0m                                 Traceback (most recent call last)",
      "Cell \u001b[1;32mIn[4], line 1\u001b[0m\n\u001b[1;32m----> 1\u001b[0m my_series \u001b[38;5;241m=\u001b[39m \u001b[43mSeries\u001b[49m([\u001b[38;5;124m\"\u001b[39m\u001b[38;5;124mwelcome\u001b[39m\u001b[38;5;124m\"\u001b[39m, \u001b[38;5;124m\"\u001b[39m\u001b[38;5;124mto\u001b[39m\u001b[38;5;124m\"\u001b[39m, \u001b[38;5;124m\"\u001b[39m\u001b[38;5;124mAPS106\u001b[39m\u001b[38;5;124m\"\u001b[39m])\n\u001b[0;32m      2\u001b[0m \u001b[38;5;28mprint\u001b[39m(my_series)\n",
      "\u001b[1;31mNameError\u001b[0m: name 'Series' is not defined"
     ]
    }
   ],
   "source": [
    "my_series = Series([\"welcome\", \"to\", \"APS106\"])\n",
    "print(my_series)"
   ]
  },
  {
   "cell_type": "markdown",
   "metadata": {},
   "source": [
    "Ok, back to the correct code."
   ]
  },
  {
   "cell_type": "code",
   "execution_count": 5,
   "metadata": {},
   "outputs": [
    {
     "name": "stdout",
     "output_type": "stream",
     "text": [
      "0    welcome\n",
      "1         to\n",
      "2     APS106\n",
      "dtype: object\n"
     ]
    }
   ],
   "source": [
    "my_series = pd.Series([\"welcome\", \"to\", \"APS106\"])\n",
    "print(my_series)"
   ]
  },
  {
   "cell_type": "markdown",
   "metadata": {},
   "source": [
    "Series have three main components, `index`, `name`, `data` (also refered to as `values`) as you can see in the diagram below. Don't worry about `DataFrames` for now, we'll get to them soon enough, but as you can see, `DataFrames` are collections of `Series`. Therefore, a helpful way to think of a `Series` is as a column from a table of data.\n",
    "\n",
    "<img src=\"images/Pandas_Series.png\" width=\"600\" style=\"margin:auto\"/>\n",
    "\n",
    "\n",
    "So, for our new `Series` `my_series`, let's check out these attributes (`index`, `name`, `data`).\n",
    "\n",
    "**name**"
   ]
  },
  {
   "cell_type": "code",
   "execution_count": 6,
   "metadata": {},
   "outputs": [
    {
     "name": "stdout",
     "output_type": "stream",
     "text": [
      "None\n"
     ]
    }
   ],
   "source": [
    "print(my_series.name)"
   ]
  },
  {
   "cell_type": "markdown",
   "metadata": {},
   "source": [
    "We never gave our `Series` a name, so by default, its `None`.\n",
    "\n",
    "**data (values)**"
   ]
  },
  {
   "cell_type": "code",
   "execution_count": 7,
   "metadata": {},
   "outputs": [
    {
     "name": "stdout",
     "output_type": "stream",
     "text": [
      "['welcome' 'to' 'APS106']\n"
     ]
    }
   ],
   "source": [
    "print(my_series.values)"
   ]
  },
  {
   "cell_type": "markdown",
   "metadata": {},
   "source": [
    "We passed this data to our `Series` constructor (`my_series = pd.Series([\"welcome\", \"to\", \"APS106\"])`)."
   ]
  },
  {
   "cell_type": "markdown",
   "metadata": {},
   "source": [
    "**index**"
   ]
  },
  {
   "cell_type": "code",
   "execution_count": 15,
   "metadata": {},
   "outputs": [
    {
     "name": "stdout",
     "output_type": "stream",
     "text": [
      "RangeIndex(start=0, stop=3, step=1)\n"
     ]
    }
   ],
   "source": [
    "print(my_series.index)"
   ]
  },
  {
   "cell_type": "markdown",
   "metadata": {},
   "source": [
    "In the example above, `Pandas` automatically generated an `Index` of integer labels. The first item in the `Series` has `index = 0`, the second item has `index = 1` and so on. We can also create a `Series` object by providing a custom Index. In the case of our example, rather than the index being a long list of monotonically increasing integers, `Pandas` has created a `RangeIndex` object to represent the same information in a simpler and more compact format. `RangeIndex(start=0, stop=3, step=1)` is the same as `[0, 1, 2]` but in the case where you have millions of items in your `Series`, its much more efficient. \n",
    "\n",
    "Here is an example where we are specifying an `index`, `data`, and `name` when we create a new `Series`."
   ]
  },
  {
   "cell_type": "code",
   "execution_count": 1,
   "metadata": {},
   "outputs": [
    {
     "ename": "NameError",
     "evalue": "name 'pd' is not defined",
     "output_type": "error",
     "traceback": [
      "\u001b[1;31m---------------------------------------------------------------------------\u001b[0m",
      "\u001b[1;31mNameError\u001b[0m                                 Traceback (most recent call last)",
      "\u001b[1;32m<ipython-input-1-cafc8098d5c4>\u001b[0m in \u001b[0;36m<module>\u001b[1;34m\u001b[0m\n\u001b[1;32m----> 1\u001b[1;33m \u001b[0mmy_series\u001b[0m \u001b[1;33m=\u001b[0m \u001b[0mpd\u001b[0m\u001b[1;33m.\u001b[0m\u001b[0mSeries\u001b[0m\u001b[1;33m(\u001b[0m\u001b[0mdata\u001b[0m\u001b[1;33m=\u001b[0m\u001b[1;33m[\u001b[0m\u001b[1;36m20000\u001b[0m\u001b[1;33m,\u001b[0m \u001b[1;36m21000\u001b[0m\u001b[1;33m,\u001b[0m \u001b[1;36m100000\u001b[0m\u001b[1;33m,\u001b[0m \u001b[1;36m88000\u001b[0m\u001b[1;33m,\u001b[0m \u001b[1;36m101000\u001b[0m\u001b[1;33m]\u001b[0m\u001b[1;33m,\u001b[0m \u001b[0mindex\u001b[0m\u001b[1;33m=\u001b[0m\u001b[1;33m[\u001b[0m\u001b[1;34m\"Seb\"\u001b[0m\u001b[1;33m,\u001b[0m \u001b[1;34m\"Ben\"\u001b[0m\u001b[1;33m,\u001b[0m \u001b[1;34m\"Katia\"\u001b[0m\u001b[1;33m,\u001b[0m \u001b[1;34m\"Joseph\"\u001b[0m\u001b[1;33m,\u001b[0m \u001b[1;34m\"Tamara\"\u001b[0m\u001b[1;33m]\u001b[0m\u001b[1;33m,\u001b[0m \u001b[0mname\u001b[0m\u001b[1;33m=\u001b[0m\u001b[1;34m\"salary\"\u001b[0m\u001b[1;33m)\u001b[0m\u001b[1;33m\u001b[0m\u001b[1;33m\u001b[0m\u001b[0m\n\u001b[0m\u001b[0;32m      2\u001b[0m \u001b[0mprint\u001b[0m\u001b[1;33m(\u001b[0m\u001b[0mmy_series\u001b[0m\u001b[1;33m)\u001b[0m\u001b[1;33m\u001b[0m\u001b[1;33m\u001b[0m\u001b[0m\n",
      "\u001b[1;31mNameError\u001b[0m: name 'pd' is not defined"
     ]
    }
   ],
   "source": [
    "my_series = pd.Series(data=[20000, 21000, 100000, 88000, 101000], \n",
    "                      index=[\"Seb\", \"Ben\", \"Katia\", \"Joseph\", \"Tamara\"], \n",
    "                      name=\"salary\")\n",
    "print(my_series)"
   ]
  },
  {
   "cell_type": "markdown",
   "metadata": {},
   "source": [
    "We can see all the `Series` information in the printout and we can also see it by using the attributes below."
   ]
  },
  {
   "cell_type": "code",
   "execution_count": 10,
   "metadata": {},
   "outputs": [
    {
     "name": "stdout",
     "output_type": "stream",
     "text": [
      "salary\n",
      "[ 20000  21000 100000  88000 101000]\n",
      "Index(['Seb', 'Ben', 'Katia', 'Joseph', 'Tamara'], dtype='object')\n"
     ]
    }
   ],
   "source": [
    "print(my_series.name)\n",
    "print(my_series.values)\n",
    "print(my_series.index)"
   ]
  },
  {
   "cell_type": "markdown",
   "metadata": {},
   "source": [
    "Now, because our index is no longer monotonically increasing integers (e.g. [0, 2, 4, 6, 8]), you can see that the `RangeIndex` object is no longer able to be used to represent the `index`. For this example, the `index` is simply a list of the index values `[\"Seb\", \"Ben\", \"Katia\", \"Joseph\", \"Tamara\"]`.\n",
    "\n",
    "**Note:** The idea of having of having non-numeric integers is new and a bit strange. We'll get into this more shortly.\n",
    "\n",
    "After a `Series` has been created, we can reassign the `Index` of a `Series` to a new `Index`."
   ]
  },
  {
   "cell_type": "code",
   "execution_count": 11,
   "metadata": {},
   "outputs": [
    {
     "name": "stdout",
     "output_type": "stream",
     "text": [
      "Goodfellow      20000\n",
      "Kinsella        21000\n",
      "Ossetchkina    100000\n",
      "Sebastian       88000\n",
      "Kecman         101000\n",
      "Name: salary, dtype: int64\n"
     ]
    }
   ],
   "source": [
    "my_series.index = ['Goodfellow', 'Kinsella', 'Ossetchkina', 'Sebastian', 'Kecman']\n",
    "print(my_series)"
   ]
  },
  {
   "cell_type": "markdown",
   "metadata": {},
   "source": [
    "We can also do this for `name`."
   ]
  },
  {
   "cell_type": "code",
   "execution_count": 12,
   "metadata": {},
   "outputs": [
    {
     "name": "stdout",
     "output_type": "stream",
     "text": [
      "Goodfellow      20000\n",
      "Kinsella        21000\n",
      "Ossetchkina    100000\n",
      "Sebastian       88000\n",
      "Kecman         101000\n",
      "Name: income, dtype: int64\n"
     ]
    }
   ],
   "source": [
    "my_series.name = 'income'\n",
    "print(my_series)"
   ]
  },
  {
   "cell_type": "markdown",
   "metadata": {},
   "source": [
    "But not for `data (values)`."
   ]
  },
  {
   "cell_type": "code",
   "execution_count": 13,
   "metadata": {},
   "outputs": [
    {
     "ename": "AttributeError",
     "evalue": "can't set attribute 'values'",
     "output_type": "error",
     "traceback": [
      "\u001b[1;31m---------------------------------------------------------------------------\u001b[0m",
      "\u001b[1;31mAttributeError\u001b[0m                            Traceback (most recent call last)",
      "\u001b[1;32m~\\anaconda3\\lib\\site-packages\\pandas\\core\\generic.py\u001b[0m in \u001b[0;36m?\u001b[1;34m(self, name, value)\u001b[0m\n\u001b[0;32m   6244\u001b[0m                         \u001b[0mstacklevel\u001b[0m\u001b[1;33m=\u001b[0m\u001b[0mfind_stack_level\u001b[0m\u001b[1;33m(\u001b[0m\u001b[1;33m)\u001b[0m\u001b[1;33m,\u001b[0m\u001b[1;33m\u001b[0m\u001b[1;33m\u001b[0m\u001b[0m\n\u001b[0;32m   6245\u001b[0m                     )\n\u001b[1;32m-> 6246\u001b[1;33m                 \u001b[0mobject\u001b[0m\u001b[1;33m.\u001b[0m\u001b[0m__setattr__\u001b[0m\u001b[1;33m(\u001b[0m\u001b[0mself\u001b[0m\u001b[1;33m,\u001b[0m \u001b[0mname\u001b[0m\u001b[1;33m,\u001b[0m \u001b[0mvalue\u001b[0m\u001b[1;33m)\u001b[0m\u001b[1;33m\u001b[0m\u001b[1;33m\u001b[0m\u001b[0m\n\u001b[0m",
      "\u001b[1;31mAttributeError\u001b[0m: can't set attribute 'values'",
      "\nDuring handling of the above exception, another exception occurred:\n",
      "\u001b[1;31mAttributeError\u001b[0m                            Traceback (most recent call last)",
      "\u001b[1;32m~\\AppData\\Local\\Temp\\ipykernel_29072\\676516337.py\u001b[0m in \u001b[0;36m?\u001b[1;34m()\u001b[0m\n\u001b[1;32m----> 1\u001b[1;33m \u001b[0mmy_series\u001b[0m\u001b[1;33m.\u001b[0m\u001b[0mvalues\u001b[0m \u001b[1;33m=\u001b[0m \u001b[1;33m[\u001b[0m\u001b[1;36m0\u001b[0m\u001b[1;33m,\u001b[0m \u001b[1;36m0\u001b[0m\u001b[1;33m,\u001b[0m \u001b[1;36m0\u001b[0m\u001b[1;33m,\u001b[0m \u001b[1;36m0\u001b[0m\u001b[1;33m,\u001b[0m \u001b[1;36m0\u001b[0m\u001b[1;33m]\u001b[0m\u001b[1;33m\u001b[0m\u001b[1;33m\u001b[0m\u001b[0m\n\u001b[0m\u001b[0;32m      2\u001b[0m \u001b[0mprint\u001b[0m\u001b[1;33m(\u001b[0m\u001b[0mmy_series\u001b[0m\u001b[1;33m)\u001b[0m\u001b[1;33m\u001b[0m\u001b[1;33m\u001b[0m\u001b[0m\n",
      "\u001b[1;32m~\\anaconda3\\lib\\site-packages\\pandas\\core\\generic.py\u001b[0m in \u001b[0;36m?\u001b[1;34m(self, name, value)\u001b[0m\n\u001b[0;32m   6242\u001b[0m                         \u001b[1;34m\"https://pandas.pydata.org/pandas-docs/\"\u001b[0m\u001b[1;33m\u001b[0m\u001b[1;33m\u001b[0m\u001b[0m\n\u001b[0;32m   6243\u001b[0m                         \u001b[1;34m\"stable/indexing.html#attribute-access\"\u001b[0m\u001b[1;33m,\u001b[0m\u001b[1;33m\u001b[0m\u001b[1;33m\u001b[0m\u001b[0m\n\u001b[0;32m   6244\u001b[0m                         \u001b[0mstacklevel\u001b[0m\u001b[1;33m=\u001b[0m\u001b[0mfind_stack_level\u001b[0m\u001b[1;33m(\u001b[0m\u001b[1;33m)\u001b[0m\u001b[1;33m,\u001b[0m\u001b[1;33m\u001b[0m\u001b[1;33m\u001b[0m\u001b[0m\n\u001b[0;32m   6245\u001b[0m                     )\n\u001b[1;32m-> 6246\u001b[1;33m                 \u001b[0mobject\u001b[0m\u001b[1;33m.\u001b[0m\u001b[0m__setattr__\u001b[0m\u001b[1;33m(\u001b[0m\u001b[0mself\u001b[0m\u001b[1;33m,\u001b[0m \u001b[0mname\u001b[0m\u001b[1;33m,\u001b[0m \u001b[0mvalue\u001b[0m\u001b[1;33m)\u001b[0m\u001b[1;33m\u001b[0m\u001b[1;33m\u001b[0m\u001b[0m\n\u001b[0m",
      "\u001b[1;31mAttributeError\u001b[0m: can't set attribute 'values'"
     ]
    }
   ],
   "source": [
    "my_series.values = [0, 0, 0, 0, 0]\n",
    "print(my_series)"
   ]
  },
  {
   "cell_type": "markdown",
   "metadata": {},
   "source": [
    "More on how to update column data when we get to `DataFrames`."
   ]
  },
  {
   "cell_type": "markdown",
   "metadata": {},
   "source": [
    "#### Selecting items in a `Series`\n",
    "We can select a single value or a set of values in a `Series` using:\n",
    "- A single label\n",
    "- A list of labels\n",
    "- A filtering conditionon"
   ]
  },
  {
   "cell_type": "code",
   "execution_count": 14,
   "metadata": {},
   "outputs": [
    {
     "name": "stdout",
     "output_type": "stream",
     "text": [
      "Seb        20000\n",
      "Ben        21000\n",
      "Katia     100000\n",
      "Joseph     88000\n",
      "Tamara    101000\n",
      "Name: salary, dtype: int64\n"
     ]
    }
   ],
   "source": [
    "my_series = pd.Series(data=[20000, 21000, 100000, 88000, 101000], \n",
    "                      index=[\"Seb\", \"Ben\", \"Katia\", \"Joseph\", \"Tamara\"], \n",
    "                      name=\"salary\")\n",
    "print(my_series)"
   ]
  },
  {
   "cell_type": "markdown",
   "metadata": {},
   "source": [
    "**Selection using one label**"
   ]
  },
  {
   "cell_type": "code",
   "execution_count": 15,
   "metadata": {},
   "outputs": [
    {
     "data": {
      "text/plain": [
       "20000"
      ]
     },
     "execution_count": 15,
     "metadata": {},
     "output_type": "execute_result"
    }
   ],
   "source": [
    "my_series['Seb']"
   ]
  },
  {
   "cell_type": "markdown",
   "metadata": {},
   "source": [
    "Notice how the return value is a single array element.\n",
    "\n",
    "**Selection using one label**"
   ]
  },
  {
   "cell_type": "code",
   "execution_count": 18,
   "metadata": {},
   "outputs": [
    {
     "data": {
      "text/plain": [
       "Seb        20000\n",
       "Tamara    101000\n",
       "Name: salary, dtype: int64"
      ]
     },
     "execution_count": 18,
     "metadata": {},
     "output_type": "execute_result"
    }
   ],
   "source": [
    "my_series[['Seb', 'Tamara']]"
   ]
  },
  {
   "cell_type": "markdown",
   "metadata": {},
   "source": [
    "Notice how the return value is another `Series`."
   ]
  },
  {
   "cell_type": "code",
   "execution_count": 19,
   "metadata": {},
   "outputs": [
    {
     "data": {
      "text/plain": [
       "pandas.core.series.Series"
      ]
     },
     "execution_count": 19,
     "metadata": {},
     "output_type": "execute_result"
    }
   ],
   "source": [
    "type(my_series[['Seb', 'Tamara']])"
   ]
  },
  {
   "cell_type": "markdown",
   "metadata": {},
   "source": [
    "**Selection using a filter condition**\n",
    "\n",
    "Filter condition: select all elements greater than 50,000."
   ]
  },
  {
   "cell_type": "code",
   "execution_count": 21,
   "metadata": {},
   "outputs": [
    {
     "name": "stdout",
     "output_type": "stream",
     "text": [
      "Seb       False\n",
      "Ben       False\n",
      "Katia      True\n",
      "Joseph     True\n",
      "Tamara     True\n",
      "Name: salary, dtype: bool\n"
     ]
    }
   ],
   "source": [
    "print(my_series > 50000)"
   ]
  },
  {
   "cell_type": "markdown",
   "metadata": {},
   "source": [
    "What we get back is a `Series` of booleans. `True` if the data is > 50,000 and `False` if the data is <= 50,000.\n",
    "\n",
    "We can use this boolean `Series` to filter our original `Series` to only have data with values > 50,000."
   ]
  },
  {
   "cell_type": "code",
   "execution_count": 22,
   "metadata": {},
   "outputs": [
    {
     "name": "stdout",
     "output_type": "stream",
     "text": [
      "Katia     100000\n",
      "Joseph     88000\n",
      "Tamara    101000\n",
      "Name: salary, dtype: int64\n"
     ]
    }
   ],
   "source": [
    "print(my_series[my_series > 50000])"
   ]
  },
  {
   "cell_type": "markdown",
   "metadata": {},
   "source": [
    "You would also make up your own list of booleans. Also long as this list has an many booleans in it as there are items in the `Series`, you can use it in the following way."
   ]
  },
  {
   "cell_type": "code",
   "execution_count": 23,
   "metadata": {},
   "outputs": [
    {
     "name": "stdout",
     "output_type": "stream",
     "text": [
      "Seb    20000\n",
      "Ben    21000\n",
      "Name: salary, dtype: int64\n"
     ]
    }
   ],
   "source": [
    "print(my_series[[True, True, False, False, False]])"
   ]
  },
  {
   "cell_type": "markdown",
   "metadata": {},
   "source": [
    "#### Looping over a `Series`"
   ]
  },
  {
   "cell_type": "code",
   "execution_count": 28,
   "metadata": {},
   "outputs": [
    {
     "name": "stdout",
     "output_type": "stream",
     "text": [
      "20000\n",
      "21000\n",
      "100000\n",
      "88000\n",
      "101000\n"
     ]
    }
   ],
   "source": [
    "for item in my_series:\n",
    "    print(item)"
   ]
  },
  {
   "cell_type": "code",
   "execution_count": null,
   "metadata": {},
   "outputs": [],
   "source": []
  }
 ],
 "metadata": {
  "kernelspec": {
   "display_name": "Python 3 (ipykernel)",
   "language": "python",
   "name": "python3"
  },
  "language_info": {
   "codemirror_mode": {
    "name": "ipython",
    "version": 3
   },
   "file_extension": ".py",
   "mimetype": "text/x-python",
   "name": "python",
   "nbconvert_exporter": "python",
   "pygments_lexer": "ipython3",
   "version": "3.11.5"
  }
 },
 "nbformat": 4,
 "nbformat_minor": 4
}
