{
 "cells": [
  {
   "cell_type": "markdown",
   "metadata": {
    "collapsed": true
   },
   "source": [
    "# APS106 - Fundamentals of Computer Programming\n",
    "## Week 12 | Lecture 1 (12.2) - More Pandas, Data Visualization\n",
    "\n",
    "### This Week\n",
    "| Lecture | Topics |\n",
    "| --- | --- |\n",
    "| 12.1 | Pandas |\n",
    "| **12.2** | **More Pandas, Data Visualization** | \n",
    "| 12.3 | Design Problem: Stock Market, Part 1 |\n",
    "\n",
    "### Lecture Structure\n",
    "1. [Conditional Selection](#section1)\n",
    "2. [Breakout Session 1](#section2)\n",
    "3. [Adding, removing, and modifying columns](#section3)\n",
    "4. [Utility Methods](#section4)\n",
    "5. [Concatentation](#section5)\n",
    "6. [Breakout Session 2](#section6)\n",
    "7. [Data Visualization](#section7)"
   ]
  },
  {
   "cell_type": "markdown",
   "metadata": {},
   "source": [
    "<a id='section1'></a>\n",
    "## 1. Truthy and Falsy Values\n",
    "Let's create a `Node`."
   ]
  },
  {
   "cell_type": "code",
   "execution_count": null,
   "metadata": {},
   "outputs": [],
   "source": [
    "class TreeNode:\n",
    "    \n",
    "    \"\"\"A class that implements a binary tree.\"\"\"\n",
    "\n",
    "    def __init__(self, cargo=None, left=None, right=None):\n",
    "        \"\"\"\n",
    "        (self) -> NoneType\n",
    "        Create a Node with cargo and left and right subtrees.\n",
    "        \"\"\"\n",
    "        self.cargo = cargo\n",
    "        self.left = left\n",
    "        self.right = right\n",
    "        \n",
    "    def __str__(self):\n",
    "        return '(' + str(self.cargo) + ')'"
   ]
  },
  {
   "cell_type": "markdown",
   "metadata": {},
   "source": [
    "Let's create a `Node` object."
   ]
  }
 ],
 "metadata": {
  "kernelspec": {
   "display_name": "Python 3 (ipykernel)",
   "language": "python",
   "name": "python3"
  },
  "language_info": {
   "codemirror_mode": {
    "name": "ipython",
    "version": 3
   },
   "file_extension": ".py",
   "mimetype": "text/x-python",
   "name": "python",
   "nbconvert_exporter": "python",
   "pygments_lexer": "ipython3",
   "version": "3.11.5"
  }
 },
 "nbformat": 4,
 "nbformat_minor": 1
}
