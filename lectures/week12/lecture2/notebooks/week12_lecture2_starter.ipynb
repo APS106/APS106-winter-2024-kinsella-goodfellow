{
 "cells": [
  {
   "cell_type": "markdown",
   "metadata": {
    "collapsed": true
   },
   "source": [
    "# APS106 - Fundamentals of Computer Programming\n",
    "## Week 12 | Lecture 2 (12.2) - binary search trees\n",
    "\n",
    "### This Week\n",
    "| Lecture | Topics | Reading |\n",
    "| --- | --- | --- | \n",
    "| 12.1 | Linked Lists and Binary Trees | Chapter 14  |\n",
    "| **12.2** | **Binary Search Trees** | **Chapter 14** | \n",
    "| 12.3 | Design Problem: 20 Questions |  |\n",
    "\n",
    "### Lecture Structure\n",
    "1. [Truthy and Falsy Values](#section1)\n",
    "2. [Binary Search Tree Class](#section2)\n",
    "3. [Breakout Session](#section3)"
   ]
  },
  {
   "cell_type": "markdown",
   "metadata": {},
   "source": [
    "<a id='section1'></a>\n",
    "## 1. Truthy and Falsy Values\n",
    "Let's create a `Node`."
   ]
  },
  {
   "cell_type": "code",
   "execution_count": null,
   "metadata": {},
   "outputs": [],
   "source": [
    "class TreeNode:\n",
    "    \n",
    "    \"\"\"A class that implements a binary tree.\"\"\"\n",
    "\n",
    "    def __init__(self, cargo=None, left=None, right=None):\n",
    "        \"\"\"\n",
    "        (self) -> NoneType\n",
    "        Create a Node with cargo and left and right subtrees.\n",
    "        \"\"\"\n",
    "        self.cargo = cargo\n",
    "        self.left = left\n",
    "        self.right = right\n",
    "        \n",
    "    def __str__(self):\n",
    "        return '(' + str(self.cargo) + ')'"
   ]
  },
  {
   "cell_type": "markdown",
   "metadata": {},
   "source": [
    "Let's create a `Node` object."
   ]
  },
  {
   "cell_type": "code",
   "execution_count": null,
   "metadata": {},
   "outputs": [],
   "source": [
    "node = TreeNode()"
   ]
  },
  {
   "cell_type": "markdown",
   "metadata": {},
   "source": [
    "Now, let's check that is evaluates to."
   ]
  },
  {
   "cell_type": "code",
   "execution_count": null,
   "metadata": {},
   "outputs": [],
   "source": [
    "if node:\n",
    "    print('A Node object is a Truthy value.')"
   ]
  },
  {
   "cell_type": "markdown",
   "metadata": {},
   "source": [
    "By default any new class we create as a hidden method called `__bool__`, which by default evaluates to `True`."
   ]
  },
  {
   "cell_type": "code",
   "execution_count": null,
   "metadata": {},
   "outputs": [],
   "source": [
    "class TreeNode:\n",
    "    \n",
    "    \"\"\"A class that implements a binary tree.\"\"\"\n",
    "\n",
    "    def __init__(self, cargo=None, left=None, right=None):\n",
    "        \"\"\"\n",
    "        (self) -> NoneType\n",
    "        Create a Node with cargo and left and right subtrees.\n",
    "        \"\"\"\n",
    "        self.cargo = cargo\n",
    "        self.left = left\n",
    "        self.right = right\n",
    "        \n",
    "    def __str__(self):\n",
    "        return '(' + str(self.cargo) + ')'\n",
    "    \n",
    "    def __bool__(self):\n",
    "        return True"
   ]
  },
  {
   "cell_type": "markdown",
   "metadata": {},
   "source": [
    "But, we can create a custom `__bool__` method if we want some other kind of functionality."
   ]
  },
  {
   "cell_type": "code",
   "execution_count": null,
   "metadata": {},
   "outputs": [],
   "source": [
    "class TreeNode:\n",
    "    \n",
    "    \"\"\"A class that implements a binary tree.\"\"\"\n",
    "\n",
    "    def __init__(self, cargo=None, left=None, right=None):\n",
    "        \"\"\"\n",
    "        (self) -> NoneType\n",
    "        Create a Node with cargo and left and right subtrees.\n",
    "        \"\"\"\n",
    "        self.cargo = cargo\n",
    "        self.left = left\n",
    "        self.right = right\n",
    "        \n",
    "    def __str__(self):\n",
    "        return '(' + str(self.cargo) + ')'\n",
    "    \n",
    "    def __bool__(self):\n",
    "        if self.cargo is None:\n",
    "            return False\n",
    "        else:\n",
    "            return True"
   ]
  },
  {
   "cell_type": "markdown",
   "metadata": {},
   "source": [
    "Let's create a `Node` object again."
   ]
  },
  {
   "cell_type": "code",
   "execution_count": null,
   "metadata": {},
   "outputs": [],
   "source": [
    "node = TreeNode(cargo=None)"
   ]
  },
  {
   "cell_type": "markdown",
   "metadata": {},
   "source": [
    "Now, let's check that is evaluates to."
   ]
  },
  {
   "cell_type": "code",
   "execution_count": null,
   "metadata": {},
   "outputs": [],
   "source": [
    "if node:\n",
    "    print('A Node object is a Truthy value.')"
   ]
  },
  {
   "cell_type": "markdown",
   "metadata": {},
   "source": [
    "Now, an instance of `Node` with `.cargo = None` has a Falsy value."
   ]
  },
  {
   "cell_type": "markdown",
   "metadata": {},
   "source": [
    "<a id='section2'></a>\n",
    "## 2. Binary Search Tree\n",
    "Let's define a `TreeNode` class."
   ]
  },
  {
   "cell_type": "code",
   "execution_count": null,
   "metadata": {},
   "outputs": [],
   "source": [
    "class TreeNode:\n",
    "    \n",
    "    \"\"\"A class that implements a binary tree.\"\"\"\n",
    "\n",
    "    def __init__(self, cargo=None, left=None, right=None):\n",
    "        \"\"\"\n",
    "        (self) -> NoneType\n",
    "        Create a Node with cargo and left and right subtrees.\n",
    "        \"\"\"\n",
    "        self.cargo = cargo\n",
    "        self.left = left\n",
    "        self.right = right\n",
    "        \n",
    "    def __str__(self):\n",
    "        return '(' + str(self.cargo) + ')'"
   ]
  },
  {
   "cell_type": "markdown",
   "metadata": {},
   "source": [
    "Let's check out the binary search tree class."
   ]
  },
  {
   "cell_type": "code",
   "execution_count": null,
   "metadata": {},
   "outputs": [],
   "source": [
    "class BinarySearchTree:\n",
    "    \n",
    "    \"\"\"A Node class used by a binary sreach tree class.\"\"\"\n",
    "    \n",
    "    def __init__(self, root=None):\n",
    "        \"\"\"\n",
    "        (self) -> NoneType\n",
    "        Create an empty binary tree.\n",
    "        \"\"\"\n",
    "        self.root = root\n",
    " \n",
    "    def print_tree(self):\n",
    "        \"\"\"\n",
    "        (self) -> NoneType\n",
    "        Prints tree level by level.\n",
    "        \"\"\"\n",
    "        level = [self.root]\n",
    "        \n",
    "        while len(level) > 0:\n",
    "            \n",
    "            level_next = []\n",
    "            \n",
    "            for node in level:\n",
    "                \n",
    "                print(node, \" \", end = \"\")\n",
    "                \n",
    "                if node.left is not None:\n",
    "                    level_next.append(node.left) \n",
    "                if node.right is not None:\n",
    "                    level_next.append(node.right)\n",
    "                    \n",
    "            print('\\n')\n",
    "            level = level_next"
   ]
  },
  {
   "cell_type": "markdown",
   "metadata": {},
   "source": [
    "At this point it looks very similar to our `BinaryTree` class. \n",
    "\n",
    "We can create a tree.\n",
    "```python\n",
    "\"\"\"\n",
    "      3\n",
    "     /  \\\n",
    "    /    \\\n",
    "   2      7\n",
    "  / \\    / \\\n",
    " 1   6  2   8\n",
    "\"\"\"\n",
    "```"
   ]
  },
  {
   "cell_type": "code",
   "execution_count": null,
   "metadata": {},
   "outputs": [],
   "source": [
    "tree = BinarySearchTree(TreeNode(3, TreeNode(2, TreeNode(1), TreeNode(6)), TreeNode(7, TreeNode(2), TreeNode(8))))"
   ]
  },
  {
   "cell_type": "markdown",
   "metadata": {},
   "source": [
    "And, we can print the tree."
   ]
  },
  {
   "cell_type": "code",
   "execution_count": null,
   "metadata": {},
   "outputs": [],
   "source": [
    "tree.print_tree()"
   ]
  },
  {
   "cell_type": "markdown",
   "metadata": {},
   "source": [
    "What we need for our BinarySearchTree class is a method for testing whether or not the tree is a valid binary search tree.\n",
    "\n",
    "Let's add this method `.is_valid()` that we can test on our two test cases below."
   ]
  },
  {
   "cell_type": "code",
   "execution_count": null,
   "metadata": {},
   "outputs": [],
   "source": [
    "class BinarySearchTree:\n",
    "    \n",
    "    \"\"\"A Node class used by a binary search tree class.\"\"\"\n",
    "    \n",
    "    def __init__(self, root=None):\n",
    "        \"\"\"\n",
    "        (self) -> NoneType\n",
    "        Create an empty binary tree.\n",
    "        \"\"\"\n",
    "        self.root = root\n",
    " \n",
    "    def print_tree(self):\n",
    "        \"\"\"\n",
    "        (self) -> NoneType\n",
    "        Prints tree level by level.\n",
    "        \"\"\"\n",
    "        level = [self.root]\n",
    "        \n",
    "        while len(level) > 0:\n",
    "            \n",
    "            level_next = []\n",
    "            \n",
    "            for node in level:\n",
    "                \n",
    "                print(node, \" \", end = \"\")\n",
    "                \n",
    "                if node.left is not None:\n",
    "                    level_next.append(node.left) \n",
    "                if node.right is not None:\n",
    "                    level_next.append(node.right)\n",
    "                    \n",
    "            print('\\n')\n",
    "            level = level_next\n",
    "            \n",
    "    def is_valid(self):\n",
    "        \"\"\"\n",
    "        (self) -> NoneType\n",
    "        Checks if self.root is a valid binary search tree.\n",
    "        \"\"\"\n",
    "        on = self.root\n",
    "        stack = []\n",
    "        prev = None\n",
    "\n",
    "        while len(stack) > 0 or on is not None:\n",
    "\n",
    "            while on is not None:\n",
    "                \n",
    "                stack.append(on)\n",
    "                on = on.left\n",
    "\n",
    "            on = stack.pop()\n",
    "\n",
    "            if prev is not None and on.cargo <= prev.cargo:\n",
    "                return False\n",
    "\n",
    "            prev = on\n",
    "            on = on.right\n",
    "\n",
    "        return True"
   ]
  },
  {
   "cell_type": "markdown",
   "metadata": {},
   "source": [
    "### Test 1: Valid Tree\n",
    "```python\n",
    "\"\"\"\n",
    "     9\n",
    "    / \\\n",
    "   6   10\n",
    "  / \\   \\\n",
    " 4   7   11\n",
    "\"\"\"\n",
    "```\n",
    "Let's create the tree."
   ]
  },
  {
   "cell_type": "code",
   "execution_count": null,
   "metadata": {},
   "outputs": [],
   "source": [
    "tree = BinarySearchTree(\n",
    "    TreeNode(\n",
    "        9,\n",
    "        TreeNode(\n",
    "            6, \n",
    "            TreeNode(4), \n",
    "            TreeNode(7)\n",
    "        ),\n",
    "        TreeNode(\n",
    "            10, \n",
    "            None, \n",
    "            TreeNode(11)\n",
    "        )\n",
    "    )\n",
    ")"
   ]
  },
  {
   "cell_type": "markdown",
   "metadata": {},
   "source": [
    "Now, let's print the tree."
   ]
  },
  {
   "cell_type": "code",
   "execution_count": null,
   "metadata": {},
   "outputs": [],
   "source": [
    "tree.print_tree()"
   ]
  },
  {
   "cell_type": "markdown",
   "metadata": {},
   "source": [
    "Now, check if its valid."
   ]
  },
  {
   "cell_type": "code",
   "execution_count": null,
   "metadata": {},
   "outputs": [],
   "source": [
    "tree.is_valid()"
   ]
  },
  {
   "cell_type": "markdown",
   "metadata": {},
   "source": [
    "### Test 2: Valid Tree\n",
    "```python\n",
    "\"\"\"\n",
    "     9\n",
    "    / \\\n",
    "   6   10\n",
    "  / \\   \\\n",
    " 4   7   13\n",
    "         / \\\n",
    "        11  15 \n",
    "\"\"\"\n",
    "```\n",
    "Let's create the tree."
   ]
  },
  {
   "cell_type": "code",
   "execution_count": null,
   "metadata": {},
   "outputs": [],
   "source": [
    "tree = BinarySearchTree(\n",
    "    TreeNode(\n",
    "        9,\n",
    "        TreeNode(\n",
    "            6, \n",
    "            TreeNode(4), \n",
    "            TreeNode(7)\n",
    "        ),\n",
    "        TreeNode(\n",
    "            10, \n",
    "            None, \n",
    "            TreeNode(\n",
    "                13, \n",
    "                TreeNode(11), \n",
    "                TreeNode(15)\n",
    "            )\n",
    "        )\n",
    "    )\n",
    ")"
   ]
  },
  {
   "cell_type": "markdown",
   "metadata": {},
   "source": [
    "Now, let's print the tree."
   ]
  },
  {
   "cell_type": "code",
   "execution_count": null,
   "metadata": {},
   "outputs": [],
   "source": [
    "tree.print_tree()"
   ]
  },
  {
   "cell_type": "markdown",
   "metadata": {},
   "source": [
    "Now, check if its valid."
   ]
  },
  {
   "cell_type": "code",
   "execution_count": null,
   "metadata": {},
   "outputs": [],
   "source": [
    "tree.is_valid()"
   ]
  },
  {
   "cell_type": "markdown",
   "metadata": {},
   "source": [
    "### Test 3: Invalid Tree\n",
    "```python\n",
    "\"\"\"\n",
    "     9\n",
    "    / \\\n",
    "   6   10\n",
    "  / \\   \\\n",
    " 4   12  11\n",
    "\"\"\"\n",
    "```\n",
    "Let's create the tree."
   ]
  },
  {
   "cell_type": "code",
   "execution_count": null,
   "metadata": {},
   "outputs": [],
   "source": [
    "tree = BinarySearchTree(\n",
    "    TreeNode(\n",
    "        9,\n",
    "        TreeNode(\n",
    "            6, \n",
    "            TreeNode(4), \n",
    "            TreeNode(12)\n",
    "        ),\n",
    "        TreeNode(\n",
    "            10, \n",
    "            None, \n",
    "            TreeNode(11)\n",
    "        )\n",
    "    )\n",
    ")"
   ]
  },
  {
   "cell_type": "markdown",
   "metadata": {},
   "source": [
    "Now, let's print the tree."
   ]
  },
  {
   "cell_type": "code",
   "execution_count": null,
   "metadata": {},
   "outputs": [],
   "source": [
    "tree.print_tree()"
   ]
  },
  {
   "cell_type": "markdown",
   "metadata": {},
   "source": [
    "Now, check if its valid."
   ]
  },
  {
   "cell_type": "code",
   "execution_count": null,
   "metadata": {},
   "outputs": [],
   "source": [
    "tree.is_valid()"
   ]
  },
  {
   "cell_type": "markdown",
   "metadata": {},
   "source": [
    "### Test 4: Invalid Tree\n",
    "```python\n",
    "\"\"\"\n",
    "     9\n",
    "    / \\\n",
    "   6   10\n",
    "  / \\   \\\n",
    " 4   7   13\n",
    "         / \\\n",
    "        9  15 \n",
    "\"\"\"\n",
    "```\n",
    "Let's create the tree."
   ]
  },
  {
   "cell_type": "code",
   "execution_count": null,
   "metadata": {},
   "outputs": [],
   "source": [
    "tree = BinarySearchTree(\n",
    "    TreeNode(\n",
    "        9,\n",
    "        TreeNode(\n",
    "            6, \n",
    "            TreeNode(4), \n",
    "            TreeNode(7)\n",
    "        ),\n",
    "        TreeNode(\n",
    "            10, \n",
    "            None, \n",
    "            TreeNode(\n",
    "                13, \n",
    "                TreeNode(9), \n",
    "                TreeNode(15)\n",
    "            )\n",
    "        )\n",
    "    )\n",
    ")"
   ]
  },
  {
   "cell_type": "markdown",
   "metadata": {},
   "source": [
    "Now, let's print the tree."
   ]
  },
  {
   "cell_type": "code",
   "execution_count": null,
   "metadata": {},
   "outputs": [],
   "source": [
    "tree.print_tree()"
   ]
  },
  {
   "cell_type": "markdown",
   "metadata": {},
   "source": [
    "Now, check if its valid."
   ]
  },
  {
   "cell_type": "code",
   "execution_count": null,
   "metadata": {},
   "outputs": [],
   "source": [
    "tree.is_valid()"
   ]
  },
  {
   "cell_type": "markdown",
   "metadata": {},
   "source": [
    "<a id='section3'></a>\n",
    "## 3. Breakout Session"
   ]
  },
  {
   "cell_type": "code",
   "execution_count": null,
   "metadata": {},
   "outputs": [],
   "source": [
    "class BinarySearchTree:\n",
    "    \n",
    "    \"\"\"A Node class used by a binary search tree class.\"\"\"\n",
    "    \n",
    "    def __init__(self, root=None):\n",
    "        \"\"\"\n",
    "        (self) -> NoneType\n",
    "        Create an empty binary tree.\n",
    "        \"\"\"\n",
    "        self.root = root\n",
    "        if not self.is_valid():\n",
    "            print('This is not a valid binary search tree.')\n",
    " \n",
    "    def print_tree(self):\n",
    "        \"\"\"\n",
    "        (self) -> NoneType\n",
    "        Prints tree level by level.\n",
    "        \"\"\"\n",
    "        level = [self.root]\n",
    "        \n",
    "        while len(level) > 0:\n",
    "            \n",
    "            level_next = []\n",
    "            \n",
    "            for node in level:\n",
    "                \n",
    "                print(node, \" \", end = \"\")\n",
    "                \n",
    "                if node.left is not None:\n",
    "                    level_next.append(node.left) \n",
    "                if node.right is not None:\n",
    "                    level_next.append(node.right)\n",
    "                    \n",
    "            print('\\n')\n",
    "            level = level_next\n",
    "            \n",
    "    def is_valid(self):\n",
    "        \"\"\"\n",
    "        (self) -> NoneType\n",
    "        Checks if self.root is a valid binary search tree.\n",
    "        \"\"\"\n",
    "        on = self.root\n",
    "        stack = []\n",
    "        prev = None\n",
    "\n",
    "        while len(stack) > 0 or on is not None:\n",
    "\n",
    "            while on is not None:\n",
    "                \n",
    "                stack.append(on)\n",
    "                on = on.left\n",
    "\n",
    "            on = stack.pop()\n",
    "\n",
    "            if prev is not None and on.cargo <= prev.cargo:\n",
    "                return False\n",
    "\n",
    "            prev = on\n",
    "            on = on.right\n",
    "\n",
    "        return True\n",
    "    \n",
    "    def find(self, cargo):\n",
    "        \"\"\"\n",
    "        (self, number) -> bool\n",
    "        Checks if cargo value is in the tree.\n",
    "        \"\"\"\n",
    "        on = self.root\n",
    "        \n",
    "        while on is not None:\n",
    "\n",
    "            if ...: # If cargo is greater, move to the right.\n",
    "                ...\n",
    "                \n",
    "            elif ...: # If cargo is less, move to the left.\n",
    "                ...\n",
    "                \n",
    "            else:\n",
    "                return ...\n",
    "        \n",
    "        return ..."
   ]
  },
  {
   "cell_type": "markdown",
   "metadata": {},
   "source": [
    "### Test 1:\n",
    "```python\n",
    "\"\"\"\n",
    "     9\n",
    "    / \\\n",
    "   6   10\n",
    "  / \\   \\\n",
    " 4   7   13\n",
    "         / \\\n",
    "        11  15 \n",
    "\"\"\"\n",
    "```\n",
    "Let's create the tree."
   ]
  },
  {
   "cell_type": "code",
   "execution_count": null,
   "metadata": {},
   "outputs": [],
   "source": [
    "tree = BinarySearchTree(\n",
    "    TreeNode(\n",
    "        9,\n",
    "        TreeNode(\n",
    "            6, \n",
    "            TreeNode(4), \n",
    "            TreeNode(7)\n",
    "        ),\n",
    "        TreeNode(\n",
    "            10, \n",
    "            None, \n",
    "            TreeNode(\n",
    "                13, \n",
    "                TreeNode(11), \n",
    "                TreeNode(15)\n",
    "            )\n",
    "        )\n",
    "    )\n",
    ")"
   ]
  },
  {
   "cell_type": "markdown",
   "metadata": {},
   "source": [
    "Now, let's print the tree."
   ]
  },
  {
   "cell_type": "code",
   "execution_count": null,
   "metadata": {},
   "outputs": [],
   "source": [
    "tree.print_tree()"
   ]
  },
  {
   "cell_type": "markdown",
   "metadata": {},
   "source": [
    "Now let's look for a cargo value in the tree.\n",
    "```python\n",
    "\"\"\"\n",
    "     9\n",
    "    / \\\n",
    "   6   10\n",
    "  / \\   \\\n",
    " 4   7   13\n",
    "         / \\\n",
    "        11  15 \n",
    "\"\"\"\n",
    "```"
   ]
  },
  {
   "cell_type": "code",
   "execution_count": null,
   "metadata": {},
   "outputs": [],
   "source": [
    "tree.find(7)"
   ]
  },
  {
   "cell_type": "markdown",
   "metadata": {},
   "source": [
    "### Test 2:\n",
    "```python\n",
    "\"\"\"\n",
    "     9\n",
    "    / \\\n",
    "   6   10\n",
    "  / \\   \\\n",
    " 4   7   13\n",
    "         / \\\n",
    "        11  15 \n",
    "\"\"\"\n",
    "```"
   ]
  },
  {
   "cell_type": "code",
   "execution_count": null,
   "metadata": {},
   "outputs": [],
   "source": [
    "tree.find(12)"
   ]
  }
 ],
 "metadata": {
  "kernelspec": {
   "display_name": "Python 3 (ipykernel)",
   "language": "python",
   "name": "python3"
  },
  "language_info": {
   "codemirror_mode": {
    "name": "ipython",
    "version": 3
   },
   "file_extension": ".py",
   "mimetype": "text/x-python",
   "name": "python",
   "nbconvert_exporter": "python",
   "pygments_lexer": "ipython3",
   "version": "3.7.11"
  }
 },
 "nbformat": 4,
 "nbformat_minor": 1
}
