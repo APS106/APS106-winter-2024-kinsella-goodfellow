{
 "cells": [
  {
   "cell_type": "markdown",
   "metadata": {},
   "source": [
    "# APS106 Lecture Notes - Week 11, Lecture 2\n",
    "\n",
    "| Lecture | Topics | Reading |\n",
    "| --- | --- | --- | \n",
    "| 11.1 | More OOP! Encapsulation and Examples | Chapter 14 |\n",
    "| 11.2 | **Advanced Data Structures: Linked Lists** | Chapter 14 |  \n",
    "| 11.3 | Design Problem! |  | \n",
    "\n",
    "### Lecture Structure\n",
    "1. [The Node Class](#section1)\n",
    "2. [Traversing a Linked List](#section2)"
   ]
  },
  {
   "cell_type": "markdown",
   "metadata": {},
   "source": [
    " <a id='section1'></a>\n",
    "\n",
    "# Advanced Data Structures\n",
    "\n",
    "## Linked Lists\n",
    "\n",
    "Linked lists are a linear collection of data elements made up of nodes. Each node contains a link to the next node in the list and a unit (or multiple units) of data (i.e. str, int, list, set, etc.) that we will call the \"cargo\". Linked-list data structures allow for efficient insertion and removal of elements from any position in the sequence without needing to reallocate or reorganize the data. The last node in a linked list is None and does not provide a link to any other nodes.\n",
    "\n",
    "![LinkedList1](images/linked1.png)\n",
    "\n",
    "Insertion of a new node requires that the previous node (node1) point to the new node (new_node), and the new node points to where the previous node had pointed to before (node2).\n",
    "\n",
    "![LinkedList2](images/linked2.png)\n",
    "\n",
    "Let us now use our knowledge of classes to prepare a linked list data structure in Python.\n",
    "\n",
    "### The Node class\n",
    "\n",
    "As usual when writing a new class, we’ll start with the initialization, __init__ and __str__ methods so that we can test the basic mechanism of creating and displaying the new type:\n",
    "\n"
   ]
  },
  {
   "cell_type": "code",
   "execution_count": null,
   "metadata": {},
   "outputs": [],
   "source": [
    "class Node:\n",
    "    '''An object that represents and element in a linked list'''\n",
    "    \n",
    "    def __init__(self, cargo=None, next=None):\n",
    "        '''\n",
    "        (self,object,Node) -> NoneType\n",
    "        '''\n",
    "        self.cargo = cargo\n",
    "        self.next  = next\n",
    "\n",
    "    def __str__(self):\n",
    "        return str(self.cargo)\n",
    "\n",
    "node = Node(\"test\")\n",
    "print(node)"
   ]
  },
  {
   "cell_type": "markdown",
   "metadata": {},
   "source": [
    "To make it interesting, we need a list with more than one node:"
   ]
  },
  {
   "cell_type": "code",
   "execution_count": null,
   "metadata": {},
   "outputs": [],
   "source": [
    "node1 = Node(1)\n",
    "node2 = Node(2)\n",
    "node3 = Node(3)"
   ]
  },
  {
   "cell_type": "markdown",
   "metadata": {},
   "source": [
    "This code creates three nodes, but we don’t have a list yet because the nodes are not linked. The state diagram looks like this:\n",
    "\n",
    "![LinkedList3](images/linked3.png)\n",
    "\n",
    "To link the nodes, we have to make the first node refer to the second and the second node refer to the third:"
   ]
  },
  {
   "cell_type": "code",
   "execution_count": null,
   "metadata": {},
   "outputs": [],
   "source": [
    "node1.next = node2\n",
    "node2.next = node3\n",
    "\n",
    "# iterate through linked list\n",
    "head = node1\n",
    "while head:\n",
    "    print(head)\n",
    "    head = head.next"
   ]
  },
  {
   "cell_type": "markdown",
   "metadata": {},
   "source": [
    "The `next` reference of the third node is None, which indicates that it is the end of the list. Now the state diagram looks like this:\n",
    "\n",
    "![LinkedList4](images/linked4.png)\n",
    "\n",
    "We can also add additional elements to the list."
   ]
  },
  {
   "cell_type": "code",
   "execution_count": null,
   "metadata": {},
   "outputs": [],
   "source": [
    "l = [3,4,5,6,7]\n",
    "head = node1\n",
    "for number in l:\n",
    "    print('current head: ',head)\n",
    "    n = Node(number)\n",
    "    n.next = head #points the next variable of our new node to our current head\n",
    "    head = n #sets head to the newest addition at the beginning of our linked list\n",
    "\n",
    "#print()\n",
    "n = head\n",
    "while n:\n",
    "    print(n)\n",
    "    n = n.next"
   ]
  },
  {
   "cell_type": "markdown",
   "metadata": {},
   "source": [
    " <a id='section2'></a>\n",
    "### Traversing a Linked List\n",
    "\n",
    "Lists are useful because they provide a way to assemble multiple objects into a single entity, sometimes called a collection. The first and last nodes of a linked list are also known as the head and tail of the list, respectively. In the example the first node of the list (head) serves as a reference to the entire list.\n",
    "\n",
    "To pass the list as a parameter, we only have to pass a reference to the first node. For example, the function print_list takes a single node as an argument; starting with the head of the list, it prints each node until it gets to the end or tail of the list, this is also called traversing the list:\n"
   ]
  },
  {
   "cell_type": "code",
   "execution_count": null,
   "metadata": {},
   "outputs": [],
   "source": [
    "class Node:\n",
    "    def __init__(self, cargo=None, next=None):\n",
    "        self.cargo = cargo\n",
    "        self.next  = next\n",
    "\n",
    "    def __str__(self):\n",
    "        return str(self.cargo)\n",
    "\n",
    "\n",
    "#function to print linked nodes\n",
    "def print_list(n):\n",
    "    while n:\n",
    "        print(n)\n",
    "        n = n.next\n",
    "    \n",
    "node1 = Node(1)\n",
    "node2 = Node(2)\n",
    "node3 = Node(3)\n",
    "\n",
    "node1.next = node2\n",
    "node2.next = node3\n",
    "\n",
    "print_list(node1)\n",
    "print()\n",
    "print_list(node2)"
   ]
  },
  {
   "cell_type": "markdown",
   "metadata": {},
   "source": [
    "Inside print_list we have a reference to the first node of the list, but there is no variable that refers to the other nodes. We have to use the `next` value from each node to get to the next node. To traverse a linked list, it is common to use a loop variable like `node` to refer to each of the nodes in succession.\n",
    "\n",
    "What would happen if we input `node2` instead of `node1`?\n"
   ]
  },
  {
   "cell_type": "code",
   "execution_count": null,
   "metadata": {},
   "outputs": [],
   "source": [
    "print_list(node2)"
   ]
  },
  {
   "cell_type": "markdown",
   "metadata": {},
   "source": [
    "### Infinite Lists\n",
    "\n",
    "There is nothing to prevent a node from referring back to an earlier node in the list, including itself. For example:\n"
   ]
  },
  {
   "cell_type": "code",
   "execution_count": null,
   "metadata": {},
   "outputs": [],
   "source": [
    "node4 = Node(4)\n",
    "node5 = Node(5)\n",
    "\n",
    "node4.next = node5\n",
    "node5.next = node5\n",
    "#print_list(node4) Will cause an infinite loop"
   ]
  },
  {
   "cell_type": "markdown",
   "metadata": {},
   "source": [
    "This is usually a bug."
   ]
  },
  {
   "cell_type": "markdown",
   "metadata": {},
   "source": [
    "### Modifying lists\n",
    "\n",
    "There are two ways to modify a linked list. Obviously, we can change the cargo of one of the nodes, but the more interesting operations are the ones that add, remove, or reorder the nodes.\n",
    "\n",
    "As an example, let’s write a method that removes the second node in the list and returns a reference to the removed node:\n"
   ]
  },
  {
   "cell_type": "code",
   "execution_count": null,
   "metadata": {},
   "outputs": [],
   "source": [
    "node1.cargo = 'one' #it is possible to change the cargo by accessing the node's attribute\n",
    "print(node1)"
   ]
  },
  {
   "cell_type": "markdown",
   "metadata": {},
   "source": [
    "## BREAKOUT SESSION\n",
    "Write a function that:<br>\n",
    "1. Removes the second element from a linked list\n",
    "2. Returns that removed node\n",
    "3. If the node is None, return None"
   ]
  },
  {
   "cell_type": "code",
   "execution_count": null,
   "metadata": {},
   "outputs": [],
   "source": [
    "def remove_second(node):\n",
    "    '''Takes in the head of a linked list and\n",
    "    removes and return the second element of the linked list'''\n",
    "    if node is None:\n",
    "        return None\n",
    "    \n",
    "    first = node\n",
    "    second = node.next\n",
    "    \n",
    "    first.next = second.next\n",
    "    second.next = None\n",
    "    \n",
    "    return second\n",
    "\n",
    "\n",
    "print_list(node1)\n",
    "print()\n",
    "removed = remove_second(node1)\n",
    "print_list(removed)\n",
    "print()\n",
    "print_list(node1)\n"
   ]
  },
  {
   "cell_type": "markdown",
   "metadata": {},
   "source": [
    "Next week, we'll look at a more general `remove` function."
   ]
  },
  {
   "cell_type": "markdown",
   "metadata": {},
   "source": [
    "### Print Backwards - Warning: Uses an advanced topic recursion (only continue if you want a challenge)\n",
    "\n",
    "How would we print the list backwards? The easiest way is to write a new `Node` method that does the following:\n",
    "1.\tSeparate the list into two pieces: the current node and the rest.\n",
    "2.\tPrint the rest backward.\n",
    "3.\tPrint the current node.\n"
   ]
  },
  {
   "cell_type": "code",
   "execution_count": null,
   "metadata": {},
   "outputs": [],
   "source": [
    "class Node:\n",
    "    def __init__(self, cargo=None, next=None):\n",
    "        self.cargo = cargo\n",
    "        self.next  = next\n",
    "\n",
    "    def __str__(self):\n",
    "        return str(self.cargo)\n",
    "\n",
    "\n",
    "    # method to print linked nodes backwards\n",
    "    def print_backward(self):\n",
    "        '''\n",
    "        (self) -> NoneType\n",
    "        Prints linked list backward\n",
    "        '''\n",
    "        if self.next:\n",
    "            self.next.print_backward() #A function calling itself is recursion\n",
    "\n",
    "        print(self, end=\" \")\n",
    "\n",
    "# create a list\n",
    "l = list(range(7,-1,-1))\n",
    "head = Node(l[0])\n",
    "for c in l[1:]:\n",
    "    n = Node(c)\n",
    "    n.next = head\n",
    "    head = n\n",
    "\n",
    "print(\"Print forward\")\n",
    "n = head\n",
    "while n:\n",
    "    print(n, end = \" \")\n",
    "    n = n.next\n",
    "print()\n",
    "\n",
    "print(\"Print backward\")\n",
    "head.print_backward()"
   ]
  },
  {
   "cell_type": "markdown",
   "metadata": {},
   "source": [
    "### Wrappers and helpers\n",
    "\n",
    "It is often useful to divide a list operation into two methods. For example, to print a list backward in the conventional list format [3, 2, 1] we can use the print_backward method to print 3, 2, 1 but we need a separate method to print the brackets. \n",
    "\n",
    "Let’s call it `print_backward_nicely`:\n"
   ]
  },
  {
   "cell_type": "code",
   "execution_count": null,
   "metadata": {},
   "outputs": [],
   "source": [
    "class Node:\n",
    "    def __init__(self, cargo=None, next=None):\n",
    "        self.cargo = cargo\n",
    "        self.next  = next\n",
    "\n",
    "    def __str__(self):\n",
    "        return str(self.cargo)\n",
    "\n",
    "\n",
    "    # method to print linked nodes backwards\n",
    "    def print_backward(self):\n",
    "        '''\n",
    "        (self) -> NoneType\n",
    "        Prints linked list backward\n",
    "        '''\n",
    "        if self.next:\n",
    "            self.next.print_backward() \n",
    "\n",
    "        print(self, end=\" \")\n",
    "\n",
    "    def print_backward_nicely(self):\n",
    "        '''\n",
    "        (self) -> NoneType\n",
    "        Wrapper to print list with square brackets\n",
    "        '''\n",
    "        print(\"[\", end=\"\")\n",
    "        self.print_backward()\n",
    "        print(\"]\")\n",
    "    \n",
    "# create a list\n",
    "l = list(range(7,-1,-1))\n",
    "head = Node(l[0])\n",
    "for c in l[1:]:\n",
    "    n = Node(c)\n",
    "    n.next = head\n",
    "    head = n\n",
    "\n",
    "print(\"Print forward\")\n",
    "n = head\n",
    "while n:\n",
    "    print(n, end = \" \")\n",
    "    n = n.next\n",
    "print()\n",
    "\n",
    "print(\"Print backward\")\n",
    "head.print_backward_nicely()"
   ]
  },
  {
   "cell_type": "markdown",
   "metadata": {},
   "source": [
    "Or if we wanted to get rid of the last space before the \"]\"? Now we need to print the first node in the `print_backward_nicely` method, too."
   ]
  },
  {
   "cell_type": "code",
   "execution_count": null,
   "metadata": {},
   "outputs": [],
   "source": [
    "class Node:\n",
    "    def __init__(self, cargo=None, next=None):\n",
    "        self.cargo = cargo\n",
    "        self.next  = next\n",
    "\n",
    "    def __str__(self):\n",
    "        return str(self.cargo)\n",
    "\n",
    "\n",
    "    # method to print linked nodes backwards\n",
    "    def print_backward(self):\n",
    "        '''\n",
    "        (self) -> NoneType\n",
    "        Prints linked list backward\n",
    "        '''\n",
    "        if self.next:\n",
    "            self.next.print_backward() \n",
    "        print(self, end=\" \")\n",
    "            \n",
    "    def print_backward_nicely(self):\n",
    "        '''\n",
    "        (self) -> NoneType\n",
    "        Wrapper to print list with square brackets\n",
    "        '''\n",
    "        print(\"[\", end=\"\")\n",
    "        # if there are more elements in the list, print backward\n",
    "        if self.next:\n",
    "            self.next.print_backward()\n",
    "        print(self,\"]\",sep=\"\") # print out last element with no sep\n",
    "\n",
    "# create a list\n",
    "l = list(range(7,-1,-1))\n",
    "head = Node(l[0])\n",
    "for c in l[1:]:\n",
    "    n = Node(c)\n",
    "    n.next = head\n",
    "    head = n\n",
    "\n",
    "print(\"Print forward\")\n",
    "n = head\n",
    "while n:\n",
    "    print(n, end = \" \")\n",
    "    n = n.next\n",
    "print()\n",
    "\n",
    "print(\"Print backward\")\n",
    "head.print_backward_nicely()"
   ]
  },
  {
   "cell_type": "markdown",
   "metadata": {},
   "source": [
    "When we use this method elsewhere in the program, we call `print_backward_nicely` directly, and it calls `print_backward`. In that sense, `print_backward_nicely` acts as a wrapper that uses `print_backward` as a helper.\n",
    "\n",
    "<div class=\"alert alert-block alert-info\">\n",
    "<big><b>This Lecture</b></big>\n",
    "<ul>  \n",
    " <li>Linked list are a flexible data structure where each element links (references) the next element in the list</li>  \n",
    "<li>Using functions and/or methods on a Node class, we can implement functionality to add, remove, print linked lists.</li>  \n",
    "</ul>  \n",
    "</div>"
   ]
  },
  {
   "cell_type": "code",
   "execution_count": null,
   "metadata": {},
   "outputs": [],
   "source": []
  }
 ],
 "metadata": {
  "kernelspec": {
   "display_name": "Python 3 (ipykernel)",
   "language": "python",
   "name": "python3"
  },
  "language_info": {
   "codemirror_mode": {
    "name": "ipython",
    "version": 3
   },
   "file_extension": ".py",
   "mimetype": "text/x-python",
   "name": "python",
   "nbconvert_exporter": "python",
   "pygments_lexer": "ipython3",
   "version": "3.9.7"
  }
 },
 "nbformat": 4,
 "nbformat_minor": 1
}