{
 "cells": [
  {
   "cell_type": "markdown",
   "metadata": {
    "collapsed": true
   },
   "source": [
    "# APS106 - Fundamentals of Computer Programming\n",
    "## Week 8 | Lecture 1 (8.1) - tuples and sets\n",
    "\n",
    "### This Week\n",
    "| Lecture | Topics | Reading |\n",
    "| --- | --- | --- | \n",
    "| **8.1** | **tuples and sets** | **Section 11** |\n",
    "| 8.2 | dictionaries | Section 11  |\n",
    "| 8.3 | Midterm 2 Review `#jeopardy` | | \n",
    "\n",
    "### Lecture Structure\n",
    "1. [Tuples](#section1)\n",
    "2. [Tuples Are Immutable](#section2)\n",
    "3. [Breakout Session 1](#section3)\n",
    "4. [Unpacking Tuples](#section4)\n",
    "5. [Tuples as return Values](#section5)\n",
    "6. [Breakout Session 2](#section6)\n",
    "7. [Sets](#section7)"
   ]
  },
  {
   "cell_type": "markdown",
   "metadata": {},
   "source": [
    "<a id='section1'></a>\n",
    "## 1. Tuples\n",
    "### Tuple Assignment"
   ]
  },
  {
   "cell_type": "code",
   "execution_count": 97,
   "metadata": {},
   "outputs": [
    {
     "name": "stdout",
     "output_type": "stream",
     "text": [
      "(1, 2, 3, 4, 5, 6) <class 'tuple'>\n"
     ]
    }
   ],
   "source": [
    "nums = 1, 2, 3, 4, 5, 6\n",
    "print(nums, type(nums))"
   ]
  },
  {
   "cell_type": "code",
   "execution_count": 98,
   "metadata": {},
   "outputs": [
    {
     "name": "stdout",
     "output_type": "stream",
     "text": [
      "(1, 2, 3, 4, 5, 6) <class 'tuple'>\n"
     ]
    }
   ],
   "source": [
    "nums = (1, 2, 3, 4, 5, 6)\n",
    "print(nums, type(nums))"
   ]
  },
  {
   "cell_type": "markdown",
   "metadata": {},
   "source": [
    "So, the parentheses are optional but to avoid confusion, it is best to use them.\n",
    "\n",
    "There are however, some cases where you must use parentheses."
   ]
  },
  {
   "cell_type": "code",
   "execution_count": 99,
   "metadata": {},
   "outputs": [
    {
     "name": "stdout",
     "output_type": "stream",
     "text": [
      "Sebastian 36 555-6283\n"
     ]
    }
   ],
   "source": [
    "name = 'Sebastian'\n",
    "age = 36\n",
    "phone_number = '555-6283'\n",
    "print(name, age, phone_number)"
   ]
  },
  {
   "cell_type": "markdown",
   "metadata": {},
   "source": [
    "The `print()` function inperprets this as 3 separate variables. So, if we want to print a `tuple` we need to include the parentheses."
   ]
  },
  {
   "cell_type": "code",
   "execution_count": 100,
   "metadata": {},
   "outputs": [
    {
     "name": "stdout",
     "output_type": "stream",
     "text": [
      "('Sebastian', 36, '555-6283')\n"
     ]
    }
   ],
   "source": [
    "print((name, age, phone_number))"
   ]
  },
  {
   "cell_type": "markdown",
   "metadata": {},
   "source": [
    "A tuple with a single element is written as `(x,)` to not be confused with arithmetic operations such as `(4 + 7)`. "
   ]
  },
  {
   "cell_type": "code",
   "execution_count": 101,
   "metadata": {},
   "outputs": [
    {
     "name": "stdout",
     "output_type": "stream",
     "text": [
      "1 <class 'int'>\n"
     ]
    }
   ],
   "source": [
    "x = (1)\n",
    "print(x, type(x))"
   ]
  },
  {
   "cell_type": "code",
   "execution_count": 102,
   "metadata": {},
   "outputs": [
    {
     "name": "stdout",
     "output_type": "stream",
     "text": [
      "(1,) <class 'tuple'>\n"
     ]
    }
   ],
   "source": [
    "y = (1,)\n",
    "print(y, type(y))"
   ]
  },
  {
   "cell_type": "code",
   "execution_count": 103,
   "metadata": {},
   "outputs": [
    {
     "name": "stdout",
     "output_type": "stream",
     "text": [
      "11 <class 'int'>\n"
     ]
    }
   ],
   "source": [
    "z = (4+7)\n",
    "print(z, type(z))"
   ]
  },
  {
   "cell_type": "code",
   "execution_count": 104,
   "metadata": {},
   "outputs": [
    {
     "name": "stdout",
     "output_type": "stream",
     "text": [
      "(11,) <class 'tuple'>\n"
     ]
    }
   ],
   "source": [
    "w = (4+7,)\n",
    "print(w, type(w))"
   ]
  },
  {
   "cell_type": "markdown",
   "metadata": {},
   "source": [
    "### Tuple Operations\n",
    "\n",
    "For your reference, here are some common sequence operators that work with `tuples`.\n",
    "\n",
    "| Operation | Result |\n",
    "| --- | --- | \n",
    "| `x in s` | `True` if an item of *s* is equal to *x*, else `False` |\n",
    "| `x not in s` | `False` if an item of *s* is equal to *x*, else `True` |\n",
    "| `s + t` | the concatenation of *s* and *t* |\n",
    "| `s * n or n * s` | equivalent to adding *s* to itself *n* times |\n",
    "| `s[i]` | ith item of *s*, origin 0 |\n",
    "| `s[i:j]` | slice of *s* from *i* to *j* |\n",
    "| `s[i:j:k]` | slice of *s* from *i* to *j* with step *k* |\n",
    "| `len(s)` | length of *s* |\n",
    "| `min(s)` | smallest item of *s* |\n",
    "| `max(s)` | largest item of *s* |\n",
    "| `s.index(x[, i[, j]])` | index of the first occurrence of *x* in *s* (at or after index *i* and before index *j*) |\n",
    "| `s.count(x)` | total number of occurrences of *x* in *s* | "
   ]
  },
  {
   "cell_type": "code",
   "execution_count": 105,
   "metadata": {
    "scrolled": true
   },
   "outputs": [
    {
     "name": "stdout",
     "output_type": "stream",
     "text": [
      "(1, 2, 3, 4, 5, 6, 2)\n"
     ]
    }
   ],
   "source": [
    "nums = (1, 2, 3, 4, 5, 6, 2)\n",
    "print(nums)"
   ]
  },
  {
   "cell_type": "markdown",
   "metadata": {},
   "source": [
    "Because `tuples` are ordered sequence of data, we can use index operators."
   ]
  },
  {
   "cell_type": "code",
   "execution_count": 106,
   "metadata": {},
   "outputs": [
    {
     "name": "stdout",
     "output_type": "stream",
     "text": [
      "1\n"
     ]
    }
   ],
   "source": [
    "print(nums[0])"
   ]
  },
  {
   "cell_type": "code",
   "execution_count": 107,
   "metadata": {},
   "outputs": [
    {
     "name": "stdout",
     "output_type": "stream",
     "text": [
      "2\n"
     ]
    }
   ],
   "source": [
    "print(nums[-1])"
   ]
  },
  {
   "cell_type": "code",
   "execution_count": 108,
   "metadata": {},
   "outputs": [
    {
     "name": "stdout",
     "output_type": "stream",
     "text": [
      "(1, 3, 5)\n"
     ]
    }
   ],
   "source": [
    "print(nums[0:-1:2])"
   ]
  },
  {
   "cell_type": "code",
   "execution_count": 109,
   "metadata": {},
   "outputs": [
    {
     "name": "stdout",
     "output_type": "stream",
     "text": [
      "6\n"
     ]
    }
   ],
   "source": [
    "print(max(nums))"
   ]
  },
  {
   "cell_type": "code",
   "execution_count": 110,
   "metadata": {},
   "outputs": [
    {
     "name": "stdout",
     "output_type": "stream",
     "text": [
      "7\n"
     ]
    }
   ],
   "source": [
    "print(len(nums))"
   ]
  },
  {
   "cell_type": "code",
   "execution_count": 112,
   "metadata": {},
   "outputs": [
    {
     "name": "stdout",
     "output_type": "stream",
     "text": [
      "0\n"
     ]
    }
   ],
   "source": [
    "print(nums.count(20))"
   ]
  },
  {
   "cell_type": "markdown",
   "metadata": {},
   "source": [
    "Another example using the members of [The Beatles](https://www.youtube.com/watch?v=NCtzkaL2t_Y)."
   ]
  },
  {
   "cell_type": "code",
   "execution_count": 113,
   "metadata": {},
   "outputs": [
    {
     "name": "stdout",
     "output_type": "stream",
     "text": [
      "('john', 'paul', 'george', 'ringo')\n",
      "ringo\n"
     ]
    }
   ],
   "source": [
    "beatles = (\"john\", \"paul\", \"george\", \"ringo\")\n",
    "print(beatles)\n",
    "print(beatles[-1])"
   ]
  },
  {
   "cell_type": "code",
   "execution_count": 114,
   "metadata": {},
   "outputs": [
    {
     "data": {
      "text/plain": [
       "False"
      ]
     },
     "execution_count": 114,
     "metadata": {},
     "output_type": "execute_result"
    }
   ],
   "source": [
    "'sebastian' in beatles"
   ]
  },
  {
   "cell_type": "markdown",
   "metadata": {},
   "source": [
    "Using a `for` loops with `tuples`."
   ]
  },
  {
   "cell_type": "code",
   "execution_count": 115,
   "metadata": {},
   "outputs": [
    {
     "name": "stdout",
     "output_type": "stream",
     "text": [
      "john\n",
      "paul\n",
      "george\n",
      "ringo\n"
     ]
    }
   ],
   "source": [
    "for name in beatles:\n",
    "    print(name)"
   ]
  },
  {
   "cell_type": "markdown",
   "metadata": {},
   "source": [
    "And using `range`."
   ]
  },
  {
   "cell_type": "code",
   "execution_count": 116,
   "metadata": {},
   "outputs": [
    {
     "name": "stdout",
     "output_type": "stream",
     "text": [
      "john\n",
      "paul\n",
      "george\n",
      "ringo\n"
     ]
    }
   ],
   "source": [
    "for i in range(len(beatles)):\n",
    "    print(beatles[i])"
   ]
  },
  {
   "cell_type": "markdown",
   "metadata": {},
   "source": [
    "Adding `tuples`."
   ]
  },
  {
   "cell_type": "code",
   "execution_count": 118,
   "metadata": {},
   "outputs": [
    {
     "data": {
      "text/plain": [
       "('john', 'paul', 'george', 'ringo', 'sebastian')"
      ]
     },
     "execution_count": 118,
     "metadata": {},
     "output_type": "execute_result"
    }
   ],
   "source": [
    "(int('10'), \"paul\", \"george\", \"ringo\") + (\"sebastian\",)"
   ]
  },
  {
   "cell_type": "markdown",
   "metadata": {},
   "source": [
    "Multiplying `tuples`."
   ]
  },
  {
   "cell_type": "code",
   "execution_count": 120,
   "metadata": {},
   "outputs": [
    {
     "data": {
      "text/plain": [
       "('sebastian',\n",
       " 'paul',\n",
       " 'sebastian',\n",
       " 'paul',\n",
       " 'sebastian',\n",
       " 'paul',\n",
       " 'sebastian',\n",
       " 'paul',\n",
       " 'sebastian',\n",
       " 'paul')"
      ]
     },
     "execution_count": 120,
     "metadata": {},
     "output_type": "execute_result"
    }
   ],
   "source": [
    "(\"sebastian\", \"paul\") + (\"sebastian\", \"paul\") + (\"sebastian\", \"paul\") + (\"sebastian\", \"paul\") + (\"sebastian\", \"paul\")"
   ]
  },
  {
   "cell_type": "markdown",
   "metadata": {},
   "source": [
    "### Tuple Items\n",
    "`tuple` elements may be of any type. `int`, `str`, `float`, `list`, `tuple`, etc.\n"
   ]
  },
  {
   "cell_type": "code",
   "execution_count": 121,
   "metadata": {},
   "outputs": [],
   "source": [
    "subjects = ('bio', 'cs', 'math', 'history')\n",
    "\n",
    "numbers = (1, 2, 3, 4, 5, 6, 7)\n",
    "\n",
    "albums = ((\"Abbey Road\", 1969), (\"Let It Be\", 1970))"
   ]
  },
  {
   "cell_type": "markdown",
   "metadata": {},
   "source": [
    "Tuples can also contain elements of more than one type."
   ]
  },
  {
   "cell_type": "code",
   "execution_count": null,
   "metadata": {},
   "outputs": [],
   "source": [
    "street_address = (164, 'College St.')\n",
    "\n",
    "record = ('Smith', 'John', (6, 23, 68), ['345-2345', '985-242'])"
   ]
  },
  {
   "cell_type": "markdown",
   "metadata": {},
   "source": [
    "<a id='section2'></a>\n",
    "## 2. Tuples Are Immutable"
   ]
  },
  {
   "cell_type": "code",
   "execution_count": 122,
   "metadata": {},
   "outputs": [],
   "source": [
    "album_1 = (\"Sgt. Pepper's Lonely Hearts Club Band\", 1967)\n",
    "album_2 = (\"Magical Mystery Tour\", 1967)\n",
    "album_3 = (\"The Beatles ('The White Album')\", 1968)\n",
    "album_4 = (\"Yellow Submarine\", 1969)\n",
    "album_5 = (\"Abbey Road\", 1969)\n",
    "album_6 = (\"Let It Be\", 1970)"
   ]
  },
  {
   "cell_type": "code",
   "execution_count": 123,
   "metadata": {},
   "outputs": [
    {
     "name": "stdout",
     "output_type": "stream",
     "text": [
      "('Let It Be', 1970)\n"
     ]
    }
   ],
   "source": [
    "print(album_6)"
   ]
  },
  {
   "cell_type": "markdown",
   "metadata": {},
   "source": [
    "Now, let's say I want to change the date of `\"Let It Be\"` to 1969."
   ]
  },
  {
   "cell_type": "code",
   "execution_count": 124,
   "metadata": {},
   "outputs": [
    {
     "ename": "TypeError",
     "evalue": "'tuple' object does not support item assignment",
     "output_type": "error",
     "traceback": [
      "\u001B[1;31m---------------------------------------------------------------------------\u001B[0m",
      "\u001B[1;31mTypeError\u001B[0m                                 Traceback (most recent call last)",
      "\u001B[1;32m~\\AppData\\Local\\Temp/ipykernel_30484/797368859.py\u001B[0m in \u001B[0;36m<module>\u001B[1;34m\u001B[0m\n\u001B[1;32m----> 1\u001B[1;33m \u001B[0malbum_6\u001B[0m\u001B[1;33m[\u001B[0m\u001B[1;36m1\u001B[0m\u001B[1;33m]\u001B[0m \u001B[1;33m=\u001B[0m \u001B[1;36m1969\u001B[0m\u001B[1;33m\u001B[0m\u001B[1;33m\u001B[0m\u001B[0m\n\u001B[0m",
      "\u001B[1;31mTypeError\u001B[0m: 'tuple' object does not support item assignment"
     ]
    }
   ],
   "source": [
    "album_6[1] = 1969"
   ]
  },
  {
   "cell_type": "code",
   "execution_count": 125,
   "metadata": {},
   "outputs": [
    {
     "ename": "TypeError",
     "evalue": "'str' object does not support item assignment",
     "output_type": "error",
     "traceback": [
      "\u001B[1;31m---------------------------------------------------------------------------\u001B[0m",
      "\u001B[1;31mTypeError\u001B[0m                                 Traceback (most recent call last)",
      "\u001B[1;32m~\\AppData\\Local\\Temp/ipykernel_30484/804255047.py\u001B[0m in \u001B[0;36m<module>\u001B[1;34m\u001B[0m\n\u001B[0;32m      1\u001B[0m \u001B[0mseb\u001B[0m \u001B[1;33m=\u001B[0m \u001B[1;34m'Seb'\u001B[0m\u001B[1;33m\u001B[0m\u001B[1;33m\u001B[0m\u001B[0m\n\u001B[1;32m----> 2\u001B[1;33m \u001B[0mseb\u001B[0m\u001B[1;33m[\u001B[0m\u001B[1;36m0\u001B[0m\u001B[1;33m]\u001B[0m \u001B[1;33m=\u001B[0m \u001B[1;34m's'\u001B[0m\u001B[1;33m\u001B[0m\u001B[1;33m\u001B[0m\u001B[0m\n\u001B[0m",
      "\u001B[1;31mTypeError\u001B[0m: 'str' object does not support item assignment"
     ]
    }
   ],
   "source": [
    "seb = 'Seb'\n",
    "seb[0] = 's'"
   ]
  },
  {
   "cell_type": "markdown",
   "metadata": {},
   "source": [
    "Let's convert `album_6` to a list and then try to change the release date to 1969."
   ]
  },
  {
   "cell_type": "code",
   "execution_count": 126,
   "metadata": {},
   "outputs": [
    {
     "name": "stdout",
     "output_type": "stream",
     "text": [
      "['Let It Be', 1970]\n"
     ]
    }
   ],
   "source": [
    "album_6_list = list(album_6)\n",
    "print(album_6_list)"
   ]
  },
  {
   "cell_type": "code",
   "execution_count": 127,
   "metadata": {},
   "outputs": [
    {
     "name": "stdout",
     "output_type": "stream",
     "text": [
      "['Let It Be', 1969]\n"
     ]
    }
   ],
   "source": [
    "album_6_list[1] = 1969\n",
    "print(album_6_list)"
   ]
  },
  {
   "cell_type": "markdown",
   "metadata": {},
   "source": [
    "Consider why a `tuple` is better than a `list` for this example. The Beatles album Let It Be was released in 1970. This will never change so by using a `tuple` we protect against any bugs in our code that might unintentionally change the date.\n",
    "\n",
    "Let's revist some common `list` methods.\n",
    "\n",
    "| Method | Result |\n",
    "| --- | --- | \n",
    "| `append()` | dds an element at the end of the list |\n",
    "| `clear()` | Removes all the elements from the list |\n",
    "| `copy()` | Returns a copy of the list |\n",
    "| `count()` | Returns the number of elements with the specified value |\n",
    "| `extend()` | Add the elements of a list (or any iterable), to the end of the current list |\n",
    "| `index()` | Returns the index of the first element with the specified value |\n",
    "| `insert()` | Adds an element at the specified position |\n",
    "| `pop()` | Removes the element at the specified position |\n",
    "| `remove()` | Removes the first item with the specified value |\n",
    "| `reverse()` | Reverses the order of the list |\n",
    "| `sort()` | Sorts the list |\n",
    "\n",
    "Now, let's look at `tuple` methods.\n",
    "\n",
    "| Method | Result |\n",
    "| --- | --- | \n",
    "| `count()` | Returns the number of times a specified value occurs in a tuple |\n",
    "| `index()` | Searches the tuple for a specified value and returns the position of where it was found |\n",
    "\n",
    "You'll notice that all of the `list` methods that are used to modify a list are not available for `tuples`. This is because `tuples` are immutable.\n",
    "\n",
    "Let's take `album_1` and try to add the band name `The Beatles`."
   ]
  },
  {
   "cell_type": "code",
   "execution_count": 128,
   "metadata": {},
   "outputs": [
    {
     "name": "stdout",
     "output_type": "stream",
     "text": [
      "(\"Sgt. Pepper's Lonely Hearts Club Band\", 1967)\n"
     ]
    }
   ],
   "source": [
    "album_1 = (\"Sgt. Pepper's Lonely Hearts Club Band\", 1967)\n",
    "print(album_1)"
   ]
  },
  {
   "cell_type": "markdown",
   "metadata": {},
   "source": [
    "Let's try using the `append()` method."
   ]
  },
  {
   "cell_type": "code",
   "execution_count": 129,
   "metadata": {},
   "outputs": [
    {
     "ename": "AttributeError",
     "evalue": "'tuple' object has no attribute 'append'",
     "output_type": "error",
     "traceback": [
      "\u001B[1;31m---------------------------------------------------------------------------\u001B[0m",
      "\u001B[1;31mAttributeError\u001B[0m                            Traceback (most recent call last)",
      "\u001B[1;32m~\\AppData\\Local\\Temp/ipykernel_30484/3349956198.py\u001B[0m in \u001B[0;36m<module>\u001B[1;34m\u001B[0m\n\u001B[1;32m----> 1\u001B[1;33m \u001B[0malbum_1\u001B[0m\u001B[1;33m.\u001B[0m\u001B[0mappend\u001B[0m\u001B[1;33m(\u001B[0m\u001B[1;34m'The Beatles'\u001B[0m\u001B[1;33m)\u001B[0m\u001B[1;33m\u001B[0m\u001B[1;33m\u001B[0m\u001B[0m\n\u001B[0m",
      "\u001B[1;31mAttributeError\u001B[0m: 'tuple' object has no attribute 'append'"
     ]
    }
   ],
   "source": [
    "album_1.append('The Beatles')"
   ]
  },
  {
   "cell_type": "markdown",
   "metadata": {},
   "source": [
    "So if I cannot use `append()` or `extend()`, how do we add an element to the end of a tuple? "
   ]
  },
  {
   "cell_type": "code",
   "execution_count": 130,
   "metadata": {},
   "outputs": [
    {
     "name": "stdout",
     "output_type": "stream",
     "text": [
      "['apples', 'bananas', 'oranges']\n",
      "['pickles', 'pumpkins']\n"
     ]
    }
   ],
   "source": [
    "list1 = ['apples', 'bananas', 'oranges']\n",
    "list2 = ['pickles', 'pumpkins']\n",
    "print(list1)\n",
    "print(list2)"
   ]
  },
  {
   "cell_type": "code",
   "execution_count": 131,
   "metadata": {},
   "outputs": [
    {
     "name": "stdout",
     "output_type": "stream",
     "text": [
      "['apples', 'bananas', 'oranges', 'pickles', 'pumpkins']\n"
     ]
    }
   ],
   "source": [
    "list1.extend(list2)\n",
    "print(list1)"
   ]
  },
  {
   "cell_type": "markdown",
   "metadata": {},
   "source": [
    "Because we can't modify `tuples`, we'll need to `add` (`concatenate`) two `tuples` to create a new one."
   ]
  },
  {
   "cell_type": "code",
   "execution_count": 132,
   "metadata": {},
   "outputs": [
    {
     "name": "stdout",
     "output_type": "stream",
     "text": [
      "('apples', 'bananas', 'oranges')\n",
      "('pickles', 'pumpkins')\n"
     ]
    }
   ],
   "source": [
    "tuple1 = ('apples', 'bananas', 'oranges')\n",
    "tuple2 = ('pickles', 'pumpkins')\n",
    "print(tuple1)\n",
    "print(tuple2)"
   ]
  },
  {
   "cell_type": "markdown",
   "metadata": {},
   "source": [
    "Let's add these `tuples` together to create a new `tuple`."
   ]
  },
  {
   "cell_type": "code",
   "execution_count": 133,
   "metadata": {},
   "outputs": [
    {
     "name": "stdout",
     "output_type": "stream",
     "text": [
      "('apples', 'bananas', 'oranges', 'pickles', 'pumpkins')\n"
     ]
    }
   ],
   "source": [
    "tuple3 = tuple1 + tuple2\n",
    "print(tuple3)"
   ]
  },
  {
   "cell_type": "markdown",
   "metadata": {},
   "source": [
    "Let's write a more compact version of this code using `Assignment Operators`."
   ]
  },
  {
   "cell_type": "code",
   "execution_count": 134,
   "metadata": {},
   "outputs": [
    {
     "name": "stdout",
     "output_type": "stream",
     "text": [
      "2923809000088 ('apples', 'bananas', 'oranges')\n",
      "2923803728296 ('apples', 'bananas', 'oranges', 'pickles', 'pumpkins')\n"
     ]
    }
   ],
   "source": [
    "tuple1 = ('apples', 'bananas', 'oranges')\n",
    "tuple2 = ('pickles', 'pumpkins')\n",
    "\n",
    "print(id(tuple1), tuple1)\n",
    "\n",
    "tuple1 += tuple2\n",
    "print(id(tuple1), tuple1)"
   ]
  },
  {
   "cell_type": "markdown",
   "metadata": {},
   "source": [
    "We are not adding to `tuple1`. We are concatenating `tuple1` and `tuple2` and assigning the output to a new variable called `tuple1`."
   ]
  },
  {
   "cell_type": "code",
   "execution_count": 135,
   "metadata": {},
   "outputs": [
    {
     "name": "stdout",
     "output_type": "stream",
     "text": [
      "2923824063816 ('apples', 'bananas', 'oranges')\n",
      "2923803728296 ('apples', 'bananas', 'oranges', 'pickles', 'pumpkins')\n"
     ]
    }
   ],
   "source": [
    "tuple1 = ('apples', 'bananas', 'oranges')\n",
    "tuple2 = ('pickles', 'pumpkins')\n",
    "\n",
    "print(id(tuple1), tuple1)\n",
    "\n",
    "tuple1 = tuple1 + tuple2\n",
    "print(id(tuple1), tuple1)"
   ]
  },
  {
   "cell_type": "markdown",
   "metadata": {},
   "source": [
    "### Nested Tuples and Immutability\n",
    "Tuples can be nested and if the element of a tuple is mutable, it can be changed."
   ]
  },
  {
   "cell_type": "code",
   "execution_count": 136,
   "metadata": {},
   "outputs": [
    {
     "name": "stdout",
     "output_type": "stream",
     "text": [
      "(['Canada', 76.5], ['United States', 75.5], ['Mexico', 72.0])\n"
     ]
    }
   ],
   "source": [
    "life = (['Canada', 76.5], ['United States', 75.5], ['Mexico', 72.0])\n",
    "print(life)"
   ]
  },
  {
   "cell_type": "markdown",
   "metadata": {},
   "source": [
    "#### Will this work?"
   ]
  },
  {
   "cell_type": "code",
   "execution_count": 137,
   "metadata": {},
   "outputs": [
    {
     "ename": "TypeError",
     "evalue": "'tuple' object does not support item assignment",
     "output_type": "error",
     "traceback": [
      "\u001B[1;31m---------------------------------------------------------------------------\u001B[0m",
      "\u001B[1;31mTypeError\u001B[0m                                 Traceback (most recent call last)",
      "\u001B[1;32m~\\AppData\\Local\\Temp/ipykernel_30484/1524407609.py\u001B[0m in \u001B[0;36m<module>\u001B[1;34m\u001B[0m\n\u001B[1;32m----> 1\u001B[1;33m \u001B[0mlife\u001B[0m\u001B[1;33m[\u001B[0m\u001B[1;36m0\u001B[0m\u001B[1;33m]\u001B[0m \u001B[1;33m=\u001B[0m \u001B[1;33m[\u001B[0m\u001B[1;34m'Canada'\u001B[0m\u001B[1;33m,\u001B[0m \u001B[1;36m80.0\u001B[0m\u001B[1;33m]\u001B[0m\u001B[1;33m\u001B[0m\u001B[1;33m\u001B[0m\u001B[0m\n\u001B[0m",
      "\u001B[1;31mTypeError\u001B[0m: 'tuple' object does not support item assignment"
     ]
    }
   ],
   "source": [
    "life[0] = ['Canada', 80.0]"
   ]
  },
  {
   "cell_type": "markdown",
   "metadata": {},
   "source": [
    "Here we have a tuple of lists. We can't change the tuple elements. But we can change the list elements that are inside because lists are mutable."
   ]
  },
  {
   "cell_type": "code",
   "execution_count": 138,
   "metadata": {},
   "outputs": [
    {
     "name": "stdout",
     "output_type": "stream",
     "text": [
      "(['Canada', 76.5], ['United States', 75.5], ['Mexico', 72.0])\n"
     ]
    }
   ],
   "source": [
    "life = (['Canada', 76.5], ['United States', 75.5], ['Mexico', 72.0])\n",
    "print(life)"
   ]
  },
  {
   "cell_type": "code",
   "execution_count": 139,
   "metadata": {},
   "outputs": [
    {
     "name": "stdout",
     "output_type": "stream",
     "text": [
      "tuple id: 2923824063816\n",
      "list1 id: 2923838675336\n",
      "list2 id: 2923838851272\n",
      "list3 id: 2923839084808\n"
     ]
    }
   ],
   "source": [
    "print('tuple id:', id(life))\n",
    "print('list1 id:', id(life[0]))\n",
    "print('list2 id:', id(life[1]))\n",
    "print('list3 id:', id(life[2]))"
   ]
  },
  {
   "cell_type": "markdown",
   "metadata": {},
   "source": [
    "#### Will this work?"
   ]
  },
  {
   "cell_type": "code",
   "execution_count": 140,
   "metadata": {},
   "outputs": [
    {
     "name": "stdout",
     "output_type": "stream",
     "text": [
      "(['Canada', 80.0], ['United States', 75.5], ['Mexico', 72.0])\n"
     ]
    }
   ],
   "source": [
    "life[0][1] = 80.0\n",
    "print(life)"
   ]
  },
  {
   "cell_type": "markdown",
   "metadata": {},
   "source": [
    "Immutable means that the item reference addresses contained in a tuple cannot be changed after the tuple has been created."
   ]
  },
  {
   "cell_type": "code",
   "execution_count": 141,
   "metadata": {},
   "outputs": [
    {
     "name": "stdout",
     "output_type": "stream",
     "text": [
      "tuple id: 2923824063816\n",
      "list1 id: 2923838675336\n",
      "list2 id: 2923838851272\n",
      "list3 id: 2923839084808\n"
     ]
    }
   ],
   "source": [
    "print('tuple id:', id(life))\n",
    "print('list1 id:', id(life[0]))\n",
    "print('list2 id:', id(life[1]))\n",
    "print('list3 id:', id(life[2]))"
   ]
  },
  {
   "cell_type": "markdown",
   "metadata": {},
   "source": [
    "<a id='section3'></a>\n",
    "## 3. Beakout Session 1\n",
    "Complete the following exercises.\n",
    "\n",
    "#### Exercise 1\n",
    "Use a range of indexes to print the `third`, `fourth`, and `fifth` item in the tuple."
   ]
  },
  {
   "cell_type": "code",
   "execution_count": null,
   "metadata": {},
   "outputs": [],
   "source": [
    "fruits = (\"apple\", \"banana\", \"cherry\", \"orange\", \n",
    "          \"kiwi\", \"melon\", \"mango\")\n",
    "..."
   ]
  },
  {
   "cell_type": "markdown",
   "metadata": {},
   "source": [
    "#### Exercise 2\n",
    "Use negative indexing to print the second last item in the tuple."
   ]
  },
  {
   "cell_type": "code",
   "execution_count": null,
   "metadata": {},
   "outputs": [],
   "source": [
    "fruits = (\"apple\", \"banana\", \"cherry\")\n",
    "..."
   ]
  },
  {
   "cell_type": "markdown",
   "metadata": {},
   "source": [
    "#### Exercise 3\n",
    "Create a new variable called `fruits_rev` and assign the reverse of `fruits` to it. You answer should be:\n",
    "```python\n",
    "('mango', 'melon', 'kiwi', 'orange', 'cherry', 'banana', 'apple')\n",
    "```"
   ]
  },
  {
   "cell_type": "code",
   "execution_count": null,
   "metadata": {},
   "outputs": [],
   "source": [
    "fruits = (\"apple\", \"banana\", \"cherry\", \"orange\", \n",
    "          \"kiwi\", \"melon\", \"mango\")\n",
    "..."
   ]
  },
  {
   "cell_type": "markdown",
   "metadata": {},
   "source": [
    "#### Exercise 4\n",
    "Create a new `tuple` called `shopping_list` and assign to it the second, third and fourth items of `fruits` and the last 3 items of `vegetables` in the order they occur in `vegetables`. "
   ]
  },
  {
   "cell_type": "code",
   "execution_count": null,
   "metadata": {},
   "outputs": [],
   "source": [
    "fruits = (\"apple\", \"banana\", \"cherry\", \"orange\", \n",
    "          \"kiwi\", \"melon\", \"mango\")\n",
    "vegetables = (\"Potatoes\", \"Broccoli\", \"Beets\", \"Eggplant\")\n",
    "..."
   ]
  },
  {
   "cell_type": "markdown",
   "metadata": {},
   "source": [
    "<a id='section4'></a>\n",
    "## 4. Unpacking Tuples\n",
    "Python has a very nice tuple assignment feature that allows you to, essentially, assign multiple variables at once."
   ]
  },
  {
   "cell_type": "code",
   "execution_count": 142,
   "metadata": {},
   "outputs": [
    {
     "name": "stdout",
     "output_type": "stream",
     "text": [
      "4.2\n",
      "0.1\n",
      "4.5\n"
     ]
    }
   ],
   "source": [
    "x = 4.2\n",
    "y = 0.1\n",
    "z = 4.5\n",
    "print(x)\n",
    "print(y)\n",
    "print(z)"
   ]
  },
  {
   "cell_type": "markdown",
   "metadata": {},
   "source": [
    "Remember, the parentheses are optional but recommended."
   ]
  },
  {
   "cell_type": "code",
   "execution_count": 143,
   "metadata": {},
   "outputs": [
    {
     "name": "stdout",
     "output_type": "stream",
     "text": [
      "4.2\n",
      "0.1\n",
      "4.5\n"
     ]
    }
   ],
   "source": [
    "x, y, z = (4.2, 0.1, 4.5)\n",
    "print(x)\n",
    "print(y)\n",
    "print(z)"
   ]
  },
  {
   "cell_type": "markdown",
   "metadata": {},
   "source": [
    "Remember, we want to write `#cleancode` and the less code the better."
   ]
  },
  {
   "cell_type": "markdown",
   "metadata": {},
   "source": [
    "### Why Tuples: Reason 3\n",
    "You can always unpack tuples successfully because you always know how many items are in them (Immutability).\n",
    "#### Upacking a Tuple"
   ]
  },
  {
   "cell_type": "code",
   "execution_count": 144,
   "metadata": {},
   "outputs": [
    {
     "name": "stdout",
     "output_type": "stream",
     "text": [
      "0.2\n",
      "1.3\n",
      "40.2\n"
     ]
    }
   ],
   "source": [
    "data = (0.2, 1.3, 40.2)\n",
    "x, y, z = data\n",
    "print(x)\n",
    "print(y)\n",
    "print(z)"
   ]
  },
  {
   "cell_type": "markdown",
   "metadata": {},
   "source": [
    "#### Unpacking a List"
   ]
  },
  {
   "cell_type": "code",
   "execution_count": 146,
   "metadata": {},
   "outputs": [
    {
     "ename": "ValueError",
     "evalue": "too many values to unpack (expected 3)",
     "output_type": "error",
     "traceback": [
      "\u001B[1;31m---------------------------------------------------------------------------\u001B[0m",
      "\u001B[1;31mValueError\u001B[0m                                Traceback (most recent call last)",
      "\u001B[1;32m~\\AppData\\Local\\Temp/ipykernel_30484/3026129710.py\u001B[0m in \u001B[0;36m<module>\u001B[1;34m\u001B[0m\n\u001B[0;32m      1\u001B[0m \u001B[0mdata\u001B[0m \u001B[1;33m=\u001B[0m \u001B[1;33m[\u001B[0m\u001B[1;36m0.2\u001B[0m\u001B[1;33m,\u001B[0m \u001B[1;36m1.3\u001B[0m\u001B[1;33m,\u001B[0m \u001B[1;36m40.2\u001B[0m\u001B[1;33m]\u001B[0m\u001B[1;33m\u001B[0m\u001B[1;33m\u001B[0m\u001B[0m\n\u001B[0;32m      2\u001B[0m \u001B[0mdata\u001B[0m\u001B[1;33m.\u001B[0m\u001B[0mappend\u001B[0m\u001B[1;33m(\u001B[0m\u001B[1;36m4.1\u001B[0m\u001B[1;33m)\u001B[0m\u001B[1;33m\u001B[0m\u001B[1;33m\u001B[0m\u001B[0m\n\u001B[1;32m----> 3\u001B[1;33m \u001B[0mx\u001B[0m\u001B[1;33m,\u001B[0m \u001B[0my\u001B[0m\u001B[1;33m,\u001B[0m \u001B[0mz\u001B[0m \u001B[1;33m=\u001B[0m \u001B[0mdata\u001B[0m\u001B[1;33m\u001B[0m\u001B[1;33m\u001B[0m\u001B[0m\n\u001B[0m\u001B[0;32m      4\u001B[0m \u001B[0mprint\u001B[0m\u001B[1;33m(\u001B[0m\u001B[0mx\u001B[0m\u001B[1;33m)\u001B[0m\u001B[1;33m\u001B[0m\u001B[1;33m\u001B[0m\u001B[0m\n\u001B[0;32m      5\u001B[0m \u001B[0mprint\u001B[0m\u001B[1;33m(\u001B[0m\u001B[0my\u001B[0m\u001B[1;33m)\u001B[0m\u001B[1;33m\u001B[0m\u001B[1;33m\u001B[0m\u001B[0m\n",
      "\u001B[1;31mValueError\u001B[0m: too many values to unpack (expected 3)"
     ]
    }
   ],
   "source": [
    "data = [0.2, 1.3, 40.2]\n",
    "data.append(4.1)\n",
    "x, y, z = data\n",
    "print(x)\n",
    "print(y)\n",
    "print(z)"
   ]
  },
  {
   "cell_type": "markdown",
   "metadata": {},
   "source": [
    "You'll recall that one of the principles `#cleancode` is readability. Which one of these do you find more readable?\n",
    "#### Without Unpacking"
   ]
  },
  {
   "cell_type": "code",
   "execution_count": 147,
   "metadata": {},
   "outputs": [
    {
     "name": "stdout",
     "output_type": "stream",
     "text": [
      "Sebastian Goodfellow BMI: 21.69968460307291\n"
     ]
    }
   ],
   "source": [
    "patient = ('Sebastian', 'Goodfellow', 1.8288, 72.5748)\n",
    "print(patient[0], patient[1], \"BMI:\", patient[3] / patient[2]**2)"
   ]
  },
  {
   "cell_type": "markdown",
   "metadata": {},
   "source": [
    "#### With Unpacking"
   ]
  },
  {
   "cell_type": "code",
   "execution_count": 148,
   "metadata": {},
   "outputs": [
    {
     "name": "stdout",
     "output_type": "stream",
     "text": [
      "Sebastian Goodfellow BMI: 21.69968460307291\n"
     ]
    }
   ],
   "source": [
    "first_name, last_name, height, weight = ('Sebastian', 'Goodfellow', 1.8288, 72.5748)\n",
    "print(first_name, last_name, \"BMI:\", weight / height**2)"
   ]
  },
  {
   "cell_type": "markdown",
   "metadata": {},
   "source": [
    "<a id='section5'></a>\n",
    "## 5. Tuples as `return` Values\n",
    "### Function `return` Example 1"
   ]
  },
  {
   "cell_type": "code",
   "execution_count": 149,
   "metadata": {},
   "outputs": [],
   "source": [
    "import math\n",
    "\n",
    "def area_circumference(radius): \n",
    "    \"\"\"\n",
    "    (float) -> float, float\n",
    "    Return the circumference and area of a circle of a specified radius.\n",
    "    \"\"\"\n",
    "    circumference = 2 * math.pi * radius \n",
    "    area = math.pi * radius * radius "
   ]
  },
  {
   "cell_type": "markdown",
   "metadata": {},
   "source": [
    "#### What is `return`ed?"
   ]
  },
  {
   "cell_type": "code",
   "execution_count": 150,
   "metadata": {},
   "outputs": [
    {
     "name": "stdout",
     "output_type": "stream",
     "text": [
      "None <class 'NoneType'>\n"
     ]
    }
   ],
   "source": [
    "output = area_circumference(10)\n",
    "print(output, type(output))"
   ]
  },
  {
   "cell_type": "markdown",
   "metadata": {},
   "source": [
    "### Function `return` Example 2"
   ]
  },
  {
   "cell_type": "code",
   "execution_count": 151,
   "metadata": {},
   "outputs": [],
   "source": [
    "import math\n",
    "\n",
    "def area_circumference(radius): \n",
    "    \"\"\"\n",
    "    (float) -> float, float\n",
    "    Return the circumference and area of a circle of a specified radius.\n",
    "    \"\"\"\n",
    "    circumference = 2 * math.pi * radius \n",
    "    area = math.pi * radius * radius \n",
    "    \n",
    "    return area"
   ]
  },
  {
   "cell_type": "markdown",
   "metadata": {},
   "source": [
    "#### What is `return`ed?"
   ]
  },
  {
   "cell_type": "code",
   "execution_count": 152,
   "metadata": {},
   "outputs": [
    {
     "name": "stdout",
     "output_type": "stream",
     "text": [
      "314.1592653589793 <class 'float'>\n"
     ]
    }
   ],
   "source": [
    "output = area_circumference(10)\n",
    "print(output, type(output))"
   ]
  },
  {
   "cell_type": "markdown",
   "metadata": {},
   "source": [
    "### Function `return` Example 3"
   ]
  },
  {
   "cell_type": "code",
   "execution_count": 155,
   "metadata": {},
   "outputs": [],
   "source": [
    "import math\n",
    "\n",
    "def area_circumference(radius): \n",
    "    \"\"\"\n",
    "    (float) -> float, float\n",
    "    Return the circumference and area of a circle of a specified radius.\n",
    "    \"\"\"\n",
    "    circumference = 2 * math.pi * radius \n",
    "    area = math.pi * radius * radius \n",
    "    \n",
    "    return circumference, area"
   ]
  },
  {
   "cell_type": "markdown",
   "metadata": {},
   "source": [
    "#### What is `return`ed?"
   ]
  },
  {
   "cell_type": "code",
   "execution_count": 156,
   "metadata": {},
   "outputs": [
    {
     "name": "stdout",
     "output_type": "stream",
     "text": [
      "(62.83185307179586, 314.1592653589793) <class 'tuple'>\n"
     ]
    }
   ],
   "source": [
    "output = area_circumference(10)\n",
    "print(output, type(output))"
   ]
  },
  {
   "cell_type": "markdown",
   "metadata": {},
   "source": [
    "### Function `return` Example 4"
   ]
  },
  {
   "cell_type": "code",
   "execution_count": 157,
   "metadata": {},
   "outputs": [],
   "source": [
    "import math\n",
    "\n",
    "def area_circumference(radius): \n",
    "    \"\"\"\n",
    "    (float) -> float, float\n",
    "    Return the circumference and area of a circle of a specified radius.\n",
    "    \"\"\"\n",
    "    circumference = 2 * math.pi * radius \n",
    "    area = math.pi * radius * radius \n",
    "    \n",
    "    return circumference, area"
   ]
  },
  {
   "cell_type": "markdown",
   "metadata": {},
   "source": [
    "#### What is `return`ed?"
   ]
  },
  {
   "cell_type": "code",
   "execution_count": 158,
   "metadata": {},
   "outputs": [
    {
     "name": "stdout",
     "output_type": "stream",
     "text": [
      "62.83185307179586 <class 'float'>\n",
      "314.1592653589793 <class 'float'>\n"
     ]
    }
   ],
   "source": [
    "circumference, area = area_circumference(10)\n",
    "print(circumference, type(circumference))\n",
    "print(area, type(area))"
   ]
  },
  {
   "cell_type": "markdown",
   "metadata": {},
   "source": [
    "<a id='section6'></a>\n",
    "## 6. Breakout Session 2\n",
    "#### Step 1 - Choice of collection\n",
    "Below are some of my favourit musical albums. The artist, album, and release year are presented in `tuples`. "
   ]
  },
  {
   "cell_type": "code",
   "execution_count": null,
   "metadata": {},
   "outputs": [],
   "source": [
    "(\"The Beatles\", \"Sgt. Pepper's Lonely Hearts Club Band\", 1967)\n",
    "(\"Wintersleep\", \"Welcome to the Night Sky\", 2007)\n",
    "(\"The Tragically Hip\", \"In Between Evolution\", 2004)\n",
    "(\"Tom Petty\", \"Wildflowers\", 1994)\n",
    "(\"The Traveling Wilburys\", \"Traveling Wilburys Vol. 1\", 1988)\n",
    "(\"George Harrison\", \"All Things Must Pass\", 1970)\n",
    "(\"Queen\", \"A Night At The Opera\", 1975)"
   ]
  },
  {
   "cell_type": "markdown",
   "metadata": {},
   "source": [
    "In the cell below, place these tuples in a `container` and assign it to a variable called `albums`. You need to decide if a `list` or `tuple` appropriate."
   ]
  },
  {
   "cell_type": "code",
   "execution_count": 161,
   "metadata": {},
   "outputs": [],
   "source": [
    "albums = [\n",
    "    \n",
    "    (\"The Beatles\", \"Sgt. Pepper's Lonely Hearts Club Band\", 1967),\n",
    "(\"Wintersleep\", \"Welcome to the Night Sky\", 2007),\n",
    "(\"The Tragically Hip\", \"In Between Evolution\", 2004),\n",
    "(\"Tom Petty\", \"Wildflowers\", 1994),\n",
    "(\"The Traveling Wilburys\", \"Traveling Wilburys Vol. 1\", 1988),\n",
    "(\"George Harrison\", \"All Things Must Pass\", 1970),\n",
    "(\"Queen\", \"A Night At The Opera\", 1975)\n",
    "    \n",
    "]"
   ]
  },
  {
   "cell_type": "markdown",
   "metadata": {},
   "source": [
    "In the cell below, explain the reason for your choice."
   ]
  },
  {
   "cell_type": "markdown",
   "metadata": {},
   "source": [
    "I am choosing a .... because ..."
   ]
  },
  {
   "cell_type": "markdown",
   "metadata": {},
   "source": [
    "#### Step 2 - Print album information\n",
    "Fill in the missing code below. The code should loop through the albums and print the artist, album, and year. You must use `tuple` unpacking."
   ]
  },
  {
   "cell_type": "code",
   "execution_count": 164,
   "metadata": {},
   "outputs": [
    {
     "name": "stdout",
     "output_type": "stream",
     "text": [
      "Artist: The Beatles\n",
      "Album: Sgt. Pepper's Lonely Hearts Club Band\n",
      "Year: 1967 \n",
      "\n",
      "Artist: Wintersleep\n",
      "Album: Welcome to the Night Sky\n",
      "Year: 2007 \n",
      "\n",
      "Artist: The Tragically Hip\n",
      "Album: In Between Evolution\n",
      "Year: 2004 \n",
      "\n",
      "Artist: Tom Petty\n",
      "Album: Wildflowers\n",
      "Year: 1994 \n",
      "\n",
      "Artist: The Traveling Wilburys\n",
      "Album: Traveling Wilburys Vol. 1\n",
      "Year: 1988 \n",
      "\n",
      "Artist: George Harrison\n",
      "Album: All Things Must Pass\n",
      "Year: 1970 \n",
      "\n",
      "Artist: Queen\n",
      "Album: A Night At The Opera\n",
      "Year: 1975 \n",
      "\n"
     ]
    }
   ],
   "source": [
    "for artist, album, year in albums:\n",
    "    print('Artist:', artist)\n",
    "    print('Album:', album)\n",
    "    print('Year:', year, '\\n')"
   ]
  },
  {
   "cell_type": "markdown",
   "metadata": {},
   "source": [
    "<a id='section7'></a>\n",
    "## 7. Sets\n",
    "Sets are great for performing the mathematical operations: union, intersection, and difference. These are all implemented as methods shown in the following table. \n",
    "\n",
    "Operation\t| Equivalent\t| Result\n",
    "------------|:---------------:|-------\n",
    "len(s) |N/A | number of elements in set s (cardinality)\n",
    "x in s |N/A | test x for membership in s\n",
    "x not in s |N/A|test x for non-membership in s\n",
    "s.issubset(t) |\ts <= t|test whether every element in s is in t\n",
    "s.issuperset(t)|s >= t|test whether every element in t is in s\n",
    "s.union(t)|\ts &#124; t| new set with elements from both s and t\n",
    "s.intersection(t) |s & t|new set with elements common to s and t\n",
    "s.difference(t)|s - t|new set with elements in s but not in t\n",
    "s.symmetric_difference(t)|s ^ t|new set with elements in either s or t but not both\n",
    "s.copy()|N/A|new set with a copy of s\n",
    "\n",
    "Let's create the two `sets` of North American and European cars from the slides."
   ]
  },
  {
   "cell_type": "code",
   "execution_count": 165,
   "metadata": {},
   "outputs": [],
   "source": [
    "north_america = {'Mercedes', 'Tesla', 'Chrysler', 'Dodge', 'BMW', 'Ford'}\n",
    "europe = {'Mercedes', 'Tesla', 'Renault', 'Peugeot', 'BMW', 'Ford'}"
   ]
  },
  {
   "cell_type": "markdown",
   "metadata": {},
   "source": [
    "#### `sets` are unordered\n",
    "As you'll recall, `sets` are unordered as opposed to `tuples` and `lists`."
   ]
  },
  {
   "cell_type": "code",
   "execution_count": 166,
   "metadata": {},
   "outputs": [
    {
     "name": "stdout",
     "output_type": "stream",
     "text": [
      "{'Tesla', 'Ford', 'BMW', 'Mercedes', 'Chrysler', 'Dodge'}\n"
     ]
    }
   ],
   "source": [
    "print(north_america)"
   ]
  },
  {
   "cell_type": "code",
   "execution_count": 167,
   "metadata": {},
   "outputs": [
    {
     "name": "stdout",
     "output_type": "stream",
     "text": [
      "{'Tesla', 'Ford', 'Renault', 'BMW', 'Peugeot', 'Mercedes'}\n"
     ]
    }
   ],
   "source": [
    "print(europe)"
   ]
  },
  {
   "cell_type": "markdown",
   "metadata": {},
   "source": [
    "So, `sets` are unordered, but can we index or slice them?"
   ]
  },
  {
   "cell_type": "code",
   "execution_count": 168,
   "metadata": {},
   "outputs": [
    {
     "ename": "TypeError",
     "evalue": "'set' object is not subscriptable",
     "output_type": "error",
     "traceback": [
      "\u001B[1;31m---------------------------------------------------------------------------\u001B[0m",
      "\u001B[1;31mTypeError\u001B[0m                                 Traceback (most recent call last)",
      "\u001B[1;32m~\\AppData\\Local\\Temp/ipykernel_30484/4249805872.py\u001B[0m in \u001B[0;36m<module>\u001B[1;34m\u001B[0m\n\u001B[1;32m----> 1\u001B[1;33m \u001B[0meurope\u001B[0m\u001B[1;33m[\u001B[0m\u001B[1;36m0\u001B[0m\u001B[1;33m]\u001B[0m\u001B[1;33m\u001B[0m\u001B[1;33m\u001B[0m\u001B[0m\n\u001B[0m",
      "\u001B[1;31mTypeError\u001B[0m: 'set' object is not subscriptable"
     ]
    }
   ],
   "source": [
    "europe[0]"
   ]
  },
  {
   "cell_type": "markdown",
   "metadata": {},
   "source": [
    "But if we conver to a list, we can because lists are ordered."
   ]
  },
  {
   "cell_type": "code",
   "execution_count": 169,
   "metadata": {},
   "outputs": [
    {
     "data": {
      "text/plain": [
       "'Tesla'"
      ]
     },
     "execution_count": 169,
     "metadata": {},
     "output_type": "execute_result"
    }
   ],
   "source": [
    "list(europe)[0]"
   ]
  },
  {
   "cell_type": "markdown",
   "metadata": {},
   "source": [
    "How about the order that you insert elements into a list?"
   ]
  },
  {
   "cell_type": "code",
   "execution_count": 171,
   "metadata": {},
   "outputs": [
    {
     "data": {
      "text/plain": [
       "False"
      ]
     },
     "execution_count": 171,
     "metadata": {},
     "output_type": "execute_result"
    }
   ],
   "source": [
    "animals1 = ['bird', 'goat', 'tiger']\n",
    "animals2 = ['goat', 'tiger', 'bird']\n",
    "\n",
    "animals1 == animals2"
   ]
  },
  {
   "cell_type": "markdown",
   "metadata": {},
   "source": [
    "#### Membership"
   ]
  },
  {
   "cell_type": "code",
   "execution_count": 172,
   "metadata": {},
   "outputs": [
    {
     "data": {
      "text/plain": [
       "False"
      ]
     },
     "execution_count": 172,
     "metadata": {},
     "output_type": "execute_result"
    }
   ],
   "source": [
    "'Nissan' in europe"
   ]
  },
  {
   "cell_type": "code",
   "execution_count": 173,
   "metadata": {},
   "outputs": [
    {
     "data": {
      "text/plain": [
       "True"
      ]
     },
     "execution_count": 173,
     "metadata": {},
     "output_type": "execute_result"
    }
   ],
   "source": [
    "'Tesla' in europe"
   ]
  },
  {
   "cell_type": "markdown",
   "metadata": {},
   "source": [
    "#### Union"
   ]
  },
  {
   "cell_type": "code",
   "execution_count": 174,
   "metadata": {},
   "outputs": [
    {
     "data": {
      "text/plain": [
       "{'BMW', 'Chrysler', 'Dodge', 'Ford', 'Mercedes', 'Peugeot', 'Renault', 'Tesla'}"
      ]
     },
     "execution_count": 174,
     "metadata": {},
     "output_type": "execute_result"
    }
   ],
   "source": [
    "north_america.union(europe)"
   ]
  },
  {
   "cell_type": "code",
   "execution_count": 175,
   "metadata": {},
   "outputs": [
    {
     "data": {
      "text/plain": [
       "{'BMW', 'Chrysler', 'Dodge', 'Ford', 'Mercedes', 'Peugeot', 'Renault', 'Tesla'}"
      ]
     },
     "execution_count": 175,
     "metadata": {},
     "output_type": "execute_result"
    }
   ],
   "source": [
    "europe.union(north_america)"
   ]
  },
  {
   "cell_type": "code",
   "execution_count": 176,
   "metadata": {},
   "outputs": [
    {
     "data": {
      "text/plain": [
       "{'BMW', 'Chrysler', 'Dodge', 'Ford', 'Mercedes', 'Peugeot', 'Renault', 'Tesla'}"
      ]
     },
     "execution_count": 176,
     "metadata": {},
     "output_type": "execute_result"
    }
   ],
   "source": [
    "north_america | europe"
   ]
  },
  {
   "cell_type": "code",
   "execution_count": 177,
   "metadata": {},
   "outputs": [
    {
     "data": {
      "text/plain": [
       "{'BMW', 'Chrysler', 'Dodge', 'Ford', 'Mercedes', 'Peugeot', 'Renault', 'Tesla'}"
      ]
     },
     "execution_count": 177,
     "metadata": {},
     "output_type": "execute_result"
    }
   ],
   "source": [
    "europe | north_america"
   ]
  },
  {
   "cell_type": "markdown",
   "metadata": {},
   "source": [
    "#### Intersection"
   ]
  },
  {
   "cell_type": "code",
   "execution_count": 178,
   "metadata": {},
   "outputs": [
    {
     "data": {
      "text/plain": [
       "{'BMW', 'Ford', 'Mercedes', 'Tesla'}"
      ]
     },
     "execution_count": 178,
     "metadata": {},
     "output_type": "execute_result"
    }
   ],
   "source": [
    "north_america.intersection(europe)"
   ]
  },
  {
   "cell_type": "code",
   "execution_count": 179,
   "metadata": {},
   "outputs": [
    {
     "data": {
      "text/plain": [
       "{'BMW', 'Ford', 'Mercedes', 'Tesla'}"
      ]
     },
     "execution_count": 179,
     "metadata": {},
     "output_type": "execute_result"
    }
   ],
   "source": [
    "europe.intersection(north_america)"
   ]
  },
  {
   "cell_type": "code",
   "execution_count": 180,
   "metadata": {},
   "outputs": [
    {
     "data": {
      "text/plain": [
       "{'BMW', 'Ford', 'Mercedes', 'Tesla'}"
      ]
     },
     "execution_count": 180,
     "metadata": {},
     "output_type": "execute_result"
    }
   ],
   "source": [
    "north_america & europe"
   ]
  },
  {
   "cell_type": "code",
   "execution_count": 181,
   "metadata": {},
   "outputs": [
    {
     "data": {
      "text/plain": [
       "{'BMW', 'Ford', 'Mercedes', 'Tesla'}"
      ]
     },
     "execution_count": 181,
     "metadata": {},
     "output_type": "execute_result"
    }
   ],
   "source": [
    "europe & north_america"
   ]
  },
  {
   "cell_type": "markdown",
   "metadata": {},
   "source": [
    "#### `sets` are iterable"
   ]
  },
  {
   "cell_type": "code",
   "execution_count": 182,
   "metadata": {},
   "outputs": [
    {
     "name": "stdout",
     "output_type": "stream",
     "text": [
      "Tesla\n",
      "Ford\n",
      "BMW\n",
      "Mercedes\n",
      "Chrysler\n",
      "Dodge\n"
     ]
    }
   ],
   "source": [
    "north_america = {'Mercedes', 'Tesla', 'Chrysler', 'Dodge', 'BMW', 'Ford'}\n",
    "\n",
    "for car in north_america:\n",
    "    print(car)"
   ]
  },
  {
   "cell_type": "markdown",
   "metadata": {},
   "source": [
    "### Practical Applications of `sets`\n",
    "We want to create a collection of unique birds from the observations made during a birding (bird watching) trip."
   ]
  },
  {
   "cell_type": "code",
   "execution_count": 183,
   "metadata": {},
   "outputs": [],
   "source": [
    "observations = (\"canada goose\", \"canada goose\", \"long-tailed jaeger\",\n",
    "                \"canada goose\", \"snow goose\", \"canada goose\", \n",
    "                \"long-tailed jaeger\", \"canada goose\", \"northern fulmar\")"
   ]
  },
  {
   "cell_type": "markdown",
   "metadata": {},
   "source": [
    "I could loop through the `tuple` and collect all the unique birds."
   ]
  },
  {
   "cell_type": "code",
   "execution_count": 184,
   "metadata": {},
   "outputs": [
    {
     "name": "stdout",
     "output_type": "stream",
     "text": [
      "['canada goose', 'long-tailed jaeger', 'snow goose', 'northern fulmar']\n"
     ]
    }
   ],
   "source": [
    "birds = []\n",
    "for observation in observations:\n",
    "    if observation not in birds:\n",
    "        birds.append(observation)\n",
    "        \n",
    "print(birds)"
   ]
  },
  {
   "cell_type": "code",
   "execution_count": 185,
   "metadata": {},
   "outputs": [
    {
     "name": "stdout",
     "output_type": "stream",
     "text": [
      "{'long-tailed jaeger', 'snow goose', 'canada goose', 'northern fulmar'}\n"
     ]
    }
   ],
   "source": [
    "birds = set(observations)\n",
    "print(birds)"
   ]
  }
 ],
 "metadata": {
  "kernelspec": {
   "display_name": "Python 3 (ipykernel)",
   "language": "python",
   "name": "python3"
  },
  "language_info": {
   "codemirror_mode": {
    "name": "ipython",
    "version": 3
   },
   "file_extension": ".py",
   "mimetype": "text/x-python",
   "name": "python",
   "nbconvert_exporter": "python",
   "pygments_lexer": "ipython3",
   "version": "3.7.11"
  }
 },
 "nbformat": 4,
 "nbformat_minor": 1
}
