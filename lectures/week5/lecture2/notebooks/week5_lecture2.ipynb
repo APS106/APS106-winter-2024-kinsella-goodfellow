{
 "cells": [
  {
   "cell_type": "markdown",
   "metadata": {
    "collapsed": true
   },
   "source": [
    "# APS106 - Fundamentals of Computer Programming\n",
    "## Week 5 | Lecture 2 (5.2) - Debugging\n",
    "\n",
    "### This Week\n",
    "| Lecture | Topics | Reading |\n",
    "| --- | --- | --- | \n",
    "| 5.1 | Strings Part 1 | |\n",
    "| 5.2 | Debugging | |\n",
    "| 5.3 | Strings Part 2 | | \n",
    "\n",
    "### Lecture Structure\n",
    "1. [Breakout Session 1](#section1)\n",
    "2. [Breakout Session 2](#section2)\n",
    "3. [Breakout Session 3](#section3)\n",
    "4. [Breakout Session 4](#section4)\n",
    "5. [Breakout Session 5](#section5)"
   ]
  },
  {
   "cell_type": "markdown",
   "metadata": {},
   "source": [
    "<a id='section1'></a>\n",
    "## 1. Breakout Session 1\n",
    "Write a program that will average 3 numeric exam grades, return an average test score, a corresponding letter grade, and a message stating whether the student is passing."
   ]
  },
  {
   "cell_type": "code",
   "execution_count": null,
   "metadata": {
    "scrolled": true
   },
   "outputs": [],
   "source": [
    "exam_one = int(input(\"Input exam grade one: \"))\n",
    "\n",
    "exam_two = input(\"Input exam grade two: \"))\n",
    "\n",
    "exam_3 = str(input(\"Input exam grade three: \"))\n",
    "\n",
    "sum = exam_one + exam_two + exam_3\n",
    "\n",
    "avg = sum / 3\n",
    "\n",
    "if avg >= 90:\n",
    "    letter_grade = \"A\"\n",
    "elif avg > 80 and avg < 90\n",
    "    letter_grade = \"A\"\n",
    "elif avg > 69 and avg < 80: \n",
    "    letter_grade = \"C'\n",
    "elif avg <= 69 and avg >= 65:\n",
    "    letter_grade = \"D\"\n",
    "elif:\n",
    "    letter_grade = \"F\"\n",
    "\n",
    "print(\"Exam 1: \" + str(exam_one))\n",
    "print(\"Exam 2: \" + str(exam_two))\n",
    "print(\"Exam 3: \" + str(exam_3))\n",
    "print(\"Average: \" + str(avg))\n",
    "print(\"Grade: \" + letter_grade)\n",
    "\n",
    "if letter-grade == \"F\":\n",
    "    print \"Student is failing.\"\n",
    "else:\n",
    "    print \"Student is passing.\""
   ]
  },
  {
   "cell_type": "markdown",
   "metadata": {},
   "source": [
    "<a id='section2'></a>\n",
    "## 2. Breakout Session 2\n",
    "Imagine we are running a space station. Your job is to evaluate the station's code and fix any errors. \n",
    "\n",
    "You must:\n",
    "- Launch the shuttle only if the fuel, crew and computer all check out OK.\n",
    "- If a check fails, print that information to the console and scrub the launch.\n",
    "- If all checks are successful, print a countdown to launch in the console."
   ]
  },
  {
   "cell_type": "code",
   "execution_count": null,
   "metadata": {},
   "outputs": [],
   "source": [
    "launch_ready = False #must be True to launch\n",
    "fuel_level = 17000   #must be > 20,000 to launch\n",
    "crew_status = True   #must be True to launch\n",
    "computer_status = 'green'  #must be 'green' to launch\n",
    "\n",
    "if fuel_level >= 20000:\n",
    "    print('Fuel Level Cleared.')\n",
    "    lunch_ready = True\n",
    "else:\n",
    "    print('WARNING: Insufficient fuel!'))\n",
    "    \n",
    "if crew_status == True and computerstatus == 'green':\n",
    "    print('Crew and computer cleared.')\n",
    "    launch_ready = True\n",
    "else:\n",
    "    print('WARNING: Crew or computer not ready!')\n",
    "    \n",
    "if launch_ready == True:\n",
    "    print('10, 9, 8, 7, 6, 5, 4, 3, 2, 1...')\n",
    "    print('Liftoff!')\n",
    "else:\n",
    "    print('Launch cancelled.')"
   ]
  },
  {
   "cell_type": "markdown",
   "metadata": {},
   "source": [
    "<a id='section3'></a>\n",
    "## 3. Breakout Session 3\n",
    "You are going shopping for meat and milk, but there is tax. You buy 3.00 dollars of milk and 4.00 dollars of meat, and the tax rate is 13%. Print out the total value of your groceries (you don't need to print the dollar sign).\n",
    "\n",
    "**Remember**, it's important to know what the expected output is! Do it by hand (or with your phone calculator) first! ($7.91)"
   ]
  },
  {
   "cell_type": "code",
   "execution_count": null,
   "metadata": {},
   "outputs": [],
   "source": [
    "meat_price = 4.00\n",
    "milk_price = 3.00\n",
    "milk_tax = 1.13 * milk_price\n",
    "meat_tax = 1.13 * meat_price\n",
    "print(meat_tax + meat_price + milk_tax + meat_price)"
   ]
  },
  {
   "cell_type": "markdown",
   "metadata": {},
   "source": [
    "<a id='section4'></a>\n",
    "## 4. Breakout Session 4\n",
    "Create an algorithm that estimates the square root of a value.  Use it to find a good approximation of the square root of 200. If your result is x, x^2 should **NOT** be greater than 200\n",
    "\n",
    "For reference, the square root of 200 is 14.1421356237"
   ]
  },
  {
   "cell_type": "code",
   "execution_count": null,
   "metadata": {},
   "outputs": [],
   "source": [
    "x = 0\n",
    "#step = 1\n",
    "\n",
    "while x^2 < 200:  #while x^2 is less than 200\n",
    "    x = x + 1   #increase x by step size of 1\n",
    "    #print(x)\n",
    "\n",
    "print('Estimated square root of 200:', x)\n",
    "#print(x**2)"
   ]
  },
  {
   "cell_type": "markdown",
   "metadata": {},
   "source": [
    "<a id='section5'></a>\n",
    "## 5. Breakout Session 5\n",
    "Calculation of the deflection of a beam. Find and correct the errors in the following code."
   ]
  },
  {
   "cell_type": "code",
   "execution_count": null,
   "metadata": {},
   "outputs": [],
   "source": [
    "P = 100           # Force applied in Newtons\n",
    "a = 6             # Distance in m to the force\n",
    "l = 13            # Total length of beam\n",
    "E = 2.0685e11     # Young’s modulus in Pa\n",
    "I = 0.005208      # Moment of inertia in m^4\n",
    "\n",
    "delta_max = P*a**2/6*E*I*(3*l-a)\n",
    "\n",
    "print(delta_max)"
   ]
  }
 ],
 "metadata": {
  "kernelspec": {
   "display_name": "Python 3 (ipykernel)",
   "language": "python",
   "name": "python3"
  },
  "language_info": {
   "codemirror_mode": {
    "name": "ipython",
    "version": 3
   },
   "file_extension": ".py",
   "mimetype": "text/x-python",
   "name": "python",
   "nbconvert_exporter": "python",
   "pygments_lexer": "ipython3",
   "version": "3.9.7"
  }
 },
 "nbformat": 4,
 "nbformat_minor": 1
}
