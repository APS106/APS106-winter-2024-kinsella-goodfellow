{
 "cells": [
  {
   "cell_type": "markdown",
   "id": "35d005c4",
   "metadata": {},
   "source": [
    "# APS106 Lecture Notes - Week 1, Lecture 2\n",
    "# The Coding Toolbox\n",
    "\n",
    "### This Week\n",
    "| Lecture | Topics | Reading |\n",
    "| --- | --- | --- | \n",
    "| 1.1 | Introduction | |\n",
    "| **1.2** | **The Coding Toolbox** | **Chapter 1.1-1.8**  |\n",
    "| 1.3 | Variables, Expressions, and Operators | Chapter 2 |\n",
    "\n",
    "### Lecture Structure\n",
    "1. [Executing Code in Jupyter](#section1)\n",
    "2. [Helpful Jupyter Tips](#section2)"
   ]
  },
  {
   "cell_type": "code",
   "execution_count": 2,
   "id": "ab8d4667",
   "metadata": {},
   "outputs": [],
   "source": []
  },
  {
   "cell_type": "code",
   "execution_count": null,
   "id": "c8d70461",
   "metadata": {},
   "outputs": [],
   "source": []
  }
 ],
 "metadata": {
  "kernelspec": {
   "display_name": "Python 3 (ipykernel)",
   "language": "python",
   "name": "python3"
  },
  "language_info": {
   "codemirror_mode": {
    "name": "ipython",
    "version": 3
   },
   "file_extension": ".py",
   "mimetype": "text/x-python",
   "name": "python",
   "nbconvert_exporter": "python",
   "pygments_lexer": "ipython3",
   "version": "3.10.9"
  }
 },
 "nbformat": 4,
 "nbformat_minor": 5
}
