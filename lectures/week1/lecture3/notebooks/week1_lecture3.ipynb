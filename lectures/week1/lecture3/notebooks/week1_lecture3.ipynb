{
 "cells": [
  {
   "cell_type": "markdown",
   "metadata": {},
   "source": [
    "# APS106 Lecture Notes - Week 1, Lecture 3\n",
    "# The Programming Process\n",
    "\n",
    "### This Week\n",
    "| Lecture | Topics | Reading |\n",
    "| --- | --- | --- | \n",
    "| 1.1 | Introduction | |\n",
    "| 1.2 | Variables, Expressions, and Operators | Section 1,2,3  |\n",
    "| **1.3** | **The Programming Process** | |\n",
    "\n",
    "### Lecture Structure\n",
    "1. [Calculating the Deflection of a Beam](#section1)\n",
    "2. [Calculating Chemical Rate Constants](#section2)"
   ]
  },
  {
   "cell_type": "markdown",
   "metadata": {},
   "source": [
    "**Programming is hard.** To solve a problem in software, you need to have not only a strong understanding of the syntax and the meaning of the statements in Python, you also have to hold the \"state\" of the program in your head: what are the current values of the variables, what is the next statement to be executed, how will that statement change the values of the variables?\n",
    "\n",
    "The less you have to keep in your head at one time, the easier it is to write working code. \n",
    "\n",
    "Hence:\n",
    "\n",
    "<div class=\"alert alert-block alert-warning\">\n",
    "<big><b>Golden Rule for Programmers</b></big>\n",
    "Never, never, never write code for more than 15 minutes without stopping and testing if what you have written works. </div>\n",
    "\n",
    "(As with all such \"rules for beginners\", as you become a better programming you will start to learn when you can break the rules. However, it is still the case that many professional software engineers take a \"test first, test often\" approach to writing code. E.g., [test-driven development](https://digital.ai/glossary/test-driven-development)).\n",
    "\n",
    "Write some code, run it, figure out if it is working. If it isn't fix it. If it is, write more code.\n",
    "\n",
    "We're going to test this out today with the following programming task.\n",
    "\n",
    "<a id='section1'></a>\n",
    "\n",
    "## Calculating the Deflection of a Beam\n",
    "\n",
    "The diagram below introduces a number of variables for the calculation of the deflection in a beam.  Write a program that can calculate the $\\delta_{max}$, or deflection of a beam.\n",
    "\n",
    "![alt text](images/deflection.png \"Deflection of a Beam\")\n",
    "\n",
    "\n",
    "Where:\n",
    "- $P$ is the force applied in newtons\n",
    "- $l$ is the beam length\n",
    "- $a$ is the distance to the force applies\n",
    "- $\\delta_{max}$ is the beam deflection\n",
    "\n",
    "The formula is: <big><big>$\\delta_{max} = \\frac{Pa^2}{6EI}(3l - a)$</big></big> where $E$ is Young's modulus, $I$ is the area moment of inertia of the cross-section.\n",
    "\n",
    "Since we have not yet studied how to get the user to input values into a program, let's assume that all these values are hard-coded.\n",
    "\n"
   ]
  },
  {
   "cell_type": "markdown",
   "metadata": {},
   "source": [
    "<div class=\"alert alert-block alert-warning\">\n",
    "<big><b>Oh No! That's way too much math.</b></big>\n",
    "\n",
    "First thought might be \"Oh no! That's a lot of math that I don't understand.\"\n",
    "\n",
    "Out of all the years I've been involved in this course we have never focussed on testing math skills.  Isolate the variables you need, use the given information (i.e. formulas) to your advantage, and problem solve like the great engineering students you are!</div>"
   ]
  },
  {
   "cell_type": "code",
   "execution_count": null,
   "metadata": {},
   "outputs": [],
   "source": [
    "# define the quantities in the problem\n",
    "P = 100         # Force applied in newtons\n",
    "a = 6           # distance in m to the force\n",
    "l = 13          # total length of beam\n",
    "E = 2.0685e11   # Young’s modulus in Pa\n",
    "I = 0.005208    # Moment of inertia in m^4\n",
    "\n",
    "# with the above quantities, the value of delta_max is 1.8379711471947547e-05"
   ]
  },
  {
   "cell_type": "markdown",
   "metadata": {},
   "source": [
    "If we are over-confident, we might just go ahead and write down the formula. "
   ]
  },
  {
   "cell_type": "code",
   "execution_count": null,
   "metadata": {
    "scrolled": true
   },
   "outputs": [],
   "source": [
    "# the wrong way to do things\n",
    "\n",
    "delta_max = Pa**2 / 6 * E * I * (3l - a)"
   ]
  },
  {
   "cell_type": "markdown",
   "metadata": {},
   "source": [
    "Note the error message tells us we have written something that isn't Python. We have not used the correct form - like writing an ungrammatical sentence in English or mis-spelling a word.\n",
    "\n",
    "In fact, there are a number of errors above and it is going to be tedious to find them all if we start from the above code. Let's start again."
   ]
  },
  {
   "cell_type": "code",
   "execution_count": null,
   "metadata": {},
   "outputs": [],
   "source": [
    "# with the above quantities, the value of delta_max is 1.8379711471947547e-05\n",
    "numerator = Pa ** 2\n",
    "print(numerator)"
   ]
  },
  {
   "cell_type": "markdown",
   "metadata": {},
   "source": [
    "This error message is a bit more helpful. Python says there is no variable named Pa. Which is true. (Python is usually right). We actually want to multiply the variable `P` by the variable `a` and we forgot that Python uses the `*` operator for multiplication. So we can modify the code."
   ]
  },
  {
   "cell_type": "code",
   "execution_count": null,
   "metadata": {},
   "outputs": [],
   "source": [
    "numerator = P*a** 2\n",
    "print(numerator)"
   ]
  },
  {
   "cell_type": "markdown",
   "metadata": {},
   "source": [
    "Is this correct? What could be wrong? (You should be paranoid about your code.)\n",
    "\n",
    "Maybe some spaces can help to make this code clearer."
   ]
  },
  {
   "cell_type": "code",
   "execution_count": null,
   "metadata": {},
   "outputs": [],
   "source": [
    "numerator = P * a**2\n",
    "print(numerator)"
   ]
  },
  {
   "cell_type": "markdown",
   "metadata": {},
   "source": [
    "This code does the same thing as above, but the spaces make it easier to understand that the exponentiation operator has higher precedence and that that is what you wanted. \n",
    "\n",
    "OK, now what?"
   ]
  },
  {
   "cell_type": "code",
   "execution_count": null,
   "metadata": {},
   "outputs": [],
   "source": [
    "demon = 6 * E * I\n",
    "print(denom)"
   ]
  },
  {
   "cell_type": "markdown",
   "metadata": {},
   "source": [
    "OK, this is just a typo ..."
   ]
  },
  {
   "cell_type": "code",
   "execution_count": null,
   "metadata": {},
   "outputs": [],
   "source": [
    "denom = 6 * E * I\n",
    "print(denom)"
   ]
  },
  {
   "cell_type": "markdown",
   "metadata": {},
   "source": [
    "OK, let's try to put them together."
   ]
  },
  {
   "cell_type": "code",
   "execution_count": null,
   "metadata": {},
   "outputs": [],
   "source": [
    "delta_max = numerator/denom * (3l - a)\n",
    "print(delta_max)"
   ]
  },
  {
   "cell_type": "markdown",
   "metadata": {},
   "source": [
    "OK, we still haven't figured out multiplication."
   ]
  },
  {
   "cell_type": "code",
   "execution_count": null,
   "metadata": {},
   "outputs": [],
   "source": [
    "delta_max = numerator/denom * (3*l - a)\n",
    "print(delta_max)"
   ]
  },
  {
   "cell_type": "markdown",
   "metadata": {},
   "source": [
    "So let's put it all together."
   ]
  },
  {
   "cell_type": "code",
   "execution_count": null,
   "metadata": {},
   "outputs": [],
   "source": [
    "#define the quantities in the problem\n",
    "P = 100         # Force applied in newtons\n",
    "a = 6           # distance in m to the force\n",
    "l = 13          # total length of beam\n",
    "E = 2.0685e11   # Young’s modulus in Pa\n",
    "I = 0.005208    # Moment of inertia in m^4\n",
    "\n",
    "# with the above quantities, the value of delta_max is 1.8379711471947547e-05\n",
    "numerator = P * a**2\n",
    "denom = 6 * E * I\n",
    "delta_max = numerator/denom * (3*l - a)\n",
    "print(delta_max)"
   ]
  },
  {
   "cell_type": "markdown",
   "metadata": {},
   "source": [
    "Looks like it works. Is there anything that you don't like about the code? If you were reading it for the first time, is there something you would be confused about?\n",
    "\n",
    "How about some better variable names?"
   ]
  },
  {
   "cell_type": "code",
   "execution_count": null,
   "metadata": {},
   "outputs": [],
   "source": [
    "#define the quantities in the problem\n",
    "force = 100                  # Force applied in newtons\n",
    "dist_to_force = 6            # distance in m to the force\n",
    "beam_length = 13             # total length of beam\n",
    "Youngs_mod = 2.0685e11       # Young’s modulus in Pa\n",
    "moment_inertia = 0.005208    # Moment of inertia in m^4\n",
    "\n",
    "# with the above quantities, the value of delta_max is 1.8379711471947547e-05\n",
    "numerator = force * dist_to_force**2\n",
    "denom = 6 * Youngs_mod * moment_inertia\n",
    "delta_max = numerator/denom * (3*beam_length - dist_to_force)\n",
    "print(delta_max)"
   ]
  },
  {
   "cell_type": "markdown",
   "metadata": {},
   "source": [
    "<div class=\"alert alert-block alert-info\">\n",
    "<big><b>What Was I Supposed to Learn From All That?</b></big>\n",
    "<ul>  \n",
    "    <li>You are going to make mistakes and most of your time programming is going to be looking for your mistakes.</li>\n",
    "    <li>Program in a way to make mistakes easy to find.</li>\n",
    "    <li>It is easier to write little bits of code and make sure they are working than to write all sorts of code and then try to figure out why it doesn't work.</li>\n",
    "</ul>  \n",
    "</div>\n"
   ]
  },
  {
   "cell_type": "markdown",
   "metadata": {},
   "source": [
    "<a id='section2'></a>\n",
    "\n",
    "## Calculating Chemical Rate Constants\n",
    "\n",
    "The Arrhenius equation is:\n",
    "\n",
    "<big><big>$k = Ae^{\\frac{-E_a}{RT}}$</big></big>\n",
    "\n",
    "Where:\n",
    "- $A$ is the \"pre-exponential factor\": assume it is 80\n",
    "- $e$ is Euler's number: 2.718281828\n",
    "- $E_a$ is the activation energy: 108000\n",
    "- $T$ is the temperature in kelvin\n",
    "- $R$ is the universal gas constant: 8.3144598\n",
    "- $k$ is the rate constant\n",
    "\n",
    "Assume that you are given the temperature as 95 degrees fahrenheit. Under these assumptions, calculate $k$ (answer should be 3.9474300434096683e-17).\n",
    "\n",
    "Write the code!"
   ]
  },
  {
   "cell_type": "markdown",
   "metadata": {},
   "source": [
    "Steps in a **Programming Plan** (what you do to write the code):\n",
    "1. Define the variables and assign the values.\n",
    "2. Convert degrees F to degrees K.\n",
    "3. Test\n",
    "4. Calculate the exponent.\n",
    "5. Test\n",
    "6. Calculate $k$.\n",
    "7. Test\n",
    "\n",
    "Often we will not explicitly include steps 3,5,7. You should assume that testing comes at each step.\n",
    "\n",
    "#### Step 1: Define the variables and assign the values."
   ]
  },
  {
   "cell_type": "code",
   "execution_count": null,
   "metadata": {},
   "outputs": [],
   "source": [
    "# Calculate the rate constant\n",
    "\n",
    "A = 80          # pre-exponential factor\n",
    "e = 2.718281828 # Euler's number\n",
    "Ea = 108000     # Activation energy\n",
    "Tf = 95         # temperature in fahrenheit\n",
    "R = 8.3144598   # universal gas constant\n",
    "# k should be 3.9474300434096683e-17"
   ]
  },
  {
   "cell_type": "markdown",
   "metadata": {},
   "source": [
    "Why did I bother executing the code above? It doesn't show me anything."
   ]
  },
  {
   "cell_type": "markdown",
   "metadata": {},
   "source": [
    "#### Step 2: Convert degrees F to degrees K"
   ]
  },
  {
   "cell_type": "code",
   "execution_count": null,
   "metadata": {},
   "outputs": [],
   "source": [
    "celsius = (Tf - 32) * 5/9\n",
    "kelvin = celsius + 273.15\n",
    "print(kelvin)"
   ]
  },
  {
   "cell_type": "markdown",
   "metadata": {},
   "source": [
    "#### Step 3: Test"
   ]
  },
  {
   "cell_type": "code",
   "execution_count": null,
   "metadata": {},
   "outputs": [],
   "source": [
    "Tf = 212  #we can look up that 212 fahrenheit = 373.15 kelvin\n",
    "celsius = (Tf - 32) * 5/9\n",
    "kelvin = celsius + 273.15\n",
    "print(kelvin)"
   ]
  },
  {
   "cell_type": "markdown",
   "metadata": {},
   "source": [
    "#### Step 4: Calculate the Exponent"
   ]
  },
  {
   "cell_type": "code",
   "execution_count": null,
   "metadata": {},
   "outputs": [],
   "source": [
    "exponent = -Ea / (R*T)"
   ]
  },
  {
   "cell_type": "code",
   "execution_count": null,
   "metadata": {},
   "outputs": [],
   "source": [
    "exponent = -Ea / (R*kelvin)\n",
    "print(exponent)"
   ]
  },
  {
   "cell_type": "markdown",
   "metadata": {},
   "source": [
    "#### Step 5: Test\n",
    "\n",
    "Is this correct?\n",
    "\n",
    "#### Step 6: Calculate $k$"
   ]
  },
  {
   "cell_type": "code",
   "execution_count": null,
   "metadata": {},
   "outputs": [],
   "source": [
    "k = A * e**exponent\n",
    "print(k)"
   ]
  },
  {
   "cell_type": "markdown",
   "metadata": {},
   "source": [
    "#### Step 7: Test\n",
    "\n",
    "Put in some more numbers to see if it just isn't by chance that you get the \"right\" answer.\n",
    "\n",
    "Putting it all together."
   ]
  },
  {
   "cell_type": "code",
   "execution_count": null,
   "metadata": {},
   "outputs": [],
   "source": [
    "# Calculate the rate constant\n",
    "\n",
    "A = 80          # pre-exponential factor\n",
    "e = 2.718281828 # Euler's number\n",
    "Ea = 108000     # Activation energy\n",
    "Tf = 95         # temperature in fahrenheit\n",
    "R = 8.3144598   # universal gas constant\n",
    "# k should be 3.9474300434096683e-17\n",
    "\n",
    "celsius = (Tf - 32) * 5/9\n",
    "kelvin = celsius + 273.15\n",
    "\n",
    "exponent = -Ea / (R*kelvin)\n",
    "\n",
    "k = A * e**exponent\n",
    "print(k)"
   ]
  },
  {
   "cell_type": "markdown",
   "metadata": {
    "scrolled": true
   },
   "source": [
    "Can we do anything to improve the code?\n",
    "\n",
    "Calculating the temperature via celsius seems a bit unnecessary."
   ]
  },
  {
   "cell_type": "code",
   "execution_count": null,
   "metadata": {},
   "outputs": [],
   "source": [
    "# Calculate the rate constant\n",
    "\n",
    "A = 80          # pre-exponential factor\n",
    "e = 2.718281828 # Euler's number\n",
    "Ea = 108000     # Activation energy\n",
    "Tf = 95         # temperature in fahrenheit\n",
    "R = 8.3144598   # universal gas constant\n",
    "# k should be 3.9474300434096683e-17\n",
    "\n",
    "kelvin = (Tf - 32) * 5/9 + 273.15\n",
    "exponent = -Ea / (R * kelvin)\n",
    "\n",
    "k = A * e**exponent\n",
    "print(k)"
   ]
  },
  {
   "cell_type": "markdown",
   "metadata": {
    "scrolled": true
   },
   "source": [
    "Could even consider getting rid of exponent. Not clear if it is better or worse."
   ]
  },
  {
   "cell_type": "code",
   "execution_count": null,
   "metadata": {},
   "outputs": [],
   "source": [
    "# Calculate the rate constant\n",
    "\n",
    "A = 80          # pre-exponential factor\n",
    "e = 2.718281828 # Euler's number\n",
    "Ea = 108000     # Activation energy\n",
    "Tf = 95         # temperature in fahrenheit\n",
    "R = 8.3144598   # universal gas constant\n",
    "# k should be 3.9474300434096683e-17\n",
    "\n",
    "kelvin = (Tf - 32) * 5/9 + 273.15\n",
    "k = A * e**(-Ea / (R * kelvin))\n",
    "print(k)"
   ]
  },
  {
   "cell_type": "markdown",
   "metadata": {},
   "source": [
    "<div class=\"alert alert-block alert-info\">\n",
    "<big><b>This Lecture</b></big>\n",
    "<ul>  \n",
    "    <li>The Process of Programming</li>\n",
    "    <li>Golden Rule of Programming</li>\n",
    "    <li>Code, Test, Code, Test, Repeat</li>\n",
    "</ul>  \n",
    "</div>\n"
   ]
  },
  {
   "cell_type": "code",
   "execution_count": null,
   "metadata": {},
   "outputs": [],
   "source": []
  },
  {
   "cell_type": "code",
   "execution_count": null,
   "metadata": {},
   "outputs": [],
   "source": []
  },
  {
   "cell_type": "code",
   "execution_count": null,
   "metadata": {},
   "outputs": [],
   "source": []
  },
  {
   "cell_type": "code",
   "execution_count": null,
   "metadata": {},
   "outputs": [],
   "source": []
  },
  {
   "cell_type": "code",
   "execution_count": null,
   "metadata": {},
   "outputs": [],
   "source": []
  }
 ],
 "metadata": {
  "kernelspec": {
   "display_name": "Python 3 (ipykernel)",
   "language": "python",
   "name": "python3"
  },
  "language_info": {
   "codemirror_mode": {
    "name": "ipython",
    "version": 3
   },
   "file_extension": ".py",
   "mimetype": "text/x-python",
   "name": "python",
   "nbconvert_exporter": "python",
   "pygments_lexer": "ipython3",
   "version": "3.9.7"
  }
 },
 "nbformat": 4,
 "nbformat_minor": 1
}
